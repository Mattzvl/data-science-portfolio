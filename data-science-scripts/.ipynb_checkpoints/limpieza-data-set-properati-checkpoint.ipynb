{
 "cells": [
  {
   "cell_type": "markdown",
   "metadata": {},
   "source": [
    "# Limpieza de Datos"
   ]
  },
  {
   "cell_type": "markdown",
   "metadata": {},
   "source": [
    "### Importamos las Librerias"
   ]
  },
  {
   "cell_type": "code",
   "execution_count": 1,
   "metadata": {},
   "outputs": [],
   "source": [
    "import pandas as pd\n",
    "import numpy as np\n",
    "import seaborn as sns\n",
    "from pandas_profiling import ProfileReport\n",
    "import warnings\n",
    "warnings.filterwarnings('ignore')"
   ]
  },
  {
   "cell_type": "markdown",
   "metadata": {},
   "source": [
    "### Importamos los Datos"
   ]
  },
  {
   "cell_type": "code",
   "execution_count": 2,
   "metadata": {},
   "outputs": [],
   "source": [
    "# importing dataset\n",
    "location = r\"../data/properati.csv\" ## un '.' busca en la carpeta que lo contiene\n",
    "data=pd.read_csv(location,sep=',')"
   ]
  },
  {
   "cell_type": "markdown",
   "metadata": {},
   "source": [
    "### Analizamos la estructura del Dataframe"
   ]
  },
  {
   "cell_type": "code",
   "execution_count": 3,
   "metadata": {},
   "outputs": [],
   "source": [
    "#Resumir el Dataset\n",
    "def Summary(data):\n",
    "    data_null=data.isnull().sum()\n",
    "    data_Not_Null=data.notnull().sum()\n",
    "    data_total=data.shape[0]\n",
    "    data_id=data.index\n",
    "    data_null_porc=(data_null*100/data_total).round(2)\n",
    "    data_type=data.dtypes\n",
    "#     data_min=data.min()\n",
    "#     data_mean=data.mean()\n",
    "#     data_max=data.max()\n",
    "\n",
    "    dataSumm=pd.DataFrame({'Tipo Dato':data_type,\n",
    "                        'No Nulos':data_Not_Null,\n",
    "                       'Nulos':data_null,\n",
    "                       'Total':data_total,\n",
    "                        '% Nulos':data_null_porc,\n",
    "#                         'Minimo':data_min,\n",
    "#                         'Media':data_mean,\n",
    "#                         'Maximo':data_max\n",
    "                          }).sort_values(by='% Nulos',ascending=False)\n",
    "    return dataSumm"
   ]
  },
  {
   "cell_type": "code",
   "execution_count": 4,
   "metadata": {},
   "outputs": [
    {
     "data": {
      "text/html": [
       "<div>\n",
       "<style scoped>\n",
       "    .dataframe tbody tr th:only-of-type {\n",
       "        vertical-align: middle;\n",
       "    }\n",
       "\n",
       "    .dataframe tbody tr th {\n",
       "        vertical-align: top;\n",
       "    }\n",
       "\n",
       "    .dataframe thead th {\n",
       "        text-align: right;\n",
       "    }\n",
       "</style>\n",
       "<table border=\"1\" class=\"dataframe\">\n",
       "  <thead>\n",
       "    <tr style=\"text-align: right;\">\n",
       "      <th></th>\n",
       "      <th>Tipo Dato</th>\n",
       "      <th>No Nulos</th>\n",
       "      <th>Nulos</th>\n",
       "      <th>Total</th>\n",
       "      <th>% Nulos</th>\n",
       "    </tr>\n",
       "  </thead>\n",
       "  <tbody>\n",
       "    <tr>\n",
       "      <th>expenses</th>\n",
       "      <td>float64</td>\n",
       "      <td>60</td>\n",
       "      <td>1471</td>\n",
       "      <td>1531</td>\n",
       "      <td>96.08</td>\n",
       "    </tr>\n",
       "    <tr>\n",
       "      <th>floor</th>\n",
       "      <td>float64</td>\n",
       "      <td>149</td>\n",
       "      <td>1382</td>\n",
       "      <td>1531</td>\n",
       "      <td>90.27</td>\n",
       "    </tr>\n",
       "    <tr>\n",
       "      <th>rooms</th>\n",
       "      <td>float64</td>\n",
       "      <td>949</td>\n",
       "      <td>582</td>\n",
       "      <td>1531</td>\n",
       "      <td>38.01</td>\n",
       "    </tr>\n",
       "    <tr>\n",
       "      <th>price_usd_per_m2</th>\n",
       "      <td>float64</td>\n",
       "      <td>999</td>\n",
       "      <td>532</td>\n",
       "      <td>1531</td>\n",
       "      <td>34.75</td>\n",
       "    </tr>\n",
       "    <tr>\n",
       "      <th>surface_total_in_m2</th>\n",
       "      <td>float64</td>\n",
       "      <td>1149</td>\n",
       "      <td>382</td>\n",
       "      <td>1531</td>\n",
       "      <td>24.95</td>\n",
       "    </tr>\n",
       "    <tr>\n",
       "      <th>price_per_m2</th>\n",
       "      <td>float64</td>\n",
       "      <td>1170</td>\n",
       "      <td>361</td>\n",
       "      <td>1531</td>\n",
       "      <td>23.58</td>\n",
       "    </tr>\n",
       "    <tr>\n",
       "      <th>geonames_id</th>\n",
       "      <td>float64</td>\n",
       "      <td>1175</td>\n",
       "      <td>356</td>\n",
       "      <td>1531</td>\n",
       "      <td>23.25</td>\n",
       "    </tr>\n",
       "    <tr>\n",
       "      <th>price_aprox_local_currency</th>\n",
       "      <td>float64</td>\n",
       "      <td>1290</td>\n",
       "      <td>241</td>\n",
       "      <td>1531</td>\n",
       "      <td>15.74</td>\n",
       "    </tr>\n",
       "    <tr>\n",
       "      <th>price</th>\n",
       "      <td>float64</td>\n",
       "      <td>1290</td>\n",
       "      <td>241</td>\n",
       "      <td>1531</td>\n",
       "      <td>15.74</td>\n",
       "    </tr>\n",
       "    <tr>\n",
       "      <th>currency</th>\n",
       "      <td>object</td>\n",
       "      <td>1290</td>\n",
       "      <td>241</td>\n",
       "      <td>1531</td>\n",
       "      <td>15.74</td>\n",
       "    </tr>\n",
       "    <tr>\n",
       "      <th>price_aprox_usd</th>\n",
       "      <td>float64</td>\n",
       "      <td>1290</td>\n",
       "      <td>241</td>\n",
       "      <td>1531</td>\n",
       "      <td>15.74</td>\n",
       "    </tr>\n",
       "    <tr>\n",
       "      <th>surface_covered_in_m2</th>\n",
       "      <td>float64</td>\n",
       "      <td>1309</td>\n",
       "      <td>222</td>\n",
       "      <td>1531</td>\n",
       "      <td>14.50</td>\n",
       "    </tr>\n",
       "    <tr>\n",
       "      <th>lat-lon</th>\n",
       "      <td>object</td>\n",
       "      <td>1348</td>\n",
       "      <td>183</td>\n",
       "      <td>1531</td>\n",
       "      <td>11.95</td>\n",
       "    </tr>\n",
       "    <tr>\n",
       "      <th>lat</th>\n",
       "      <td>float64</td>\n",
       "      <td>1348</td>\n",
       "      <td>183</td>\n",
       "      <td>1531</td>\n",
       "      <td>11.95</td>\n",
       "    </tr>\n",
       "    <tr>\n",
       "      <th>lon</th>\n",
       "      <td>float64</td>\n",
       "      <td>1348</td>\n",
       "      <td>183</td>\n",
       "      <td>1531</td>\n",
       "      <td>11.95</td>\n",
       "    </tr>\n",
       "    <tr>\n",
       "      <th>image_thumbnail</th>\n",
       "      <td>object</td>\n",
       "      <td>1525</td>\n",
       "      <td>6</td>\n",
       "      <td>1531</td>\n",
       "      <td>0.39</td>\n",
       "    </tr>\n",
       "    <tr>\n",
       "      <th>operation</th>\n",
       "      <td>object</td>\n",
       "      <td>1531</td>\n",
       "      <td>0</td>\n",
       "      <td>1531</td>\n",
       "      <td>0.00</td>\n",
       "    </tr>\n",
       "    <tr>\n",
       "      <th>state_name</th>\n",
       "      <td>object</td>\n",
       "      <td>1531</td>\n",
       "      <td>0</td>\n",
       "      <td>1531</td>\n",
       "      <td>0.00</td>\n",
       "    </tr>\n",
       "    <tr>\n",
       "      <th>country_name</th>\n",
       "      <td>object</td>\n",
       "      <td>1531</td>\n",
       "      <td>0</td>\n",
       "      <td>1531</td>\n",
       "      <td>0.00</td>\n",
       "    </tr>\n",
       "    <tr>\n",
       "      <th>place_with_parent_names</th>\n",
       "      <td>object</td>\n",
       "      <td>1531</td>\n",
       "      <td>0</td>\n",
       "      <td>1531</td>\n",
       "      <td>0.00</td>\n",
       "    </tr>\n",
       "    <tr>\n",
       "      <th>place_name</th>\n",
       "      <td>object</td>\n",
       "      <td>1531</td>\n",
       "      <td>0</td>\n",
       "      <td>1531</td>\n",
       "      <td>0.00</td>\n",
       "    </tr>\n",
       "    <tr>\n",
       "      <th>property_type</th>\n",
       "      <td>object</td>\n",
       "      <td>1531</td>\n",
       "      <td>0</td>\n",
       "      <td>1531</td>\n",
       "      <td>0.00</td>\n",
       "    </tr>\n",
       "    <tr>\n",
       "      <th>properati_url</th>\n",
       "      <td>object</td>\n",
       "      <td>1531</td>\n",
       "      <td>0</td>\n",
       "      <td>1531</td>\n",
       "      <td>0.00</td>\n",
       "    </tr>\n",
       "    <tr>\n",
       "      <th>description</th>\n",
       "      <td>object</td>\n",
       "      <td>1531</td>\n",
       "      <td>0</td>\n",
       "      <td>1531</td>\n",
       "      <td>0.00</td>\n",
       "    </tr>\n",
       "    <tr>\n",
       "      <th>title</th>\n",
       "      <td>object</td>\n",
       "      <td>1531</td>\n",
       "      <td>0</td>\n",
       "      <td>1531</td>\n",
       "      <td>0.00</td>\n",
       "    </tr>\n",
       "    <tr>\n",
       "      <th>Unnamed: 0</th>\n",
       "      <td>int64</td>\n",
       "      <td>1531</td>\n",
       "      <td>0</td>\n",
       "      <td>1531</td>\n",
       "      <td>0.00</td>\n",
       "    </tr>\n",
       "  </tbody>\n",
       "</table>\n",
       "</div>"
      ],
      "text/plain": [
       "                           Tipo Dato  No Nulos  Nulos  Total  % Nulos\n",
       "expenses                     float64        60   1471   1531    96.08\n",
       "floor                        float64       149   1382   1531    90.27\n",
       "rooms                        float64       949    582   1531    38.01\n",
       "price_usd_per_m2             float64       999    532   1531    34.75\n",
       "surface_total_in_m2          float64      1149    382   1531    24.95\n",
       "price_per_m2                 float64      1170    361   1531    23.58\n",
       "geonames_id                  float64      1175    356   1531    23.25\n",
       "price_aprox_local_currency   float64      1290    241   1531    15.74\n",
       "price                        float64      1290    241   1531    15.74\n",
       "currency                      object      1290    241   1531    15.74\n",
       "price_aprox_usd              float64      1290    241   1531    15.74\n",
       "surface_covered_in_m2        float64      1309    222   1531    14.50\n",
       "lat-lon                       object      1348    183   1531    11.95\n",
       "lat                          float64      1348    183   1531    11.95\n",
       "lon                          float64      1348    183   1531    11.95\n",
       "image_thumbnail               object      1525      6   1531     0.39\n",
       "operation                     object      1531      0   1531     0.00\n",
       "state_name                    object      1531      0   1531     0.00\n",
       "country_name                  object      1531      0   1531     0.00\n",
       "place_with_parent_names       object      1531      0   1531     0.00\n",
       "place_name                    object      1531      0   1531     0.00\n",
       "property_type                 object      1531      0   1531     0.00\n",
       "properati_url                 object      1531      0   1531     0.00\n",
       "description                   object      1531      0   1531     0.00\n",
       "title                         object      1531      0   1531     0.00\n",
       "Unnamed: 0                     int64      1531      0   1531     0.00"
      ]
     },
     "execution_count": 4,
     "metadata": {},
     "output_type": "execute_result"
    }
   ],
   "source": [
    "# #Genero el resumen en Excel\n",
    "Summary(data)\n",
    "# Summary(data).to_excel('Summary.xlsx',sheet_name='Hoja1')"
   ]
  },
  {
   "cell_type": "markdown",
   "metadata": {},
   "source": [
    "Eliminamos los Campos con mas del 60% Nulos que no tienen relevancia para el analisis"
   ]
  },
  {
   "cell_type": "code",
   "execution_count": 5,
   "metadata": {},
   "outputs": [],
   "source": [
    "# Eliminamos campos con mas de 60% de Nulos\n",
    "data_mdf=data.copy()\n",
    "data_mdf.drop(columns=['expenses','Unnamed: 0'],inplace=True)"
   ]
  },
  {
   "cell_type": "code",
   "execution_count": 6,
   "metadata": {},
   "outputs": [
    {
     "data": {
      "text/html": [
       "<div>\n",
       "<style scoped>\n",
       "    .dataframe tbody tr th:only-of-type {\n",
       "        vertical-align: middle;\n",
       "    }\n",
       "\n",
       "    .dataframe tbody tr th {\n",
       "        vertical-align: top;\n",
       "    }\n",
       "\n",
       "    .dataframe thead th {\n",
       "        text-align: right;\n",
       "    }\n",
       "</style>\n",
       "<table border=\"1\" class=\"dataframe\">\n",
       "  <thead>\n",
       "    <tr style=\"text-align: right;\">\n",
       "      <th></th>\n",
       "      <th>Tipo Dato</th>\n",
       "      <th>No Nulos</th>\n",
       "      <th>Nulos</th>\n",
       "      <th>Total</th>\n",
       "      <th>% Nulos</th>\n",
       "    </tr>\n",
       "  </thead>\n",
       "  <tbody>\n",
       "    <tr>\n",
       "      <th>floor</th>\n",
       "      <td>float64</td>\n",
       "      <td>149</td>\n",
       "      <td>1382</td>\n",
       "      <td>1531</td>\n",
       "      <td>90.27</td>\n",
       "    </tr>\n",
       "    <tr>\n",
       "      <th>rooms</th>\n",
       "      <td>float64</td>\n",
       "      <td>949</td>\n",
       "      <td>582</td>\n",
       "      <td>1531</td>\n",
       "      <td>38.01</td>\n",
       "    </tr>\n",
       "    <tr>\n",
       "      <th>price_usd_per_m2</th>\n",
       "      <td>float64</td>\n",
       "      <td>999</td>\n",
       "      <td>532</td>\n",
       "      <td>1531</td>\n",
       "      <td>34.75</td>\n",
       "    </tr>\n",
       "    <tr>\n",
       "      <th>surface_total_in_m2</th>\n",
       "      <td>float64</td>\n",
       "      <td>1149</td>\n",
       "      <td>382</td>\n",
       "      <td>1531</td>\n",
       "      <td>24.95</td>\n",
       "    </tr>\n",
       "    <tr>\n",
       "      <th>price_per_m2</th>\n",
       "      <td>float64</td>\n",
       "      <td>1170</td>\n",
       "      <td>361</td>\n",
       "      <td>1531</td>\n",
       "      <td>23.58</td>\n",
       "    </tr>\n",
       "    <tr>\n",
       "      <th>geonames_id</th>\n",
       "      <td>float64</td>\n",
       "      <td>1175</td>\n",
       "      <td>356</td>\n",
       "      <td>1531</td>\n",
       "      <td>23.25</td>\n",
       "    </tr>\n",
       "    <tr>\n",
       "      <th>price_aprox_local_currency</th>\n",
       "      <td>float64</td>\n",
       "      <td>1290</td>\n",
       "      <td>241</td>\n",
       "      <td>1531</td>\n",
       "      <td>15.74</td>\n",
       "    </tr>\n",
       "    <tr>\n",
       "      <th>price</th>\n",
       "      <td>float64</td>\n",
       "      <td>1290</td>\n",
       "      <td>241</td>\n",
       "      <td>1531</td>\n",
       "      <td>15.74</td>\n",
       "    </tr>\n",
       "    <tr>\n",
       "      <th>currency</th>\n",
       "      <td>object</td>\n",
       "      <td>1290</td>\n",
       "      <td>241</td>\n",
       "      <td>1531</td>\n",
       "      <td>15.74</td>\n",
       "    </tr>\n",
       "    <tr>\n",
       "      <th>price_aprox_usd</th>\n",
       "      <td>float64</td>\n",
       "      <td>1290</td>\n",
       "      <td>241</td>\n",
       "      <td>1531</td>\n",
       "      <td>15.74</td>\n",
       "    </tr>\n",
       "    <tr>\n",
       "      <th>surface_covered_in_m2</th>\n",
       "      <td>float64</td>\n",
       "      <td>1309</td>\n",
       "      <td>222</td>\n",
       "      <td>1531</td>\n",
       "      <td>14.50</td>\n",
       "    </tr>\n",
       "    <tr>\n",
       "      <th>lat-lon</th>\n",
       "      <td>object</td>\n",
       "      <td>1348</td>\n",
       "      <td>183</td>\n",
       "      <td>1531</td>\n",
       "      <td>11.95</td>\n",
       "    </tr>\n",
       "    <tr>\n",
       "      <th>lat</th>\n",
       "      <td>float64</td>\n",
       "      <td>1348</td>\n",
       "      <td>183</td>\n",
       "      <td>1531</td>\n",
       "      <td>11.95</td>\n",
       "    </tr>\n",
       "    <tr>\n",
       "      <th>lon</th>\n",
       "      <td>float64</td>\n",
       "      <td>1348</td>\n",
       "      <td>183</td>\n",
       "      <td>1531</td>\n",
       "      <td>11.95</td>\n",
       "    </tr>\n",
       "    <tr>\n",
       "      <th>image_thumbnail</th>\n",
       "      <td>object</td>\n",
       "      <td>1525</td>\n",
       "      <td>6</td>\n",
       "      <td>1531</td>\n",
       "      <td>0.39</td>\n",
       "    </tr>\n",
       "    <tr>\n",
       "      <th>property_type</th>\n",
       "      <td>object</td>\n",
       "      <td>1531</td>\n",
       "      <td>0</td>\n",
       "      <td>1531</td>\n",
       "      <td>0.00</td>\n",
       "    </tr>\n",
       "    <tr>\n",
       "      <th>state_name</th>\n",
       "      <td>object</td>\n",
       "      <td>1531</td>\n",
       "      <td>0</td>\n",
       "      <td>1531</td>\n",
       "      <td>0.00</td>\n",
       "    </tr>\n",
       "    <tr>\n",
       "      <th>country_name</th>\n",
       "      <td>object</td>\n",
       "      <td>1531</td>\n",
       "      <td>0</td>\n",
       "      <td>1531</td>\n",
       "      <td>0.00</td>\n",
       "    </tr>\n",
       "    <tr>\n",
       "      <th>place_with_parent_names</th>\n",
       "      <td>object</td>\n",
       "      <td>1531</td>\n",
       "      <td>0</td>\n",
       "      <td>1531</td>\n",
       "      <td>0.00</td>\n",
       "    </tr>\n",
       "    <tr>\n",
       "      <th>place_name</th>\n",
       "      <td>object</td>\n",
       "      <td>1531</td>\n",
       "      <td>0</td>\n",
       "      <td>1531</td>\n",
       "      <td>0.00</td>\n",
       "    </tr>\n",
       "    <tr>\n",
       "      <th>properati_url</th>\n",
       "      <td>object</td>\n",
       "      <td>1531</td>\n",
       "      <td>0</td>\n",
       "      <td>1531</td>\n",
       "      <td>0.00</td>\n",
       "    </tr>\n",
       "    <tr>\n",
       "      <th>description</th>\n",
       "      <td>object</td>\n",
       "      <td>1531</td>\n",
       "      <td>0</td>\n",
       "      <td>1531</td>\n",
       "      <td>0.00</td>\n",
       "    </tr>\n",
       "    <tr>\n",
       "      <th>title</th>\n",
       "      <td>object</td>\n",
       "      <td>1531</td>\n",
       "      <td>0</td>\n",
       "      <td>1531</td>\n",
       "      <td>0.00</td>\n",
       "    </tr>\n",
       "    <tr>\n",
       "      <th>operation</th>\n",
       "      <td>object</td>\n",
       "      <td>1531</td>\n",
       "      <td>0</td>\n",
       "      <td>1531</td>\n",
       "      <td>0.00</td>\n",
       "    </tr>\n",
       "  </tbody>\n",
       "</table>\n",
       "</div>"
      ],
      "text/plain": [
       "                           Tipo Dato  No Nulos  Nulos  Total  % Nulos\n",
       "floor                        float64       149   1382   1531    90.27\n",
       "rooms                        float64       949    582   1531    38.01\n",
       "price_usd_per_m2             float64       999    532   1531    34.75\n",
       "surface_total_in_m2          float64      1149    382   1531    24.95\n",
       "price_per_m2                 float64      1170    361   1531    23.58\n",
       "geonames_id                  float64      1175    356   1531    23.25\n",
       "price_aprox_local_currency   float64      1290    241   1531    15.74\n",
       "price                        float64      1290    241   1531    15.74\n",
       "currency                      object      1290    241   1531    15.74\n",
       "price_aprox_usd              float64      1290    241   1531    15.74\n",
       "surface_covered_in_m2        float64      1309    222   1531    14.50\n",
       "lat-lon                       object      1348    183   1531    11.95\n",
       "lat                          float64      1348    183   1531    11.95\n",
       "lon                          float64      1348    183   1531    11.95\n",
       "image_thumbnail               object      1525      6   1531     0.39\n",
       "property_type                 object      1531      0   1531     0.00\n",
       "state_name                    object      1531      0   1531     0.00\n",
       "country_name                  object      1531      0   1531     0.00\n",
       "place_with_parent_names       object      1531      0   1531     0.00\n",
       "place_name                    object      1531      0   1531     0.00\n",
       "properati_url                 object      1531      0   1531     0.00\n",
       "description                   object      1531      0   1531     0.00\n",
       "title                         object      1531      0   1531     0.00\n",
       "operation                     object      1531      0   1531     0.00"
      ]
     },
     "execution_count": 6,
     "metadata": {},
     "output_type": "execute_result"
    }
   ],
   "source": [
    "#Controlamos como quedo.\n",
    "Summary(data_mdf)"
   ]
  },
  {
   "cell_type": "markdown",
   "metadata": {},
   "source": [
    "SE PUEDE ELIMINAR\n",
    "    UNNAMED 0\n",
    "    PLACE_WITH_PARENTS_NAMES (ES CONCATENACION DE OTROS CAMPOS YA EXISTENTES)\n",
    "REVISAR RELACIONES:\n",
    "    METROS 2 DE SUPERFICIE NO PUEDEN SER MAYORES A LOS DE LO EDIFICADO\n",
    "    TIPO DE CAMBIO APLICADO ENTRE PESOS Y USD\n",
    "   \n",
    "    \n",
    "    "
   ]
  },
  {
   "cell_type": "markdown",
   "metadata": {},
   "source": [
    "## Variables Numericas"
   ]
  },
  {
   "cell_type": "markdown",
   "metadata": {},
   "source": [
    "### Controlando los Campos Numericos"
   ]
  },
  {
   "cell_type": "markdown",
   "metadata": {},
   "source": [
    "**1.1 \n",
    "Controlamos las Equivalencias entre currency y valor usd aprox**"
   ]
  },
  {
   "cell_type": "code",
   "execution_count": 7,
   "metadata": {},
   "outputs": [],
   "source": [
    "def price_fields(df,Curr):\n",
    "    mask = df['currency'] == Curr\n",
    "    a = all(df.loc[mask,'price']== df.loc[mask,'price_aprox_usd'])\n",
    "    return print('Todos los valores de price con currency USD son iguales a los de price_apox_usd?',str(a))\n"
   ]
  },
  {
   "cell_type": "code",
   "execution_count": 8,
   "metadata": {},
   "outputs": [
    {
     "name": "stdout",
     "output_type": "stream",
     "text": [
      "Todos los valores de price con currency USD son iguales a los de price_apox_usd? True\n"
     ]
    }
   ],
   "source": [
    "price_fields(data_mdf,'USD')\n"
   ]
  },
  {
   "cell_type": "markdown",
   "metadata": {},
   "source": [
    "  \n",
    " "
   ]
  },
  {
   "cell_type": "markdown",
   "metadata": {},
   "source": [
    "**2.1 CAMPOS SUPERFICIE METROS CUADRADOS CUBIERTA Y TOTAL**"
   ]
  },
  {
   "cell_type": "markdown",
   "metadata": {},
   "source": [
    "**2.1.2 Vamos a establecer si la la relacion entre SUP CUBIERTA Y SUP TOTAL es razonable**"
   ]
  },
  {
   "cell_type": "code",
   "execution_count": 9,
   "metadata": {},
   "outputs": [
    {
     "name": "stdout",
     "output_type": "stream",
     "text": [
      "Cantidad de Registros a Corregir 8\n"
     ]
    }
   ],
   "source": [
    "#Crear mascara para verificar si esta correcto la relacion Sup cubierta vs Sup total\n",
    "mask_M2_dif=(data_mdf['surface_covered_in_m2'])>\\\n",
    "            (data_mdf['surface_total_in_m2'])\n",
    "# all(data_mdf)\n",
    "print(\"Cantidad de Registros a Corregir\",data_mdf.loc[mask_M2_dif].shape[0])"
   ]
  },
  {
   "cell_type": "code",
   "execution_count": 10,
   "metadata": {},
   "outputs": [
    {
     "name": "stdout",
     "output_type": "stream",
     "text": [
      "Cantidad de Registros a Corregir 0\n"
     ]
    }
   ],
   "source": [
    "#Corregimos la inconcistencia\n",
    "data_mdf.loc[mask_M2_dif,['surface_total_in_m2']]=data_mdf['surface_covered_in_m2']\n",
    "\n",
    "#chequeamos Nuevamente\n",
    "mask_M2_dif=(data_mdf['surface_covered_in_m2'])>\\\n",
    "            (data_mdf['surface_total_in_m2'])\n",
    "# all(data_mdf)\n",
    "print(\"Cantidad de Registros a Corregir\",data_mdf.loc[mask_M2_dif].shape[0])"
   ]
  },
  {
   "cell_type": "markdown",
   "metadata": {},
   "source": [
    "**2.1.1 Vamos a imputar los valores de SUP Cubierta a Sup Total en los casos donde este ultimo es Null**"
   ]
  },
  {
   "cell_type": "code",
   "execution_count": 11,
   "metadata": {},
   "outputs": [
    {
     "name": "stdout",
     "output_type": "stream",
     "text": [
      "Existen la cantidad de 228 registros en SUP TOTAL como Nulos que Tienen Valores en SUP CUB\n"
     ]
    }
   ],
   "source": [
    "#Crear mascara para verificar cuantos Nulos tienen SUP TOTAL que si tengan valores SUP CUB\n",
    "mask_M2_null=(data_mdf['surface_total_in_m2'].isnull())&\\\n",
    "                (data_mdf['surface_covered_in_m2'].notnull())\n",
    "\n",
    "print(\"Existen la cantidad de\",data_mdf[mask_M2_null].shape[0], \"registros en SUP TOTAL como Nulos que Tienen Valores en SUP CUB\")\n",
    "\n"
   ]
  },
  {
   "cell_type": "code",
   "execution_count": 12,
   "metadata": {},
   "outputs": [],
   "source": [
    "#Vamos a llenar con los Valores de M2 Sup Cubierta los valores Faltantes de Sup Total\n",
    "#Crear mascara para verificar cuales son los que son Null en Sup Total\n",
    "\n",
    "mask_M2_null=(data_mdf['surface_total_in_m2'].isnull())&\\\n",
    "                    (data_mdf['surface_covered_in_m2'].notnull())\n",
    "\n",
    "data_mdf.loc[mask_M2_null,['surface_total_in_m2','surface_covered_in_m2']]\n",
    "\n",
    "#vamos a Copiar el DF para trabajar sobre uno nuevo\n",
    "data_mdf_M2_OK=data_mdf.copy()\n",
    "\n",
    "data_mdf_M2_OK['surface_total_in_m2'].fillna(value=data_mdf_M2_OK['surface_covered_in_m2'],inplace=True)\n"
   ]
  },
  {
   "cell_type": "code",
   "execution_count": 13,
   "metadata": {},
   "outputs": [
    {
     "name": "stdout",
     "output_type": "stream",
     "text": [
      "Registros nulos en Surface Total antes de la imputación:  382\n",
      "Regsitros nulos en Surface despues de la Imputación:  154\n"
     ]
    }
   ],
   "source": [
    "print(\"Registros nulos en Surface Total antes de la imputación: \",data_mdf['surface_total_in_m2'].isnull().sum())\n",
    "print(\"Regsitros nulos en Surface despues de la Imputación: \",data_mdf_M2_OK['surface_total_in_m2'].isnull().sum())"
   ]
  },
  {
   "cell_type": "markdown",
   "metadata": {},
   "source": [
    "  "
   ]
  },
  {
   "cell_type": "markdown",
   "metadata": {},
   "source": [
    "  "
   ]
  },
  {
   "cell_type": "markdown",
   "metadata": {},
   "source": [
    "**2.1.3 Existen registros que pueden ser imputados capturando datos desde title**"
   ]
  },
  {
   "cell_type": "code",
   "execution_count": 14,
   "metadata": {},
   "outputs": [],
   "source": [
    "#paso a lower a todos los campos strings descriptivos\n",
    "data_mdf_M2_OK['title']=data_mdf_M2_OK['title'].str.lower()\n",
    "data_mdf_M2_OK['description']=data_mdf_M2_OK['description'].str.lower()"
   ]
  },
  {
   "cell_type": "code",
   "execution_count": 15,
   "metadata": {},
   "outputs": [
    {
     "name": "stdout",
     "output_type": "stream",
     "text": [
      "Existen 4 registros que pueden ser imputados desde title\n"
     ]
    }
   ],
   "source": [
    "#Creamos el regex\n",
    "M2_captured=data_mdf_M2_OK['title'].str.extract('(?P<num>\\d+\\.?\\d+)(\\,)?(^\\.)?(\\d*)?(\\s)?(?=m2|m²|mts|mts2|metros)')['num'].replace({'\\.':\"\"},regex=True).astype(float)\n",
    "\n",
    "#Creo la mascara para controlar la cantidad que puede ser imputada\n",
    "mask=(M2_captured.notnull())&(M2_captured!=False)&(data_mdf_M2_OK['surface_total_in_m2'].isnull())\n",
    "\n",
    "print(\"Existen\",data_mdf_M2_OK.loc[mask,:].shape[0],\"registros que pueden ser imputados desde title\")\n"
   ]
  },
  {
   "cell_type": "code",
   "execution_count": 16,
   "metadata": {},
   "outputs": [],
   "source": [
    "#Relleno los datos con lo capturado desde Title\n",
    "#Campo Backup\n",
    "data_mdf_M2_OK['ad_surface_m2_title']=M2_captured\n",
    "data_mdf_M2_OK['surface_total_in_m2'].fillna(M2_captured,axis=0,inplace=True)"
   ]
  },
  {
   "cell_type": "markdown",
   "metadata": {},
   "source": [
    "  "
   ]
  },
  {
   "cell_type": "code",
   "execution_count": 17,
   "metadata": {},
   "outputs": [
    {
     "name": "stdout",
     "output_type": "stream",
     "text": [
      "Existen 0 registros que pueden ser imputados desde title\n"
     ]
    }
   ],
   "source": [
    "#Controlo que ya no tenga mas datos para llenar\n",
    "mask=(M2_captured.notnull())&(M2_captured!=False)&(data_mdf_M2_OK['surface_total_in_m2'].isnull())\n",
    "print(\"Existen\",data_mdf_M2_OK.loc[mask,:].shape[0],\"registros que pueden ser imputados desde title\")"
   ]
  },
  {
   "cell_type": "markdown",
   "metadata": {},
   "source": [
    "  "
   ]
  },
  {
   "cell_type": "markdown",
   "metadata": {},
   "source": [
    "**2.1.4 Existen registros que pueden ser imputados capturando datos desde Description**"
   ]
  },
  {
   "cell_type": "code",
   "execution_count": 18,
   "metadata": {},
   "outputs": [
    {
     "name": "stdout",
     "output_type": "stream",
     "text": [
      "Existen 46 registros que pueden ser imputados desde Description\n"
     ]
    }
   ],
   "source": [
    "#Creamos el regex\n",
    "M2_captured_2=data_mdf_M2_OK['description'].str.extract('(?P<num>\\d+\\.?\\d+)(\\,)?(^\\.)?(\\d*)?(\\s)?(?=m2|m²|mts|mts2|metros)')['num'].replace({'\\.':\"\"},regex=True).astype(float)\n",
    "\n",
    "#Creo la mascara para controlar la cantidad que puede ser imputada\n",
    "mask=(M2_captured_2.notnull())&(M2_captured_2!=False)&(data_mdf_M2_OK['surface_total_in_m2'].isnull())\n",
    "\n",
    "print(\"Existen\",data_mdf_M2_OK.loc[mask,:].shape[0],\"registros que pueden ser imputados desde Description\")\n"
   ]
  },
  {
   "cell_type": "code",
   "execution_count": 19,
   "metadata": {},
   "outputs": [],
   "source": [
    "#Relleno los datos con lo capturado desde description\n",
    "#Campo Backup\n",
    "data_mdf_M2_OK['ad_surface_m2_descrip']=M2_captured_2\n",
    "data_mdf_M2_OK['surface_total_in_m2'].fillna(M2_captured_2,axis=0,inplace=True)"
   ]
  },
  {
   "cell_type": "markdown",
   "metadata": {},
   "source": [
    "  "
   ]
  },
  {
   "cell_type": "code",
   "execution_count": 20,
   "metadata": {},
   "outputs": [
    {
     "name": "stdout",
     "output_type": "stream",
     "text": [
      "Existen 0 registros que pueden ser imputados desde title\n"
     ]
    }
   ],
   "source": [
    "#Controlo que ya no tenga mas datos para llenar\n",
    "mask=(M2_captured_2.notnull())&(M2_captured_2!=False)&(data_mdf_M2_OK['surface_total_in_m2'].isnull())\n",
    "print(\"Existen\",data_mdf_M2_OK.loc[mask,:].shape[0],\"registros que pueden ser imputados desde title\")"
   ]
  },
  {
   "cell_type": "markdown",
   "metadata": {},
   "source": [
    "**2.2 CAMPOS PRECIO USD Y PRECIO USD M2**"
   ]
  },
  {
   "cell_type": "markdown",
   "metadata": {},
   "source": [
    "**VAMOS A CONTROLAR SI EXISTE FORMA DE LLENAR EL PRECIO USD M2 QUE FALTAN USANDO PRECIO USD Y M2 SUP TOTAL**"
   ]
  },
  {
   "cell_type": "markdown",
   "metadata": {},
   "source": [
    "**2.2.1 Es Posible Capturar precio en dolares del campo Title para llenar el campo Precio_USD_aprox**"
   ]
  },
  {
   "cell_type": "code",
   "execution_count": 21,
   "metadata": {},
   "outputs": [],
   "source": [
    "#Creo una mascara para capturar los valores precedidos de U$S o U$D\n",
    "df_rebuilt=data_mdf_M2_OK.copy()\n",
    "USD_capture=df_rebuilt['title'].str.extract('(u\\$?s?d) (\\d+[\\.]*\\d*[\\.]*\\d*)')[1].replace({'\\.':\"\"},regex=True).astype(float)\n"
   ]
  },
  {
   "cell_type": "code",
   "execution_count": 22,
   "metadata": {},
   "outputs": [
    {
     "name": "stdout",
     "output_type": "stream",
     "text": [
      "Existen 0 registros que pueden ser imputados desde Title\n"
     ]
    }
   ],
   "source": [
    "#Compruebo la cantidad de campos que se podrian llenar (no nulos del campo nuevo y nulos del campo Precio USD Aprox)\n",
    "\n",
    "mask=(USD_capture.notnull())&(df_rebuilt['price_aprox_usd'].isnull())\n",
    "\n",
    "print(\"Existen\",df_rebuilt.loc[mask,:].shape[0],\"registros que pueden ser imputados desde Title\")\n"
   ]
  },
  {
   "cell_type": "code",
   "execution_count": 23,
   "metadata": {},
   "outputs": [
    {
     "name": "stdout",
     "output_type": "stream",
     "text": [
      "Existen 0 registros que pueden ser imputados desde Title\n"
     ]
    }
   ],
   "source": [
    "#Hacemos la imputacion para llenar los campos de Price USD aprox\n",
    "df_rebuilt_v2=df_rebuilt.copy()\n",
    "#creo Campo de seguimiento\n",
    "df_rebuilt_v2['ad_price_aprox_usd_title']=USD_capture \n",
    "#Realizo la imputacion\n",
    "df_rebuilt_v2['price_aprox_usd'].fillna(value=USD_capture,axis=0,inplace=True)\n",
    "#Controlamos si se hizo correctamente\n",
    "mask=(USD_capture.notnull())&(df_rebuilt_v2['price_aprox_usd'].isnull())\n",
    "print(\"Existen\",df_rebuilt_v2.loc[mask,:].shape[0],\"registros que pueden ser imputados desde Title\")\n",
    "\n"
   ]
  },
  {
   "cell_type": "markdown",
   "metadata": {},
   "source": [
    "**Comparamos los cambios antes de la imputacion**"
   ]
  },
  {
   "cell_type": "code",
   "execution_count": 24,
   "metadata": {},
   "outputs": [
    {
     "data": {
      "text/html": [
       "<div>\n",
       "<style scoped>\n",
       "    .dataframe tbody tr th:only-of-type {\n",
       "        vertical-align: middle;\n",
       "    }\n",
       "\n",
       "    .dataframe tbody tr th {\n",
       "        vertical-align: top;\n",
       "    }\n",
       "\n",
       "    .dataframe thead th {\n",
       "        text-align: right;\n",
       "    }\n",
       "</style>\n",
       "<table border=\"1\" class=\"dataframe\">\n",
       "  <thead>\n",
       "    <tr style=\"text-align: right;\">\n",
       "      <th></th>\n",
       "      <th>Tipo Dato</th>\n",
       "      <th>No Nulos</th>\n",
       "      <th>Nulos</th>\n",
       "      <th>Total</th>\n",
       "      <th>% Nulos</th>\n",
       "    </tr>\n",
       "  </thead>\n",
       "  <tbody>\n",
       "    <tr>\n",
       "      <th>price_usd_per_m2</th>\n",
       "      <td>float64</td>\n",
       "      <td>999</td>\n",
       "      <td>532</td>\n",
       "      <td>1531</td>\n",
       "      <td>34.75</td>\n",
       "    </tr>\n",
       "    <tr>\n",
       "      <th>price_aprox_usd</th>\n",
       "      <td>float64</td>\n",
       "      <td>1290</td>\n",
       "      <td>241</td>\n",
       "      <td>1531</td>\n",
       "      <td>15.74</td>\n",
       "    </tr>\n",
       "    <tr>\n",
       "      <th>surface_total_in_m2</th>\n",
       "      <td>float64</td>\n",
       "      <td>1427</td>\n",
       "      <td>104</td>\n",
       "      <td>1531</td>\n",
       "      <td>6.79</td>\n",
       "    </tr>\n",
       "  </tbody>\n",
       "</table>\n",
       "</div>"
      ],
      "text/plain": [
       "                    Tipo Dato  No Nulos  Nulos  Total  % Nulos\n",
       "price_usd_per_m2      float64       999    532   1531    34.75\n",
       "price_aprox_usd       float64      1290    241   1531    15.74\n",
       "surface_total_in_m2   float64      1427    104   1531     6.79"
      ]
     },
     "execution_count": 24,
     "metadata": {},
     "output_type": "execute_result"
    }
   ],
   "source": [
    "Summary(df_rebuilt[['surface_total_in_m2','price_aprox_usd','price_usd_per_m2']])"
   ]
  },
  {
   "cell_type": "markdown",
   "metadata": {},
   "source": [
    "**Comparamos los cambios despues de la imputacion**"
   ]
  },
  {
   "cell_type": "code",
   "execution_count": 25,
   "metadata": {},
   "outputs": [
    {
     "data": {
      "text/html": [
       "<div>\n",
       "<style scoped>\n",
       "    .dataframe tbody tr th:only-of-type {\n",
       "        vertical-align: middle;\n",
       "    }\n",
       "\n",
       "    .dataframe tbody tr th {\n",
       "        vertical-align: top;\n",
       "    }\n",
       "\n",
       "    .dataframe thead th {\n",
       "        text-align: right;\n",
       "    }\n",
       "</style>\n",
       "<table border=\"1\" class=\"dataframe\">\n",
       "  <thead>\n",
       "    <tr style=\"text-align: right;\">\n",
       "      <th></th>\n",
       "      <th>Tipo Dato</th>\n",
       "      <th>No Nulos</th>\n",
       "      <th>Nulos</th>\n",
       "      <th>Total</th>\n",
       "      <th>% Nulos</th>\n",
       "    </tr>\n",
       "  </thead>\n",
       "  <tbody>\n",
       "    <tr>\n",
       "      <th>price_usd_per_m2</th>\n",
       "      <td>float64</td>\n",
       "      <td>999</td>\n",
       "      <td>532</td>\n",
       "      <td>1531</td>\n",
       "      <td>34.75</td>\n",
       "    </tr>\n",
       "    <tr>\n",
       "      <th>price_aprox_usd</th>\n",
       "      <td>float64</td>\n",
       "      <td>1290</td>\n",
       "      <td>241</td>\n",
       "      <td>1531</td>\n",
       "      <td>15.74</td>\n",
       "    </tr>\n",
       "    <tr>\n",
       "      <th>surface_total_in_m2</th>\n",
       "      <td>float64</td>\n",
       "      <td>1427</td>\n",
       "      <td>104</td>\n",
       "      <td>1531</td>\n",
       "      <td>6.79</td>\n",
       "    </tr>\n",
       "  </tbody>\n",
       "</table>\n",
       "</div>"
      ],
      "text/plain": [
       "                    Tipo Dato  No Nulos  Nulos  Total  % Nulos\n",
       "price_usd_per_m2      float64       999    532   1531    34.75\n",
       "price_aprox_usd       float64      1290    241   1531    15.74\n",
       "surface_total_in_m2   float64      1427    104   1531     6.79"
      ]
     },
     "execution_count": 25,
     "metadata": {},
     "output_type": "execute_result"
    }
   ],
   "source": [
    "Summary(df_rebuilt_v2[['surface_total_in_m2','price_aprox_usd','price_usd_per_m2']])"
   ]
  },
  {
   "cell_type": "code",
   "execution_count": null,
   "metadata": {},
   "outputs": [],
   "source": []
  },
  {
   "cell_type": "markdown",
   "metadata": {},
   "source": [
    "**2.2.2 Es Posible Capturar precio en dolares del campo Description para llenar el campo Precio_USD_aprox**"
   ]
  },
  {
   "cell_type": "code",
   "execution_count": 26,
   "metadata": {},
   "outputs": [],
   "source": [
    "#Creo una mascara para capturar los valores precedidos de U$S o U$D\n",
    "\n",
    "USD_capture_2=df_rebuilt_v2['description'].str.extract('(u\\$?s?d) (\\d+[\\.]*\\d*[\\.]*\\d*)')[1].replace({'\\.':\"\"},regex=True).astype(float)\n"
   ]
  },
  {
   "cell_type": "code",
   "execution_count": 27,
   "metadata": {},
   "outputs": [
    {
     "name": "stdout",
     "output_type": "stream",
     "text": [
      "Existen 12 registros que pueden ser imputados desde description\n"
     ]
    }
   ],
   "source": [
    "#Compruebo la cantidad de campos que se podrian llenar (no nulos del campo nuevo y nulos del campo Precio USD Aprox)\n",
    "\n",
    "mask=(USD_capture_2.notnull())&(df_rebuilt_v2['price_aprox_usd'].isnull())\n",
    "\n",
    "print(\"Existen\",df_rebuilt_v2.loc[mask,:].shape[0],\"registros que pueden ser imputados desde description\")\n"
   ]
  },
  {
   "cell_type": "code",
   "execution_count": 28,
   "metadata": {},
   "outputs": [
    {
     "name": "stdout",
     "output_type": "stream",
     "text": [
      "Existen 0 registros que pueden ser imputados desde description\n"
     ]
    }
   ],
   "source": [
    "#Hacemos la imputacion para llenar los campos de Price USD aprox\n",
    "#creo Campo de seguimiento\n",
    "df_rebuilt_v2['ad_price_aprox_usd_descrip']=USD_capture       \n",
    "#Realizo la imputacion\n",
    "df_rebuilt_v2['price_aprox_usd'].fillna(value=USD_capture,axis=0,inplace=True)\n",
    "#Controlo si se efectuo correctamente\n",
    "mask=(USD_capture.notnull())&(df_rebuilt_v2['price_aprox_usd'].isnull())\n",
    "print(\"Existen\",df_rebuilt_v2.loc[mask,:].shape[0],\"registros que pueden ser imputados desde description\")\n",
    "\n"
   ]
  },
  {
   "cell_type": "markdown",
   "metadata": {},
   "source": [
    "**Comparamos los cambios antes de la imputacion**"
   ]
  },
  {
   "cell_type": "code",
   "execution_count": 29,
   "metadata": {},
   "outputs": [
    {
     "data": {
      "text/html": [
       "<div>\n",
       "<style scoped>\n",
       "    .dataframe tbody tr th:only-of-type {\n",
       "        vertical-align: middle;\n",
       "    }\n",
       "\n",
       "    .dataframe tbody tr th {\n",
       "        vertical-align: top;\n",
       "    }\n",
       "\n",
       "    .dataframe thead th {\n",
       "        text-align: right;\n",
       "    }\n",
       "</style>\n",
       "<table border=\"1\" class=\"dataframe\">\n",
       "  <thead>\n",
       "    <tr style=\"text-align: right;\">\n",
       "      <th></th>\n",
       "      <th>Tipo Dato</th>\n",
       "      <th>No Nulos</th>\n",
       "      <th>Nulos</th>\n",
       "      <th>Total</th>\n",
       "      <th>% Nulos</th>\n",
       "    </tr>\n",
       "  </thead>\n",
       "  <tbody>\n",
       "    <tr>\n",
       "      <th>price_usd_per_m2</th>\n",
       "      <td>float64</td>\n",
       "      <td>999</td>\n",
       "      <td>532</td>\n",
       "      <td>1531</td>\n",
       "      <td>34.75</td>\n",
       "    </tr>\n",
       "    <tr>\n",
       "      <th>price_aprox_usd</th>\n",
       "      <td>float64</td>\n",
       "      <td>1290</td>\n",
       "      <td>241</td>\n",
       "      <td>1531</td>\n",
       "      <td>15.74</td>\n",
       "    </tr>\n",
       "    <tr>\n",
       "      <th>surface_total_in_m2</th>\n",
       "      <td>float64</td>\n",
       "      <td>1427</td>\n",
       "      <td>104</td>\n",
       "      <td>1531</td>\n",
       "      <td>6.79</td>\n",
       "    </tr>\n",
       "  </tbody>\n",
       "</table>\n",
       "</div>"
      ],
      "text/plain": [
       "                    Tipo Dato  No Nulos  Nulos  Total  % Nulos\n",
       "price_usd_per_m2      float64       999    532   1531    34.75\n",
       "price_aprox_usd       float64      1290    241   1531    15.74\n",
       "surface_total_in_m2   float64      1427    104   1531     6.79"
      ]
     },
     "execution_count": 29,
     "metadata": {},
     "output_type": "execute_result"
    }
   ],
   "source": [
    "Summary(df_rebuilt[['surface_total_in_m2','price_aprox_usd','price_usd_per_m2']])"
   ]
  },
  {
   "cell_type": "markdown",
   "metadata": {},
   "source": [
    "**Comparamos los cambios despues de la imputacion**"
   ]
  },
  {
   "cell_type": "code",
   "execution_count": 30,
   "metadata": {},
   "outputs": [
    {
     "data": {
      "text/html": [
       "<div>\n",
       "<style scoped>\n",
       "    .dataframe tbody tr th:only-of-type {\n",
       "        vertical-align: middle;\n",
       "    }\n",
       "\n",
       "    .dataframe tbody tr th {\n",
       "        vertical-align: top;\n",
       "    }\n",
       "\n",
       "    .dataframe thead th {\n",
       "        text-align: right;\n",
       "    }\n",
       "</style>\n",
       "<table border=\"1\" class=\"dataframe\">\n",
       "  <thead>\n",
       "    <tr style=\"text-align: right;\">\n",
       "      <th></th>\n",
       "      <th>Tipo Dato</th>\n",
       "      <th>No Nulos</th>\n",
       "      <th>Nulos</th>\n",
       "      <th>Total</th>\n",
       "      <th>% Nulos</th>\n",
       "    </tr>\n",
       "  </thead>\n",
       "  <tbody>\n",
       "    <tr>\n",
       "      <th>price_usd_per_m2</th>\n",
       "      <td>float64</td>\n",
       "      <td>999</td>\n",
       "      <td>532</td>\n",
       "      <td>1531</td>\n",
       "      <td>34.75</td>\n",
       "    </tr>\n",
       "    <tr>\n",
       "      <th>price_aprox_usd</th>\n",
       "      <td>float64</td>\n",
       "      <td>1290</td>\n",
       "      <td>241</td>\n",
       "      <td>1531</td>\n",
       "      <td>15.74</td>\n",
       "    </tr>\n",
       "    <tr>\n",
       "      <th>surface_total_in_m2</th>\n",
       "      <td>float64</td>\n",
       "      <td>1427</td>\n",
       "      <td>104</td>\n",
       "      <td>1531</td>\n",
       "      <td>6.79</td>\n",
       "    </tr>\n",
       "  </tbody>\n",
       "</table>\n",
       "</div>"
      ],
      "text/plain": [
       "                    Tipo Dato  No Nulos  Nulos  Total  % Nulos\n",
       "price_usd_per_m2      float64       999    532   1531    34.75\n",
       "price_aprox_usd       float64      1290    241   1531    15.74\n",
       "surface_total_in_m2   float64      1427    104   1531     6.79"
      ]
     },
     "execution_count": 30,
     "metadata": {},
     "output_type": "execute_result"
    }
   ],
   "source": [
    "Summary(df_rebuilt_v2[['surface_total_in_m2','price_aprox_usd','price_usd_per_m2']])"
   ]
  },
  {
   "cell_type": "markdown",
   "metadata": {},
   "source": [
    "**2.2.2 Ahora podemos tomar Precio USD Aprox para rellenar Precio USD M2**"
   ]
  },
  {
   "cell_type": "code",
   "execution_count": 31,
   "metadata": {},
   "outputs": [
    {
     "name": "stdout",
     "output_type": "stream",
     "text": [
      "Existen 239 registros que pueden ser Imputados\n"
     ]
    }
   ],
   "source": [
    "#Creo una Mascara para poder determinar los registros en donde Precio USD x M2 siendo nulos tiene valores utilizables en Precio USD y Sup Total \n",
    "mask_price_x_m2_null=\\\n",
    "(df_rebuilt_v2['price_usd_per_m2'].isnull())&\\\n",
    "(df_rebuilt_v2['price_aprox_usd'].notnull())&\\\n",
    "(df_rebuilt_v2['surface_total_in_m2'].notnull())\n",
    "\n",
    "print(\"Existen\",data_mdf_M2_OK.loc[mask_price_x_m2_null,:].shape[0],\"registros que pueden ser Imputados\")"
   ]
  },
  {
   "cell_type": "code",
   "execution_count": 32,
   "metadata": {},
   "outputs": [
    {
     "name": "stdout",
     "output_type": "stream",
     "text": [
      "Existian valores Nulos para imputar?:  True\n",
      "Existen valores Nulos para imputar ahora que hicimos la imputacion?:  False\n"
     ]
    }
   ],
   "source": [
    "#ahora lleno los valores nulos con los datos \n",
    "#Creo copia del DF\n",
    "df_rebuilt_v3=df_rebuilt_v2.copy()\n",
    "#Lleno con apply\n",
    "\n",
    "Price_USD_M2_calculated=df_rebuilt_v3.apply(lambda x: 0 if x['surface_total_in_m2']==0 else x['price_aprox_usd'] / x['surface_total_in_m2'],axis=1)\n",
    "df_rebuilt_v3['price_usd_per_m2']=Price_USD_M2_calculated\n",
    "\n",
    "#compruebo\n",
    "mask_price_x_m2_Notnull=\\\n",
    "(df_rebuilt_v3['price_usd_per_m2'].isnull())&\\\n",
    "(df_rebuilt_v3['price_aprox_usd'].notnull()&\\\n",
    " df_rebuilt_v3['surface_total_in_m2'].notnull())\n",
    "print(\"Existian valores Nulos para imputar?: \",any(mask_price_x_m2_null))\n",
    "print(\"Existen valores Nulos para imputar ahora que hicimos la imputacion?: \",any(mask_price_x_m2_Notnull))"
   ]
  },
  {
   "cell_type": "markdown",
   "metadata": {},
   "source": [
    "**2.2.3 Comparamos el efecto de la imputacion en los campos respectivos**"
   ]
  },
  {
   "cell_type": "code",
   "execution_count": 33,
   "metadata": {},
   "outputs": [
    {
     "data": {
      "text/html": [
       "<div>\n",
       "<style scoped>\n",
       "    .dataframe tbody tr th:only-of-type {\n",
       "        vertical-align: middle;\n",
       "    }\n",
       "\n",
       "    .dataframe tbody tr th {\n",
       "        vertical-align: top;\n",
       "    }\n",
       "\n",
       "    .dataframe thead th {\n",
       "        text-align: right;\n",
       "    }\n",
       "</style>\n",
       "<table border=\"1\" class=\"dataframe\">\n",
       "  <thead>\n",
       "    <tr style=\"text-align: right;\">\n",
       "      <th></th>\n",
       "      <th>Tipo Dato</th>\n",
       "      <th>No Nulos</th>\n",
       "      <th>Nulos</th>\n",
       "      <th>Total</th>\n",
       "      <th>% Nulos</th>\n",
       "    </tr>\n",
       "  </thead>\n",
       "  <tbody>\n",
       "    <tr>\n",
       "      <th>price_usd_per_m2</th>\n",
       "      <td>float64</td>\n",
       "      <td>999</td>\n",
       "      <td>532</td>\n",
       "      <td>1531</td>\n",
       "      <td>34.75</td>\n",
       "    </tr>\n",
       "    <tr>\n",
       "      <th>price_aprox_usd</th>\n",
       "      <td>float64</td>\n",
       "      <td>1290</td>\n",
       "      <td>241</td>\n",
       "      <td>1531</td>\n",
       "      <td>15.74</td>\n",
       "    </tr>\n",
       "    <tr>\n",
       "      <th>surface_total_in_m2</th>\n",
       "      <td>float64</td>\n",
       "      <td>1427</td>\n",
       "      <td>104</td>\n",
       "      <td>1531</td>\n",
       "      <td>6.79</td>\n",
       "    </tr>\n",
       "    <tr>\n",
       "      <th>state_name</th>\n",
       "      <td>object</td>\n",
       "      <td>1531</td>\n",
       "      <td>0</td>\n",
       "      <td>1531</td>\n",
       "      <td>0.00</td>\n",
       "    </tr>\n",
       "    <tr>\n",
       "      <th>property_type</th>\n",
       "      <td>object</td>\n",
       "      <td>1531</td>\n",
       "      <td>0</td>\n",
       "      <td>1531</td>\n",
       "      <td>0.00</td>\n",
       "    </tr>\n",
       "  </tbody>\n",
       "</table>\n",
       "</div>"
      ],
      "text/plain": [
       "                    Tipo Dato  No Nulos  Nulos  Total  % Nulos\n",
       "price_usd_per_m2      float64       999    532   1531    34.75\n",
       "price_aprox_usd       float64      1290    241   1531    15.74\n",
       "surface_total_in_m2   float64      1427    104   1531     6.79\n",
       "state_name             object      1531      0   1531     0.00\n",
       "property_type          object      1531      0   1531     0.00"
      ]
     },
     "execution_count": 33,
     "metadata": {},
     "output_type": "execute_result"
    }
   ],
   "source": [
    "Summary(df_rebuilt[['surface_total_in_m2','price_aprox_usd','price_usd_per_m2','state_name','property_type']])"
   ]
  },
  {
   "cell_type": "code",
   "execution_count": 34,
   "metadata": {},
   "outputs": [
    {
     "data": {
      "text/html": [
       "<div>\n",
       "<style scoped>\n",
       "    .dataframe tbody tr th:only-of-type {\n",
       "        vertical-align: middle;\n",
       "    }\n",
       "\n",
       "    .dataframe tbody tr th {\n",
       "        vertical-align: top;\n",
       "    }\n",
       "\n",
       "    .dataframe thead th {\n",
       "        text-align: right;\n",
       "    }\n",
       "</style>\n",
       "<table border=\"1\" class=\"dataframe\">\n",
       "  <thead>\n",
       "    <tr style=\"text-align: right;\">\n",
       "      <th></th>\n",
       "      <th>Tipo Dato</th>\n",
       "      <th>No Nulos</th>\n",
       "      <th>Nulos</th>\n",
       "      <th>Total</th>\n",
       "      <th>% Nulos</th>\n",
       "    </tr>\n",
       "  </thead>\n",
       "  <tbody>\n",
       "    <tr>\n",
       "      <th>price_usd_per_m2</th>\n",
       "      <td>float64</td>\n",
       "      <td>999</td>\n",
       "      <td>532</td>\n",
       "      <td>1531</td>\n",
       "      <td>34.75</td>\n",
       "    </tr>\n",
       "    <tr>\n",
       "      <th>price_aprox_usd</th>\n",
       "      <td>float64</td>\n",
       "      <td>1290</td>\n",
       "      <td>241</td>\n",
       "      <td>1531</td>\n",
       "      <td>15.74</td>\n",
       "    </tr>\n",
       "    <tr>\n",
       "      <th>surface_total_in_m2</th>\n",
       "      <td>float64</td>\n",
       "      <td>1427</td>\n",
       "      <td>104</td>\n",
       "      <td>1531</td>\n",
       "      <td>6.79</td>\n",
       "    </tr>\n",
       "    <tr>\n",
       "      <th>state_name</th>\n",
       "      <td>object</td>\n",
       "      <td>1531</td>\n",
       "      <td>0</td>\n",
       "      <td>1531</td>\n",
       "      <td>0.00</td>\n",
       "    </tr>\n",
       "    <tr>\n",
       "      <th>property_type</th>\n",
       "      <td>object</td>\n",
       "      <td>1531</td>\n",
       "      <td>0</td>\n",
       "      <td>1531</td>\n",
       "      <td>0.00</td>\n",
       "    </tr>\n",
       "  </tbody>\n",
       "</table>\n",
       "</div>"
      ],
      "text/plain": [
       "                    Tipo Dato  No Nulos  Nulos  Total  % Nulos\n",
       "price_usd_per_m2      float64       999    532   1531    34.75\n",
       "price_aprox_usd       float64      1290    241   1531    15.74\n",
       "surface_total_in_m2   float64      1427    104   1531     6.79\n",
       "state_name             object      1531      0   1531     0.00\n",
       "property_type          object      1531      0   1531     0.00"
      ]
     },
     "execution_count": 34,
     "metadata": {},
     "output_type": "execute_result"
    }
   ],
   "source": [
    "Summary(df_rebuilt_v2[['surface_total_in_m2','price_aprox_usd','price_usd_per_m2','state_name','property_type']])"
   ]
  },
  {
   "cell_type": "code",
   "execution_count": 35,
   "metadata": {},
   "outputs": [
    {
     "data": {
      "text/html": [
       "<div>\n",
       "<style scoped>\n",
       "    .dataframe tbody tr th:only-of-type {\n",
       "        vertical-align: middle;\n",
       "    }\n",
       "\n",
       "    .dataframe tbody tr th {\n",
       "        vertical-align: top;\n",
       "    }\n",
       "\n",
       "    .dataframe thead th {\n",
       "        text-align: right;\n",
       "    }\n",
       "</style>\n",
       "<table border=\"1\" class=\"dataframe\">\n",
       "  <thead>\n",
       "    <tr style=\"text-align: right;\">\n",
       "      <th></th>\n",
       "      <th>Tipo Dato</th>\n",
       "      <th>No Nulos</th>\n",
       "      <th>Nulos</th>\n",
       "      <th>Total</th>\n",
       "      <th>% Nulos</th>\n",
       "    </tr>\n",
       "  </thead>\n",
       "  <tbody>\n",
       "    <tr>\n",
       "      <th>price_usd_per_m2</th>\n",
       "      <td>float64</td>\n",
       "      <td>1249</td>\n",
       "      <td>282</td>\n",
       "      <td>1531</td>\n",
       "      <td>18.42</td>\n",
       "    </tr>\n",
       "    <tr>\n",
       "      <th>price_aprox_usd</th>\n",
       "      <td>float64</td>\n",
       "      <td>1290</td>\n",
       "      <td>241</td>\n",
       "      <td>1531</td>\n",
       "      <td>15.74</td>\n",
       "    </tr>\n",
       "    <tr>\n",
       "      <th>surface_total_in_m2</th>\n",
       "      <td>float64</td>\n",
       "      <td>1427</td>\n",
       "      <td>104</td>\n",
       "      <td>1531</td>\n",
       "      <td>6.79</td>\n",
       "    </tr>\n",
       "    <tr>\n",
       "      <th>state_name</th>\n",
       "      <td>object</td>\n",
       "      <td>1531</td>\n",
       "      <td>0</td>\n",
       "      <td>1531</td>\n",
       "      <td>0.00</td>\n",
       "    </tr>\n",
       "    <tr>\n",
       "      <th>property_type</th>\n",
       "      <td>object</td>\n",
       "      <td>1531</td>\n",
       "      <td>0</td>\n",
       "      <td>1531</td>\n",
       "      <td>0.00</td>\n",
       "    </tr>\n",
       "  </tbody>\n",
       "</table>\n",
       "</div>"
      ],
      "text/plain": [
       "                    Tipo Dato  No Nulos  Nulos  Total  % Nulos\n",
       "price_usd_per_m2      float64      1249    282   1531    18.42\n",
       "price_aprox_usd       float64      1290    241   1531    15.74\n",
       "surface_total_in_m2   float64      1427    104   1531     6.79\n",
       "state_name             object      1531      0   1531     0.00\n",
       "property_type          object      1531      0   1531     0.00"
      ]
     },
     "execution_count": 35,
     "metadata": {},
     "output_type": "execute_result"
    }
   ],
   "source": [
    "Summary(df_rebuilt_v3[['surface_total_in_m2','price_aprox_usd','price_usd_per_m2','state_name','property_type']])"
   ]
  },
  {
   "cell_type": "markdown",
   "metadata": {},
   "source": [
    "**Nota:** Resta evaluar si se puede llenar el Campo Precio USD M2 por medio de los promedios de los barrios"
   ]
  },
  {
   "cell_type": "markdown",
   "metadata": {},
   "source": [
    "**2.2.4 Evaluamos la informacion agrupada por Barrio y Tipo de propiedad**"
   ]
  },
  {
   "cell_type": "code",
   "execution_count": 36,
   "metadata": {},
   "outputs": [
    {
     "data": {
      "text/html": [
       "<div>\n",
       "<style scoped>\n",
       "    .dataframe tbody tr th:only-of-type {\n",
       "        vertical-align: middle;\n",
       "    }\n",
       "\n",
       "    .dataframe tbody tr th {\n",
       "        vertical-align: top;\n",
       "    }\n",
       "\n",
       "    .dataframe thead th {\n",
       "        text-align: right;\n",
       "    }\n",
       "</style>\n",
       "<table border=\"1\" class=\"dataframe\">\n",
       "  <thead>\n",
       "    <tr style=\"text-align: right;\">\n",
       "      <th></th>\n",
       "      <th></th>\n",
       "      <th></th>\n",
       "      <th>count</th>\n",
       "      <th>mean</th>\n",
       "      <th>std</th>\n",
       "      <th>min</th>\n",
       "      <th>25%</th>\n",
       "      <th>50%</th>\n",
       "      <th>75%</th>\n",
       "      <th>max</th>\n",
       "    </tr>\n",
       "    <tr>\n",
       "      <th>property_type</th>\n",
       "      <th>place_name</th>\n",
       "      <th>rooms</th>\n",
       "      <th></th>\n",
       "      <th></th>\n",
       "      <th></th>\n",
       "      <th></th>\n",
       "      <th></th>\n",
       "      <th></th>\n",
       "      <th></th>\n",
       "      <th></th>\n",
       "    </tr>\n",
       "  </thead>\n",
       "  <tbody>\n",
       "    <tr>\n",
       "      <th rowspan=\"5\" valign=\"top\">PH</th>\n",
       "      <th rowspan=\"3\" valign=\"top\">Almagro</th>\n",
       "      <th>4.0</th>\n",
       "      <td>2.0</td>\n",
       "      <td>156.5</td>\n",
       "      <td>101.11627</td>\n",
       "      <td>85.0</td>\n",
       "      <td>120.75</td>\n",
       "      <td>156.5</td>\n",
       "      <td>192.25</td>\n",
       "      <td>228.0</td>\n",
       "    </tr>\n",
       "    <tr>\n",
       "      <th>5.0</th>\n",
       "      <td>1.0</td>\n",
       "      <td>228.0</td>\n",
       "      <td>NaN</td>\n",
       "      <td>228.0</td>\n",
       "      <td>228.00</td>\n",
       "      <td>228.0</td>\n",
       "      <td>228.00</td>\n",
       "      <td>228.0</td>\n",
       "    </tr>\n",
       "    <tr>\n",
       "      <th>6.0</th>\n",
       "      <td>1.0</td>\n",
       "      <td>228.0</td>\n",
       "      <td>NaN</td>\n",
       "      <td>228.0</td>\n",
       "      <td>228.00</td>\n",
       "      <td>228.0</td>\n",
       "      <td>228.00</td>\n",
       "      <td>228.0</td>\n",
       "    </tr>\n",
       "    <tr>\n",
       "      <th rowspan=\"2\" valign=\"top\">Balvanera</th>\n",
       "      <th>4.0</th>\n",
       "      <td>1.0</td>\n",
       "      <td>228.0</td>\n",
       "      <td>NaN</td>\n",
       "      <td>228.0</td>\n",
       "      <td>228.00</td>\n",
       "      <td>228.0</td>\n",
       "      <td>228.00</td>\n",
       "      <td>228.0</td>\n",
       "    </tr>\n",
       "    <tr>\n",
       "      <th>5.0</th>\n",
       "      <td>1.0</td>\n",
       "      <td>228.0</td>\n",
       "      <td>NaN</td>\n",
       "      <td>228.0</td>\n",
       "      <td>228.00</td>\n",
       "      <td>228.0</td>\n",
       "      <td>228.00</td>\n",
       "      <td>228.0</td>\n",
       "    </tr>\n",
       "    <tr>\n",
       "      <th>...</th>\n",
       "      <th>...</th>\n",
       "      <th>...</th>\n",
       "      <td>...</td>\n",
       "      <td>...</td>\n",
       "      <td>...</td>\n",
       "      <td>...</td>\n",
       "      <td>...</td>\n",
       "      <td>...</td>\n",
       "      <td>...</td>\n",
       "      <td>...</td>\n",
       "    </tr>\n",
       "    <tr>\n",
       "      <th rowspan=\"3\" valign=\"top\">house</th>\n",
       "      <th>Villa Giardino</th>\n",
       "      <th>5.0</th>\n",
       "      <td>1.0</td>\n",
       "      <td>562.0</td>\n",
       "      <td>NaN</td>\n",
       "      <td>562.0</td>\n",
       "      <td>562.00</td>\n",
       "      <td>562.0</td>\n",
       "      <td>562.00</td>\n",
       "      <td>562.0</td>\n",
       "    </tr>\n",
       "    <tr>\n",
       "      <th>Villa Libertad</th>\n",
       "      <th>5.0</th>\n",
       "      <td>1.0</td>\n",
       "      <td>303.0</td>\n",
       "      <td>NaN</td>\n",
       "      <td>303.0</td>\n",
       "      <td>303.00</td>\n",
       "      <td>303.0</td>\n",
       "      <td>303.00</td>\n",
       "      <td>303.0</td>\n",
       "    </tr>\n",
       "    <tr>\n",
       "      <th>Villa Maipu</th>\n",
       "      <th>7.0</th>\n",
       "      <td>1.0</td>\n",
       "      <td>135.0</td>\n",
       "      <td>NaN</td>\n",
       "      <td>135.0</td>\n",
       "      <td>135.00</td>\n",
       "      <td>135.0</td>\n",
       "      <td>135.00</td>\n",
       "      <td>135.0</td>\n",
       "    </tr>\n",
       "    <tr>\n",
       "      <th rowspan=\"2\" valign=\"top\">store</th>\n",
       "      <th>Córdoba</th>\n",
       "      <th>1.0</th>\n",
       "      <td>1.0</td>\n",
       "      <td>180.0</td>\n",
       "      <td>NaN</td>\n",
       "      <td>180.0</td>\n",
       "      <td>180.00</td>\n",
       "      <td>180.0</td>\n",
       "      <td>180.00</td>\n",
       "      <td>180.0</td>\n",
       "    </tr>\n",
       "    <tr>\n",
       "      <th>Tolosa</th>\n",
       "      <th>1.0</th>\n",
       "      <td>0.0</td>\n",
       "      <td>NaN</td>\n",
       "      <td>NaN</td>\n",
       "      <td>NaN</td>\n",
       "      <td>NaN</td>\n",
       "      <td>NaN</td>\n",
       "      <td>NaN</td>\n",
       "      <td>NaN</td>\n",
       "    </tr>\n",
       "  </tbody>\n",
       "</table>\n",
       "<p>363 rows × 8 columns</p>\n",
       "</div>"
      ],
      "text/plain": [
       "                                    count   mean        std    min     25%  \\\n",
       "property_type place_name     rooms                                           \n",
       "PH            Almagro        4.0      2.0  156.5  101.11627   85.0  120.75   \n",
       "                             5.0      1.0  228.0        NaN  228.0  228.00   \n",
       "                             6.0      1.0  228.0        NaN  228.0  228.00   \n",
       "              Balvanera      4.0      1.0  228.0        NaN  228.0  228.00   \n",
       "                             5.0      1.0  228.0        NaN  228.0  228.00   \n",
       "...                                   ...    ...        ...    ...     ...   \n",
       "house         Villa Giardino 5.0      1.0  562.0        NaN  562.0  562.00   \n",
       "              Villa Libertad 5.0      1.0  303.0        NaN  303.0  303.00   \n",
       "              Villa Maipu    7.0      1.0  135.0        NaN  135.0  135.00   \n",
       "store         Córdoba        1.0      1.0  180.0        NaN  180.0  180.00   \n",
       "              Tolosa         1.0      0.0    NaN        NaN    NaN     NaN   \n",
       "\n",
       "                                      50%     75%    max  \n",
       "property_type place_name     rooms                        \n",
       "PH            Almagro        4.0    156.5  192.25  228.0  \n",
       "                             5.0    228.0  228.00  228.0  \n",
       "                             6.0    228.0  228.00  228.0  \n",
       "              Balvanera      4.0    228.0  228.00  228.0  \n",
       "                             5.0    228.0  228.00  228.0  \n",
       "...                                   ...     ...    ...  \n",
       "house         Villa Giardino 5.0    562.0  562.00  562.0  \n",
       "              Villa Libertad 5.0    303.0  303.00  303.0  \n",
       "              Villa Maipu    7.0    135.0  135.00  135.0  \n",
       "store         Córdoba        1.0    180.0  180.00  180.0  \n",
       "              Tolosa         1.0      NaN     NaN    NaN  \n",
       "\n",
       "[363 rows x 8 columns]"
      ]
     },
     "execution_count": 36,
     "metadata": {},
     "output_type": "execute_result"
    }
   ],
   "source": [
    "df_rebuilt_v3.groupby(['property_type','place_name','rooms'])['surface_total_in_m2'].describe()"
   ]
  },
  {
   "cell_type": "markdown",
   "metadata": {},
   "source": [
    "**Elimino los Campos que no vamos a usar**"
   ]
  },
  {
   "cell_type": "code",
   "execution_count": 37,
   "metadata": {},
   "outputs": [],
   "source": [
    "df_rebuilt_v3.drop(columns=['price','price_aprox_local_currency','surface_covered_in_m2','price_per_m2','operation'],inplace=True)"
   ]
  },
  {
   "cell_type": "markdown",
   "metadata": {},
   "source": [
    "  "
   ]
  },
  {
   "cell_type": "markdown",
   "metadata": {},
   "source": [
    "**Elimino los elementos duplicados en la columna description**"
   ]
  },
  {
   "cell_type": "code",
   "execution_count": 38,
   "metadata": {},
   "outputs": [
    {
     "name": "stdout",
     "output_type": "stream",
     "text": [
      "Existen 142 Duplicados\n"
     ]
    }
   ],
   "source": [
    "#calculo los duplicados\n",
    "print(\"Existen\",df_rebuilt_v3.duplicated(['description','title','property_type']).sum(),\"Duplicados\")"
   ]
  },
  {
   "cell_type": "code",
   "execution_count": 39,
   "metadata": {},
   "outputs": [],
   "source": [
    "df_rebuilt_v3.drop_duplicates(['description','title','property_type'],keep='last',inplace=True)"
   ]
  },
  {
   "cell_type": "code",
   "execution_count": 40,
   "metadata": {},
   "outputs": [
    {
     "name": "stdout",
     "output_type": "stream",
     "text": [
      "Existen 0 Duplicados\n"
     ]
    }
   ],
   "source": [
    "#control de los duplicados\n",
    "print(\"Existen\",df_rebuilt_v3.duplicated(['description','title','property_type']).sum(),\"Duplicados\")"
   ]
  },
  {
   "cell_type": "markdown",
   "metadata": {},
   "source": []
  },
  {
   "cell_type": "markdown",
   "metadata": {},
   "source": [
    "### Outliers"
   ]
  },
  {
   "cell_type": "markdown",
   "metadata": {},
   "source": [
    "**Campo Surface M2 total**"
   ]
  },
  {
   "cell_type": "code",
   "execution_count": 41,
   "metadata": {},
   "outputs": [
    {
     "data": {
      "text/plain": [
       "<AxesSubplot:xlabel='surface_total_in_m2'>"
      ]
     },
     "execution_count": 41,
     "metadata": {},
     "output_type": "execute_result"
    },
    {
     "data": {
      "image/png": "[encoded data removed]",
      "text/plain": [
       "<Figure size 432x288 with 1 Axes>"
      ]
     },
     "metadata": {
      "needs_background": "light"
     },
     "output_type": "display_data"
    }
   ],
   "source": [
    "sns.boxplot(x = df_rebuilt_v3['surface_total_in_m2'])"
   ]
  },
  {
   "cell_type": "code",
   "execution_count": 42,
   "metadata": {},
   "outputs": [
    {
     "data": {
      "text/plain": [
       "<AxesSubplot:xlabel='surface_total_in_m2', ylabel='Density'>"
      ]
     },
     "execution_count": 42,
     "metadata": {},
     "output_type": "execute_result"
    },
    {
     "data": {
      "image/png": "[encoded data removed]",
      "text/plain": [
       "<Figure size 432x288 with 1 Axes>"
      ]
     },
     "metadata": {
      "needs_background": "light"
     },
     "output_type": "display_data"
    }
   ],
   "source": [
    "sns.distplot(df_rebuilt_v3['surface_total_in_m2'])"
   ]
  },
  {
   "cell_type": "markdown",
   "metadata": {},
   "source": [
    "**Buscamos los Outliers de Superficie Total M2 por tipo de propiedad**"
   ]
  },
  {
   "cell_type": "code",
   "execution_count": 43,
   "metadata": {},
   "outputs": [],
   "source": [
    "#Version plana de Revision de outliers de Sup Total\n",
    "\n",
    "df=df_rebuilt_v3.groupby(['property_type'])['surface_total_in_m2']\n",
    "\n",
    "UR_limit=pd.DataFrame((df.quantile(0.75))+((df.quantile(0.75)-df.quantile(0.25))*1.5))\n",
    "LR_limit=pd.DataFrame((df.quantile(0.05)))\n",
    "    \n",
    "\n",
    "\n",
    "UR_limit.columns=[\"UR_limit_M2\"]\n",
    "LR_limit.columns=[\"LR_limit_M2\"]\n",
    "\n",
    "\n",
    "df_rebuilt_v3=df_rebuilt_v3.merge(right=UR_limit, on=('property_type'))\n",
    "df_rebuilt_v3=df_rebuilt_v3.merge(right=LR_limit, on=('property_type'))\n",
    "\n"
   ]
  },
  {
   "cell_type": "markdown",
   "metadata": {},
   "source": [
    "**Imputamos desde lo capturado de title a los Sup M2 los que estan menos del 5% del percentil**"
   ]
  },
  {
   "cell_type": "code",
   "execution_count": 44,
   "metadata": {},
   "outputs": [],
   "source": [
    "mask_0=df_rebuilt_v3['surface_total_in_m2']<df_rebuilt_v3['LR_limit_M2']\n",
    "mask_2=df_rebuilt_v3['ad_surface_m2_title'].notnull()\n",
    "df_rebuilt_v3.loc[mask_0&mask_2,['surface_total_in_m2']]=df_rebuilt_v3['ad_surface_m2_title']"
   ]
  },
  {
   "cell_type": "markdown",
   "metadata": {},
   "source": [
    "**Detectamos los Outliers**"
   ]
  },
  {
   "cell_type": "code",
   "execution_count": 45,
   "metadata": {},
   "outputs": [],
   "source": [
    "#Detecto los outliers\n",
    "listCol=['property_type','surface_total_in_m2','ad_surface_m2_title','ad_surface_m2_descrip','UR_limit_M2','LR_limit_M2','description','title']\n",
    "mask_out=(df_rebuilt_v3['surface_total_in_m2']>df_rebuilt_v3['UR_limit_M2'])|(df_rebuilt_v3['surface_total_in_m2']<df_rebuilt_v3['LR_limit_M2'])\n",
    "#df_rebuilt_v3.loc[mask_out,listCol].to_excel('outliers23.xlsx')\n"
   ]
  },
  {
   "cell_type": "markdown",
   "metadata": {},
   "source": [
    "**Eliminamos los Outliers**"
   ]
  },
  {
   "cell_type": "code",
   "execution_count": 46,
   "metadata": {},
   "outputs": [
    {
     "name": "stdout",
     "output_type": "stream",
     "text": [
      "El DF tiene 1389 registros antes de la eliminacion de outliers\n",
      "Los outliers son 158 registros \n",
      "El DF tiene 1231 registros despues de la eliminacion de outliers\n"
     ]
    }
   ],
   "source": [
    "#Eliminamos lor Outliers creando un DF Nuevo (v4)\n",
    "\n",
    "df_rebuilt_v4=df_rebuilt_v3.loc[~mask_out]\n",
    "\n",
    "print(\"El DF tiene\",df_rebuilt_v3.shape[0],\"registros antes de la eliminacion de outliers\")\n",
    "print(\"Los outliers son\",df_rebuilt_v3.loc[mask_out].shape[0],\"registros \")\n",
    "print(\"El DF tiene\",df_rebuilt_v4.shape[0],\"registros despues de la eliminacion de outliers\")"
   ]
  },
  {
   "cell_type": "markdown",
   "metadata": {},
   "source": [
    "**Graficamos Nuevamente**"
   ]
  },
  {
   "cell_type": "code",
   "execution_count": 47,
   "metadata": {},
   "outputs": [
    {
     "data": {
      "text/plain": [
       "<AxesSubplot:xlabel='surface_total_in_m2'>"
      ]
     },
     "execution_count": 47,
     "metadata": {},
     "output_type": "execute_result"
    },
    {
     "data": {
      "image/png": "[encoded data removed]",
      "text/plain": [
       "<Figure size 432x288 with 1 Axes>"
      ]
     },
     "metadata": {
      "needs_background": "light"
     },
     "output_type": "display_data"
    }
   ],
   "source": [
    "sns.boxplot(x = df_rebuilt_v4['surface_total_in_m2'])"
   ]
  },
  {
   "cell_type": "code",
   "execution_count": 48,
   "metadata": {},
   "outputs": [
    {
     "data": {
      "text/plain": [
       "<AxesSubplot:xlabel='surface_total_in_m2', ylabel='Density'>"
      ]
     },
     "execution_count": 48,
     "metadata": {},
     "output_type": "execute_result"
    },
    {
     "data": {
      "image/png": "[encoded data removed]",
      "text/plain": [
       "<Figure size 432x288 with 1 Axes>"
      ]
     },
     "metadata": {
      "needs_background": "light"
     },
     "output_type": "display_data"
    }
   ],
   "source": [
    "sns.distplot(df_rebuilt_v4['surface_total_in_m2'])"
   ]
  },
  {
   "cell_type": "markdown",
   "metadata": {},
   "source": [
    "**Buscamos los Outliers de Precio USD Aprox por tipo de propiedad y Zona**"
   ]
  },
  {
   "cell_type": "code",
   "execution_count": 49,
   "metadata": {},
   "outputs": [],
   "source": [
    "#Version plana de Revision de outliers de Precio USD Aprox\n",
    "\n",
    "df=df_rebuilt_v4.groupby(['property_type','state_name'])['price_aprox_usd']\n",
    "\n",
    "UR_limit=pd.DataFrame((df.quantile(0.75))+((df.quantile(0.75)-df.quantile(0.25))*1.5))\n",
    "LR_limit=pd.DataFrame((df.quantile(0.05)))\n",
    "    \n",
    "UR_limit.columns=[\"UR_limit_USD\"]\n",
    "LR_limit.columns=[\"LR_limit_USD\"]\n",
    "\n",
    "\n",
    "df_rebuilt_v4=df_rebuilt_v4.merge(right=UR_limit, on=(['property_type','state_name']))\n",
    "df_rebuilt_v4=df_rebuilt_v4.merge(right=LR_limit, on=(['property_type','state_name']))\n",
    "\n"
   ]
  },
  {
   "cell_type": "code",
   "execution_count": 50,
   "metadata": {},
   "outputs": [],
   "source": [
    "#Detecto los outliers\n",
    "\n",
    "mask_out=(df_rebuilt_v4['price_aprox_usd']>df_rebuilt_v4['UR_limit_USD'])|((df_rebuilt_v4['price_aprox_usd']<df_rebuilt_v4['LR_limit_USD']))\n"
   ]
  },
  {
   "cell_type": "code",
   "execution_count": 51,
   "metadata": {},
   "outputs": [
    {
     "name": "stdout",
     "output_type": "stream",
     "text": [
      "El DF tiene 1231 registros antes de la eliminacion de outliers\n",
      "Los outliers son 137 registros \n",
      "El DF tiene 1094 registros despues de la eliminacion de outliers\n"
     ]
    }
   ],
   "source": [
    "#Elimino los Outliers de Precio USD Aprox\n",
    "df_rebuilt_v5=df_rebuilt_v4.loc[~mask_out]\n",
    "\n",
    "print(\"El DF tiene\",df_rebuilt_v4.shape[0],\"registros antes de la eliminacion de outliers\")\n",
    "print(\"Los outliers son\",df_rebuilt_v4.loc[mask_out].shape[0],\"registros \")\n",
    "print(\"El DF tiene\",df_rebuilt_v5.shape[0],\"registros despues de la eliminacion de outliers\")"
   ]
  },
  {
   "cell_type": "code",
   "execution_count": 52,
   "metadata": {},
   "outputs": [
    {
     "data": {
      "text/plain": [
       "<AxesSubplot:xlabel='price_aprox_usd'>"
      ]
     },
     "execution_count": 52,
     "metadata": {},
     "output_type": "execute_result"
    },
    {
     "data": {
      "image/png": "[encoded data removed]",
      "text/plain": [
       "<Figure size 432x288 with 1 Axes>"
      ]
     },
     "metadata": {
      "needs_background": "light"
     },
     "output_type": "display_data"
    }
   ],
   "source": [
    "sns.boxplot(x = df_rebuilt_v5['price_aprox_usd'])"
   ]
  },
  {
   "cell_type": "code",
   "execution_count": 53,
   "metadata": {},
   "outputs": [
    {
     "data": {
      "text/plain": [
       "<AxesSubplot:xlabel='price_aprox_usd', ylabel='Density'>"
      ]
     },
     "execution_count": 53,
     "metadata": {},
     "output_type": "execute_result"
    },
    {
     "data": {
      "image/png": "[encoded data removed]",
      "text/plain": [
       "<Figure size 432x288 with 1 Axes>"
      ]
     },
     "metadata": {
      "needs_background": "light"
     },
     "output_type": "display_data"
    }
   ],
   "source": [
    "sns.distplot(df_rebuilt_v5['price_aprox_usd'])"
   ]
  },
  {
   "cell_type": "markdown",
   "metadata": {},
   "source": [
    "  "
   ]
  },
  {
   "cell_type": "markdown",
   "metadata": {},
   "source": [
    "**Buscamos los Outliers de Precio USD M2 por tipo de propiedad y Zona**"
   ]
  },
  {
   "cell_type": "markdown",
   "metadata": {},
   "source": [
    "**Aplicamos la Division a todos los Registros Price USD M2**"
   ]
  },
  {
   "cell_type": "code",
   "execution_count": 54,
   "metadata": {},
   "outputs": [],
   "source": [
    "Price_USD_M2_Cal=df_rebuilt_v5.apply(lambda x: 0 if x['surface_total_in_m2']==0 else x['price_aprox_usd'] / x['surface_total_in_m2'],axis=1)\n",
    "df_rebuilt_v5['price_usd_per_m2']=Price_USD_M2_Cal\n"
   ]
  },
  {
   "cell_type": "markdown",
   "metadata": {},
   "source": [
    "**Calculamos Outliers en Price USD M2**"
   ]
  },
  {
   "cell_type": "code",
   "execution_count": 55,
   "metadata": {},
   "outputs": [],
   "source": [
    "#Version plana de Revision de outliers de Precio USD M2\n",
    "\n",
    "df=df_rebuilt_v5.groupby(['property_type','state_name'])['price_usd_per_m2']\n",
    "\n",
    "UR_limit=pd.DataFrame((df.quantile(0.75))+((df.quantile(0.75)-df.quantile(0.25))*1.5))\n",
    "LR_limit=pd.DataFrame((df.quantile(0.05)))\n",
    "    \n",
    "UR_limit.columns=[\"UR_limit_USDM2\"]\n",
    "LR_limit.columns=[\"LR_limit_USDM2\"]\n",
    "\n",
    "\n",
    "df_rebuilt_v5=df_rebuilt_v5.merge(right=UR_limit, on=(['property_type','state_name']))\n",
    "df_rebuilt_v5=df_rebuilt_v5.merge(right=LR_limit, on=(['property_type','state_name']))\n",
    "\n"
   ]
  },
  {
   "cell_type": "code",
   "execution_count": 56,
   "metadata": {},
   "outputs": [],
   "source": [
    "#Detecto los outliers\n",
    "listCol=['property_type','state_name','price_aprox_usd','ad_price_aprox_usd_title','ad_price_aprox_usd_descrip',\\\n",
    "         'UR_limit_USDM2','surface_total_in_m2','description','title']\n",
    "mask_out=(df_rebuilt_v5['price_usd_per_m2']>df_rebuilt_v5['UR_limit_USDM2'])|(df_rebuilt_v5['price_usd_per_m2']<df_rebuilt_v5['LR_limit_USDM2'])\n",
    "# df_rebuilt_v5.loc[mask_out,['property_type','state_name','price_usd_per_m2','UR_limit_USDM2','UR_limit_USDM2']].to_excel('usdM2.xlsx')"
   ]
  },
  {
   "cell_type": "code",
   "execution_count": 57,
   "metadata": {},
   "outputs": [
    {
     "name": "stdout",
     "output_type": "stream",
     "text": [
      "El DF tiene 1094 registros antes de la eliminacion de outliers\n",
      "Los outliers son 78 registros \n",
      "El DF tiene 1016 registros despues de la eliminacion de outliers\n"
     ]
    }
   ],
   "source": [
    "#Elimino los Outliers de Precio USD M2\n",
    "df_rebuilt_v6=df_rebuilt_v5.loc[~mask_out]\n",
    "\n",
    "print(\"El DF tiene\",df_rebuilt_v5.shape[0],\"registros antes de la eliminacion de outliers\")\n",
    "print(\"Los outliers son\",df_rebuilt_v5.loc[mask_out].shape[0],\"registros \")\n",
    "print(\"El DF tiene\",df_rebuilt_v6.shape[0],\"registros despues de la eliminacion de outliers\")"
   ]
  },
  {
   "cell_type": "code",
   "execution_count": 58,
   "metadata": {},
   "outputs": [
    {
     "data": {
      "text/plain": [
       "<AxesSubplot:xlabel='price_usd_per_m2'>"
      ]
     },
     "execution_count": 58,
     "metadata": {},
     "output_type": "execute_result"
    },
    {
     "data": {
      "image/png": "[encoded data removed]",
      "text/plain": [
       "<Figure size 432x288 with 1 Axes>"
      ]
     },
     "metadata": {
      "needs_background": "light"
     },
     "output_type": "display_data"
    }
   ],
   "source": [
    "sns.boxplot(x = df_rebuilt_v6['price_usd_per_m2'])"
   ]
  },
  {
   "cell_type": "code",
   "execution_count": 59,
   "metadata": {},
   "outputs": [
    {
     "data": {
      "text/plain": [
       "<AxesSubplot:xlabel='price_usd_per_m2', ylabel='Density'>"
      ]
     },
     "execution_count": 59,
     "metadata": {},
     "output_type": "execute_result"
    },
    {
     "data": {
      "image/png": "[encoded data removed]",
      "text/plain": [
       "<Figure size 432x288 with 1 Axes>"
      ]
     },
     "metadata": {
      "needs_background": "light"
     },
     "output_type": "display_data"
    }
   ],
   "source": [
    "sns.distplot(df_rebuilt_v6['price_usd_per_m2'])"
   ]
  },
  {
   "cell_type": "markdown",
   "metadata": {},
   "source": [
    "## Variables no Numericas"
   ]
  },
  {
   "cell_type": "markdown",
   "metadata": {},
   "source": [
    "### Campos No Numericos"
   ]
  },
  {
   "cell_type": "markdown",
   "metadata": {},
   "source": [
    "**Campos Categoricos**"
   ]
  },
  {
   "cell_type": "markdown",
   "metadata": {},
   "source": [
    "Existen campos que deben ser considerados Categorical, como ser:\n",
    "1. Property_type\n",
    "2. State Name"
   ]
  },
  {
   "cell_type": "code",
   "execution_count": 60,
   "metadata": {},
   "outputs": [],
   "source": [
    "df_rebuilt_v6['property_type']=df_rebuilt_v6['property_type'].astype('category')\n",
    "df_rebuilt_v6['state_name']=df_rebuilt_v6['state_name'].astype('category')"
   ]
  },
  {
   "cell_type": "markdown",
   "metadata": {},
   "source": [
    "**Campo Place Name y State Name**"
   ]
  },
  {
   "cell_type": "markdown",
   "metadata": {},
   "source": [
    "**Usando str.split crearemos campos control para poder contrastar contra los originales**"
   ]
  },
  {
   "cell_type": "code",
   "execution_count": 61,
   "metadata": {},
   "outputs": [],
   "source": [
    "df_rebuilt_v6[['eliminar','ad_country','ad_state_name','ad_place_name3','ad_place_name_4']]=df_rebuilt_v6['place_with_parent_names'].str.split('|',expand=True,n=4)    \n"
   ]
  },
  {
   "cell_type": "code",
   "execution_count": 62,
   "metadata": {},
   "outputs": [],
   "source": [
    "# df_rebuilt_v5[['place_with_parent_names','eliminar','ad_country','ad_state_name','ad_place_name3','ad_place_name_4','place_name']].to_excel('state.xlsx')"
   ]
  },
  {
   "cell_type": "markdown",
   "metadata": {},
   "source": [
    "Verificamos que State name este correcto"
   ]
  },
  {
   "cell_type": "code",
   "execution_count": 63,
   "metadata": {},
   "outputs": [
    {
     "name": "stdout",
     "output_type": "stream",
     "text": [
      "Son Iguales los campos State Name con los valores del parent field ? True\n"
     ]
    }
   ],
   "source": [
    "#State name es igual al que esta en el campo concatenado\n",
    "#Copiamos el DF a uno nuevo\n",
    "dfv5=df_rebuilt_v6.copy()\n",
    "print(\"Son Iguales los campos State Name con los valores del parent field ?\",all(dfv5['ad_state_name']==dfv5['state_name']))"
   ]
  },
  {
   "cell_type": "markdown",
   "metadata": {},
   "source": [
    "Hacemos lo mismo con Place Name"
   ]
  },
  {
   "cell_type": "code",
   "execution_count": 64,
   "metadata": {},
   "outputs": [
    {
     "name": "stdout",
     "output_type": "stream",
     "text": [
      "Son Iguales los campos place Name con los valores del parent field ? False\n"
     ]
    }
   ],
   "source": [
    "print(\"Son Iguales los campos place Name con los valores del parent field ?\",all(dfv5['ad_place_name3']==dfv5['place_name']))"
   ]
  },
  {
   "cell_type": "code",
   "execution_count": 65,
   "metadata": {},
   "outputs": [],
   "source": [
    "#vemos donde esta la diferencia\n",
    "#mascara de la diferencia entre las dos columnas\n",
    "mask_diff=(dfv5['ad_place_name3']!=dfv5['place_name'])\n",
    "#aplico el cambio\n",
    "dfv5.loc[mask_diff,['place_name']]=dfv5['ad_place_name3']"
   ]
  },
  {
   "cell_type": "code",
   "execution_count": 66,
   "metadata": {},
   "outputs": [
    {
     "data": {
      "text/plain": [
       "False"
      ]
     },
     "execution_count": 66,
     "metadata": {},
     "output_type": "execute_result"
    }
   ],
   "source": [
    "all(mask_diff)"
   ]
  },
  {
   "cell_type": "markdown",
   "metadata": {},
   "source": [
    "Volvemos a Controlar"
   ]
  },
  {
   "cell_type": "code",
   "execution_count": 67,
   "metadata": {},
   "outputs": [
    {
     "name": "stdout",
     "output_type": "stream",
     "text": [
      "Son Iguales los campos place Name con los valores del parent field ? True\n"
     ]
    }
   ],
   "source": [
    "print(\"Son Iguales los campos place Name con los valores del parent field ?\",all(dfv5['ad_place_name3']==dfv5['place_name']))"
   ]
  },
  {
   "cell_type": "markdown",
   "metadata": {},
   "source": [
    "Eliminamos los campos de Control"
   ]
  },
  {
   "cell_type": "code",
   "execution_count": 68,
   "metadata": {},
   "outputs": [],
   "source": [
    "dfv5.drop(columns=['ad_place_name_4','ad_place_name3','ad_state_name','ad_country','ad_price_aprox_usd_title',\\\n",
    "                   'ad_price_aprox_usd_descrip','ad_surface_m2_title','ad_surface_m2_descrip','UR_limit_USD','UR_limit_M2','LR_limit_USD','LR_limit_M2','currency','floor','eliminar'],inplace=True)"
   ]
  },
  {
   "cell_type": "code",
   "execution_count": 69,
   "metadata": {},
   "outputs": [
    {
     "data": {
      "text/html": [
       "<div>\n",
       "<style scoped>\n",
       "    .dataframe tbody tr th:only-of-type {\n",
       "        vertical-align: middle;\n",
       "    }\n",
       "\n",
       "    .dataframe tbody tr th {\n",
       "        vertical-align: top;\n",
       "    }\n",
       "\n",
       "    .dataframe thead th {\n",
       "        text-align: right;\n",
       "    }\n",
       "</style>\n",
       "<table border=\"1\" class=\"dataframe\">\n",
       "  <thead>\n",
       "    <tr style=\"text-align: right;\">\n",
       "      <th></th>\n",
       "      <th>Tipo Dato</th>\n",
       "      <th>No Nulos</th>\n",
       "      <th>Nulos</th>\n",
       "      <th>Total</th>\n",
       "      <th>% Nulos</th>\n",
       "    </tr>\n",
       "  </thead>\n",
       "  <tbody>\n",
       "    <tr>\n",
       "      <th>lat-lon</th>\n",
       "      <td>object</td>\n",
       "      <td>900</td>\n",
       "      <td>116</td>\n",
       "      <td>1016</td>\n",
       "      <td>11.42</td>\n",
       "    </tr>\n",
       "    <tr>\n",
       "      <th>image_thumbnail</th>\n",
       "      <td>object</td>\n",
       "      <td>1011</td>\n",
       "      <td>5</td>\n",
       "      <td>1016</td>\n",
       "      <td>0.49</td>\n",
       "    </tr>\n",
       "    <tr>\n",
       "      <th>property_type</th>\n",
       "      <td>category</td>\n",
       "      <td>1016</td>\n",
       "      <td>0</td>\n",
       "      <td>1016</td>\n",
       "      <td>0.00</td>\n",
       "    </tr>\n",
       "    <tr>\n",
       "      <th>place_name</th>\n",
       "      <td>object</td>\n",
       "      <td>1016</td>\n",
       "      <td>0</td>\n",
       "      <td>1016</td>\n",
       "      <td>0.00</td>\n",
       "    </tr>\n",
       "    <tr>\n",
       "      <th>place_with_parent_names</th>\n",
       "      <td>object</td>\n",
       "      <td>1016</td>\n",
       "      <td>0</td>\n",
       "      <td>1016</td>\n",
       "      <td>0.00</td>\n",
       "    </tr>\n",
       "    <tr>\n",
       "      <th>country_name</th>\n",
       "      <td>object</td>\n",
       "      <td>1016</td>\n",
       "      <td>0</td>\n",
       "      <td>1016</td>\n",
       "      <td>0.00</td>\n",
       "    </tr>\n",
       "    <tr>\n",
       "      <th>state_name</th>\n",
       "      <td>category</td>\n",
       "      <td>1016</td>\n",
       "      <td>0</td>\n",
       "      <td>1016</td>\n",
       "      <td>0.00</td>\n",
       "    </tr>\n",
       "    <tr>\n",
       "      <th>properati_url</th>\n",
       "      <td>object</td>\n",
       "      <td>1016</td>\n",
       "      <td>0</td>\n",
       "      <td>1016</td>\n",
       "      <td>0.00</td>\n",
       "    </tr>\n",
       "    <tr>\n",
       "      <th>description</th>\n",
       "      <td>object</td>\n",
       "      <td>1016</td>\n",
       "      <td>0</td>\n",
       "      <td>1016</td>\n",
       "      <td>0.00</td>\n",
       "    </tr>\n",
       "    <tr>\n",
       "      <th>title</th>\n",
       "      <td>object</td>\n",
       "      <td>1016</td>\n",
       "      <td>0</td>\n",
       "      <td>1016</td>\n",
       "      <td>0.00</td>\n",
       "    </tr>\n",
       "  </tbody>\n",
       "</table>\n",
       "</div>"
      ],
      "text/plain": [
       "                        Tipo Dato  No Nulos  Nulos  Total  % Nulos\n",
       "lat-lon                    object       900    116   1016    11.42\n",
       "image_thumbnail            object      1011      5   1016     0.49\n",
       "property_type            category      1016      0   1016     0.00\n",
       "place_name                 object      1016      0   1016     0.00\n",
       "place_with_parent_names    object      1016      0   1016     0.00\n",
       "country_name               object      1016      0   1016     0.00\n",
       "state_name               category      1016      0   1016     0.00\n",
       "properati_url              object      1016      0   1016     0.00\n",
       "description                object      1016      0   1016     0.00\n",
       "title                      object      1016      0   1016     0.00"
      ]
     },
     "execution_count": 69,
     "metadata": {},
     "output_type": "execute_result"
    }
   ],
   "source": [
    "Summary(dfv5.select_dtypes(exclude=float))"
   ]
  },
  {
   "cell_type": "code",
   "execution_count": 70,
   "metadata": {},
   "outputs": [
    {
     "data": {
      "text/html": [
       "<div>\n",
       "<style scoped>\n",
       "    .dataframe tbody tr th:only-of-type {\n",
       "        vertical-align: middle;\n",
       "    }\n",
       "\n",
       "    .dataframe tbody tr th {\n",
       "        vertical-align: top;\n",
       "    }\n",
       "\n",
       "    .dataframe thead th {\n",
       "        text-align: right;\n",
       "    }\n",
       "</style>\n",
       "<table border=\"1\" class=\"dataframe\">\n",
       "  <thead>\n",
       "    <tr style=\"text-align: right;\">\n",
       "      <th></th>\n",
       "      <th>Tipo Dato</th>\n",
       "      <th>No Nulos</th>\n",
       "      <th>Nulos</th>\n",
       "      <th>Total</th>\n",
       "      <th>% Nulos</th>\n",
       "    </tr>\n",
       "  </thead>\n",
       "  <tbody>\n",
       "    <tr>\n",
       "      <th>rooms</th>\n",
       "      <td>float64</td>\n",
       "      <td>613</td>\n",
       "      <td>403</td>\n",
       "      <td>1016</td>\n",
       "      <td>39.67</td>\n",
       "    </tr>\n",
       "    <tr>\n",
       "      <th>geonames_id</th>\n",
       "      <td>float64</td>\n",
       "      <td>769</td>\n",
       "      <td>247</td>\n",
       "      <td>1016</td>\n",
       "      <td>24.31</td>\n",
       "    </tr>\n",
       "    <tr>\n",
       "      <th>price_usd_per_m2</th>\n",
       "      <td>float64</td>\n",
       "      <td>784</td>\n",
       "      <td>232</td>\n",
       "      <td>1016</td>\n",
       "      <td>22.83</td>\n",
       "    </tr>\n",
       "    <tr>\n",
       "      <th>price_aprox_usd</th>\n",
       "      <td>float64</td>\n",
       "      <td>829</td>\n",
       "      <td>187</td>\n",
       "      <td>1016</td>\n",
       "      <td>18.41</td>\n",
       "    </tr>\n",
       "    <tr>\n",
       "      <th>lat</th>\n",
       "      <td>float64</td>\n",
       "      <td>900</td>\n",
       "      <td>116</td>\n",
       "      <td>1016</td>\n",
       "      <td>11.42</td>\n",
       "    </tr>\n",
       "    <tr>\n",
       "      <th>lon</th>\n",
       "      <td>float64</td>\n",
       "      <td>900</td>\n",
       "      <td>116</td>\n",
       "      <td>1016</td>\n",
       "      <td>11.42</td>\n",
       "    </tr>\n",
       "    <tr>\n",
       "      <th>surface_total_in_m2</th>\n",
       "      <td>float64</td>\n",
       "      <td>919</td>\n",
       "      <td>97</td>\n",
       "      <td>1016</td>\n",
       "      <td>9.55</td>\n",
       "    </tr>\n",
       "    <tr>\n",
       "      <th>UR_limit_USDM2</th>\n",
       "      <td>float64</td>\n",
       "      <td>994</td>\n",
       "      <td>22</td>\n",
       "      <td>1016</td>\n",
       "      <td>2.17</td>\n",
       "    </tr>\n",
       "    <tr>\n",
       "      <th>LR_limit_USDM2</th>\n",
       "      <td>float64</td>\n",
       "      <td>994</td>\n",
       "      <td>22</td>\n",
       "      <td>1016</td>\n",
       "      <td>2.17</td>\n",
       "    </tr>\n",
       "  </tbody>\n",
       "</table>\n",
       "</div>"
      ],
      "text/plain": [
       "                    Tipo Dato  No Nulos  Nulos  Total  % Nulos\n",
       "rooms                 float64       613    403   1016    39.67\n",
       "geonames_id           float64       769    247   1016    24.31\n",
       "price_usd_per_m2      float64       784    232   1016    22.83\n",
       "price_aprox_usd       float64       829    187   1016    18.41\n",
       "lat                   float64       900    116   1016    11.42\n",
       "lon                   float64       900    116   1016    11.42\n",
       "surface_total_in_m2   float64       919     97   1016     9.55\n",
       "UR_limit_USDM2        float64       994     22   1016     2.17\n",
       "LR_limit_USDM2        float64       994     22   1016     2.17"
      ]
     },
     "execution_count": 70,
     "metadata": {},
     "output_type": "execute_result"
    }
   ],
   "source": [
    "Summary(dfv5.select_dtypes(include=float))"
   ]
  },
  {
   "cell_type": "code",
   "execution_count": 71,
   "metadata": {},
   "outputs": [
    {
     "data": {
      "text/html": [
       "<div>\n",
       "<style scoped>\n",
       "    .dataframe tbody tr th:only-of-type {\n",
       "        vertical-align: middle;\n",
       "    }\n",
       "\n",
       "    .dataframe tbody tr th {\n",
       "        vertical-align: top;\n",
       "    }\n",
       "\n",
       "    .dataframe thead th {\n",
       "        text-align: right;\n",
       "    }\n",
       "</style>\n",
       "<table border=\"1\" class=\"dataframe\">\n",
       "  <thead>\n",
       "    <tr style=\"text-align: right;\">\n",
       "      <th></th>\n",
       "      <th>Tipo Dato</th>\n",
       "      <th>No Nulos</th>\n",
       "      <th>Nulos</th>\n",
       "      <th>Total</th>\n",
       "      <th>% Nulos</th>\n",
       "    </tr>\n",
       "  </thead>\n",
       "  <tbody>\n",
       "    <tr>\n",
       "      <th>rooms</th>\n",
       "      <td>float64</td>\n",
       "      <td>613</td>\n",
       "      <td>403</td>\n",
       "      <td>1016</td>\n",
       "      <td>39.67</td>\n",
       "    </tr>\n",
       "    <tr>\n",
       "      <th>price_usd_per_m2</th>\n",
       "      <td>float64</td>\n",
       "      <td>784</td>\n",
       "      <td>232</td>\n",
       "      <td>1016</td>\n",
       "      <td>22.83</td>\n",
       "    </tr>\n",
       "    <tr>\n",
       "      <th>price_aprox_usd</th>\n",
       "      <td>float64</td>\n",
       "      <td>829</td>\n",
       "      <td>187</td>\n",
       "      <td>1016</td>\n",
       "      <td>18.41</td>\n",
       "    </tr>\n",
       "    <tr>\n",
       "      <th>surface_total_in_m2</th>\n",
       "      <td>float64</td>\n",
       "      <td>919</td>\n",
       "      <td>97</td>\n",
       "      <td>1016</td>\n",
       "      <td>9.55</td>\n",
       "    </tr>\n",
       "    <tr>\n",
       "      <th>property_type</th>\n",
       "      <td>category</td>\n",
       "      <td>1016</td>\n",
       "      <td>0</td>\n",
       "      <td>1016</td>\n",
       "      <td>0.00</td>\n",
       "    </tr>\n",
       "    <tr>\n",
       "      <th>place_name</th>\n",
       "      <td>object</td>\n",
       "      <td>1016</td>\n",
       "      <td>0</td>\n",
       "      <td>1016</td>\n",
       "      <td>0.00</td>\n",
       "    </tr>\n",
       "    <tr>\n",
       "      <th>state_name</th>\n",
       "      <td>category</td>\n",
       "      <td>1016</td>\n",
       "      <td>0</td>\n",
       "      <td>1016</td>\n",
       "      <td>0.00</td>\n",
       "    </tr>\n",
       "  </tbody>\n",
       "</table>\n",
       "</div>"
      ],
      "text/plain": [
       "                    Tipo Dato  No Nulos  Nulos  Total  % Nulos\n",
       "rooms                 float64       613    403   1016    39.67\n",
       "price_usd_per_m2      float64       784    232   1016    22.83\n",
       "price_aprox_usd       float64       829    187   1016    18.41\n",
       "surface_total_in_m2   float64       919     97   1016     9.55\n",
       "property_type        category      1016      0   1016     0.00\n",
       "place_name             object      1016      0   1016     0.00\n",
       "state_name           category      1016      0   1016     0.00"
      ]
     },
     "execution_count": 71,
     "metadata": {},
     "output_type": "execute_result"
    }
   ],
   "source": [
    "listColum=['property_type','place_name','state_name','price_usd_per_m2','price_aprox_usd','surface_total_in_m2','rooms']\n",
    "Summary(dfv5[listColum])"
   ]
  },
  {
   "cell_type": "markdown",
   "metadata": {},
   "source": [
    "**Campo Rooms**"
   ]
  },
  {
   "cell_type": "markdown",
   "metadata": {},
   "source": [
    "Vamos a Revisar si existe forma de capturar datos de Descripcion"
   ]
  },
  {
   "cell_type": "markdown",
   "metadata": {},
   "source": [
    "**Capturo datos desde Description**"
   ]
  },
  {
   "cell_type": "code",
   "execution_count": 72,
   "metadata": {},
   "outputs": [
    {
     "name": "stdout",
     "output_type": "stream",
     "text": [
      "Existen 234 registros que pueden ser imputados desde description\n"
     ]
    }
   ],
   "source": [
    "#Creo una mascara para capturar los valores de Rooms\n",
    "\n",
    "Mask_Rooms=dfv5['description'].str.extract('(?P<rooms>\\d)(\\s*?)(amb|ambiente|ambientes|habitaciones|dormitorios|piezas)')['rooms'].astype(float)\n",
    "\n",
    "#Compruebo la cantidad de campos que se podrian llenar (no nulos del campo nuevo y nulos del campo Rooms)\n",
    "\n",
    "mask=(Mask_Rooms.notnull())&(dfv5['rooms'].isnull())\n",
    "\n",
    "print(\"Existen\",dfv5.loc[mask,:].shape[0],\"registros que pueden ser imputados desde description\")\n"
   ]
  },
  {
   "cell_type": "code",
   "execution_count": 73,
   "metadata": {},
   "outputs": [
    {
     "name": "stdout",
     "output_type": "stream",
     "text": [
      "Existen 0 registros que pueden ser imputados desde description\n"
     ]
    }
   ],
   "source": [
    "#Hacemos la imputacion para llenar los campos de Price USD aprox\n",
    "\n",
    "#creo Campo de seguimiento\n",
    "dfv5['ad_Rooms_descrip']=Mask_Rooms \n",
    "#Realizo la imputacion\n",
    "dfv5['rooms'].fillna(value=Mask_Rooms,axis=0,inplace=True)\n",
    "#Controlamos si se hizo correctamente\n",
    "mask=(Mask_Rooms.notnull())&(dfv5['rooms'].isnull())\n",
    "print(\"Existen\",dfv5.loc[mask,:].shape[0],\"registros que pueden ser imputados desde description\")\n",
    "\n"
   ]
  },
  {
   "cell_type": "markdown",
   "metadata": {},
   "source": [
    "**Capturo datos desde title**"
   ]
  },
  {
   "cell_type": "code",
   "execution_count": 74,
   "metadata": {},
   "outputs": [
    {
     "name": "stdout",
     "output_type": "stream",
     "text": [
      "Existen 12 registros que pueden ser imputados desde title\n"
     ]
    }
   ],
   "source": [
    "#Creo una mascara para capturar los valores de Rooms\n",
    "\n",
    "Mask_Rooms=dfv5['title'].str.extract('(?P<rooms>\\d)(\\s*?)(amb|ambiente|ambientes|habitaciones|dormitorios|piezas)')['rooms'].astype(float)\n",
    "\n",
    "\n",
    "#Compruebo la cantidad de campos que se podrian llenar (no nulos del campo nuevo y nulos del campo Rooms)\n",
    "\n",
    "mask=(Mask_Rooms.notnull())&(dfv5['rooms'].isnull())\n",
    "\n",
    "print(\"Existen\",dfv5.loc[mask,:].shape[0],\"registros que pueden ser imputados desde title\")\n"
   ]
  },
  {
   "cell_type": "code",
   "execution_count": 75,
   "metadata": {},
   "outputs": [
    {
     "name": "stdout",
     "output_type": "stream",
     "text": [
      "Existen 0 registros que pueden ser imputados desde title\n"
     ]
    }
   ],
   "source": [
    "#Hacemos la imputacion para llenar los campos de Price USD aprox\n",
    "\n",
    "#creo Campo de seguimiento\n",
    "dfv5['ad_Rooms_title']=Mask_Rooms \n",
    "#Realizo la imputacion\n",
    "dfv5['rooms'].fillna(value=Mask_Rooms,axis=0,inplace=True)\n",
    "#Controlamos si se hizo correctamente\n",
    "mask=(Mask_Rooms.notnull())&(dfv5['rooms'].isnull())\n",
    "print(\"Existen\",dfv5.loc[mask,:].shape[0],\"registros que pueden ser imputados desde title\")\n",
    "\n"
   ]
  },
  {
   "cell_type": "code",
   "execution_count": 76,
   "metadata": {},
   "outputs": [],
   "source": [
    "#eliminamos campos de control\n",
    "dfv5.drop(columns=['ad_Rooms_descrip','ad_Rooms_title'],inplace=True)"
   ]
  },
  {
   "cell_type": "markdown",
   "metadata": {},
   "source": [
    "**Eliminamos Outliers de Rooms**"
   ]
  },
  {
   "cell_type": "code",
   "execution_count": 77,
   "metadata": {},
   "outputs": [],
   "source": [
    "#Version plana de Revision de outliers de Rooms\n",
    "\n",
    "df=dfv5.groupby(['property_type','state_name'])['rooms']\n",
    "\n",
    "UR_limit=pd.DataFrame((df.quantile(0.75))+((df.quantile(0.75)-df.quantile(0.25))*1.5))\n",
    "LR_limit=pd.DataFrame((df.quantile(0.05)))\n",
    "    \n",
    "UR_limit.columns=[\"UR_limit_rooms\"]\n",
    "LR_limit.columns=[\"LR_limit_rooms\"]\n",
    "\n",
    "\n",
    "dfv5=dfv5.merge(right=UR_limit, on=(['property_type','state_name']))\n",
    "dfv5=dfv5.merge(right=LR_limit, on=(['property_type','state_name']))\n",
    "\n"
   ]
  },
  {
   "cell_type": "code",
   "execution_count": 78,
   "metadata": {},
   "outputs": [],
   "source": [
    "#Detecto los outliers\n",
    "listCol=['property_type','state_name','rooms','UR_limit_rooms','LR_limit_rooms']\n",
    "\n",
    "mask_out=(dfv5['rooms']>dfv5['UR_limit_rooms'])|(dfv5['rooms']<dfv5['LR_limit_rooms'])\n",
    "\n",
    "#dfv5.loc[mask_out,['property_type','state_name','rooms','UR_limit_rooms','LR_limit_rooms']].to_excel('rooms.xlsx')"
   ]
  },
  {
   "cell_type": "code",
   "execution_count": 79,
   "metadata": {},
   "outputs": [
    {
     "name": "stdout",
     "output_type": "stream",
     "text": [
      "El DF tiene 1016 registros antes de la eliminacion de outliers\n",
      "Los outliers son 34 registros \n",
      "El DF tiene 982 registros despues de la eliminacion de outliers\n"
     ]
    }
   ],
   "source": [
    "#Elimino los Outliers de Precio USD M2\n",
    "dfv6=dfv5.loc[~mask_out]\n",
    "\n",
    "print(\"El DF tiene\",dfv5.shape[0],\"registros antes de la eliminacion de outliers\")\n",
    "print(\"Los outliers son\",dfv5.loc[mask_out].shape[0],\"registros \")\n",
    "print(\"El DF tiene\",dfv6.shape[0],\"registros despues de la eliminacion de outliers\")\n"
   ]
  },
  {
   "cell_type": "code",
   "execution_count": 80,
   "metadata": {},
   "outputs": [],
   "source": [
    "dfv6.drop(columns=['UR_limit_rooms','LR_limit_USDM2','LR_limit_rooms','UR_limit_USDM2'],inplace=True)"
   ]
  },
  {
   "cell_type": "code",
   "execution_count": 81,
   "metadata": {},
   "outputs": [
    {
     "data": {
      "text/plain": [
       "221"
      ]
     },
     "execution_count": 81,
     "metadata": {},
     "output_type": "execute_result"
    }
   ],
   "source": [
    "dfv6['price_usd_per_m2'].isnull().sum()"
   ]
  },
  {
   "cell_type": "code",
   "execution_count": 82,
   "metadata": {},
   "outputs": [
    {
     "data": {
      "text/plain": [
       "count      761.000000\n",
       "mean      2027.933706\n",
       "std        984.300431\n",
       "min        179.755353\n",
       "25%       1400.000000\n",
       "50%       1977.272727\n",
       "75%       2702.702703\n",
       "max      12500.000000\n",
       "Name: price_usd_per_m2, dtype: float64"
      ]
     },
     "execution_count": 82,
     "metadata": {},
     "output_type": "execute_result"
    }
   ],
   "source": [
    "dfv6['price_usd_per_m2'].describe()"
   ]
  },
  {
   "cell_type": "markdown",
   "metadata": {},
   "source": [
    "### Completamos faltantes con la media"
   ]
  },
  {
   "cell_type": "code",
   "execution_count": 83,
   "metadata": {},
   "outputs": [],
   "source": [
    "dfv7 = dfv6.copy()\n",
    "dfv7_group = dfv7.groupby([\"property_type\", \"state_name\", \"place_name\"])\n",
    "dfv7['price_usd_per_m2'] = dfv7_group[\"price_usd_per_m2\"].transform(lambda grp: grp.fillna(grp.mean()))\n",
    "dfv7['price_aprox_usd'] = dfv7_group[\"price_aprox_usd\"].transform(lambda grp: grp.fillna(grp.mean()))\n",
    "dfv7['surface_total_in_m2'] = dfv7_group[\"surface_total_in_m2\"].transform(lambda grp: grp.fillna(grp.mean()))\n"
   ]
  },
  {
   "cell_type": "code",
   "execution_count": 84,
   "metadata": {},
   "outputs": [
    {
     "data": {
      "text/plain": [
       "78"
      ]
     },
     "execution_count": 84,
     "metadata": {},
     "output_type": "execute_result"
    }
   ],
   "source": [
    "dfv7.price_usd_per_m2.isnull().sum()"
   ]
  },
  {
   "cell_type": "code",
   "execution_count": 85,
   "metadata": {},
   "outputs": [
    {
     "data": {
      "text/plain": [
       "count      904.000000\n",
       "mean      1970.132083\n",
       "std        961.466088\n",
       "min        179.755353\n",
       "25%       1377.733556\n",
       "50%       1903.113553\n",
       "75%       2650.548986\n",
       "max      12500.000000\n",
       "Name: price_usd_per_m2, dtype: float64"
      ]
     },
     "execution_count": 85,
     "metadata": {},
     "output_type": "execute_result"
    }
   ],
   "source": [
    "dfv7['price_usd_per_m2'].describe()"
   ]
  },
  {
   "cell_type": "code",
   "execution_count": 86,
   "metadata": {},
   "outputs": [
    {
     "data": {
      "text/html": [
       "<div>\n",
       "<style scoped>\n",
       "    .dataframe tbody tr th:only-of-type {\n",
       "        vertical-align: middle;\n",
       "    }\n",
       "\n",
       "    .dataframe tbody tr th {\n",
       "        vertical-align: top;\n",
       "    }\n",
       "\n",
       "    .dataframe thead th {\n",
       "        text-align: right;\n",
       "    }\n",
       "</style>\n",
       "<table border=\"1\" class=\"dataframe\">\n",
       "  <thead>\n",
       "    <tr style=\"text-align: right;\">\n",
       "      <th></th>\n",
       "      <th>Tipo Dato</th>\n",
       "      <th>No Nulos</th>\n",
       "      <th>Nulos</th>\n",
       "      <th>Total</th>\n",
       "      <th>% Nulos</th>\n",
       "    </tr>\n",
       "  </thead>\n",
       "  <tbody>\n",
       "    <tr>\n",
       "      <th>geonames_id</th>\n",
       "      <td>float64</td>\n",
       "      <td>744</td>\n",
       "      <td>238</td>\n",
       "      <td>982</td>\n",
       "      <td>24.24</td>\n",
       "    </tr>\n",
       "    <tr>\n",
       "      <th>price_usd_per_m2</th>\n",
       "      <td>float64</td>\n",
       "      <td>761</td>\n",
       "      <td>221</td>\n",
       "      <td>982</td>\n",
       "      <td>22.51</td>\n",
       "    </tr>\n",
       "    <tr>\n",
       "      <th>price_aprox_usd</th>\n",
       "      <td>float64</td>\n",
       "      <td>805</td>\n",
       "      <td>177</td>\n",
       "      <td>982</td>\n",
       "      <td>18.02</td>\n",
       "    </tr>\n",
       "    <tr>\n",
       "      <th>rooms</th>\n",
       "      <td>float64</td>\n",
       "      <td>825</td>\n",
       "      <td>157</td>\n",
       "      <td>982</td>\n",
       "      <td>15.99</td>\n",
       "    </tr>\n",
       "    <tr>\n",
       "      <th>lon</th>\n",
       "      <td>float64</td>\n",
       "      <td>869</td>\n",
       "      <td>113</td>\n",
       "      <td>982</td>\n",
       "      <td>11.51</td>\n",
       "    </tr>\n",
       "    <tr>\n",
       "      <th>lat-lon</th>\n",
       "      <td>object</td>\n",
       "      <td>869</td>\n",
       "      <td>113</td>\n",
       "      <td>982</td>\n",
       "      <td>11.51</td>\n",
       "    </tr>\n",
       "    <tr>\n",
       "      <th>lat</th>\n",
       "      <td>float64</td>\n",
       "      <td>869</td>\n",
       "      <td>113</td>\n",
       "      <td>982</td>\n",
       "      <td>11.51</td>\n",
       "    </tr>\n",
       "    <tr>\n",
       "      <th>surface_total_in_m2</th>\n",
       "      <td>float64</td>\n",
       "      <td>888</td>\n",
       "      <td>94</td>\n",
       "      <td>982</td>\n",
       "      <td>9.57</td>\n",
       "    </tr>\n",
       "    <tr>\n",
       "      <th>image_thumbnail</th>\n",
       "      <td>object</td>\n",
       "      <td>978</td>\n",
       "      <td>4</td>\n",
       "      <td>982</td>\n",
       "      <td>0.41</td>\n",
       "    </tr>\n",
       "    <tr>\n",
       "      <th>place_name</th>\n",
       "      <td>object</td>\n",
       "      <td>982</td>\n",
       "      <td>0</td>\n",
       "      <td>982</td>\n",
       "      <td>0.00</td>\n",
       "    </tr>\n",
       "    <tr>\n",
       "      <th>state_name</th>\n",
       "      <td>category</td>\n",
       "      <td>982</td>\n",
       "      <td>0</td>\n",
       "      <td>982</td>\n",
       "      <td>0.00</td>\n",
       "    </tr>\n",
       "    <tr>\n",
       "      <th>country_name</th>\n",
       "      <td>object</td>\n",
       "      <td>982</td>\n",
       "      <td>0</td>\n",
       "      <td>982</td>\n",
       "      <td>0.00</td>\n",
       "    </tr>\n",
       "    <tr>\n",
       "      <th>place_with_parent_names</th>\n",
       "      <td>object</td>\n",
       "      <td>982</td>\n",
       "      <td>0</td>\n",
       "      <td>982</td>\n",
       "      <td>0.00</td>\n",
       "    </tr>\n",
       "    <tr>\n",
       "      <th>properati_url</th>\n",
       "      <td>object</td>\n",
       "      <td>982</td>\n",
       "      <td>0</td>\n",
       "      <td>982</td>\n",
       "      <td>0.00</td>\n",
       "    </tr>\n",
       "    <tr>\n",
       "      <th>description</th>\n",
       "      <td>object</td>\n",
       "      <td>982</td>\n",
       "      <td>0</td>\n",
       "      <td>982</td>\n",
       "      <td>0.00</td>\n",
       "    </tr>\n",
       "    <tr>\n",
       "      <th>title</th>\n",
       "      <td>object</td>\n",
       "      <td>982</td>\n",
       "      <td>0</td>\n",
       "      <td>982</td>\n",
       "      <td>0.00</td>\n",
       "    </tr>\n",
       "    <tr>\n",
       "      <th>property_type</th>\n",
       "      <td>category</td>\n",
       "      <td>982</td>\n",
       "      <td>0</td>\n",
       "      <td>982</td>\n",
       "      <td>0.00</td>\n",
       "    </tr>\n",
       "  </tbody>\n",
       "</table>\n",
       "</div>"
      ],
      "text/plain": [
       "                        Tipo Dato  No Nulos  Nulos  Total  % Nulos\n",
       "geonames_id               float64       744    238    982    24.24\n",
       "price_usd_per_m2          float64       761    221    982    22.51\n",
       "price_aprox_usd           float64       805    177    982    18.02\n",
       "rooms                     float64       825    157    982    15.99\n",
       "lon                       float64       869    113    982    11.51\n",
       "lat-lon                    object       869    113    982    11.51\n",
       "lat                       float64       869    113    982    11.51\n",
       "surface_total_in_m2       float64       888     94    982     9.57\n",
       "image_thumbnail            object       978      4    982     0.41\n",
       "place_name                 object       982      0    982     0.00\n",
       "state_name               category       982      0    982     0.00\n",
       "country_name               object       982      0    982     0.00\n",
       "place_with_parent_names    object       982      0    982     0.00\n",
       "properati_url              object       982      0    982     0.00\n",
       "description                object       982      0    982     0.00\n",
       "title                      object       982      0    982     0.00\n",
       "property_type            category       982      0    982     0.00"
      ]
     },
     "execution_count": 86,
     "metadata": {},
     "output_type": "execute_result"
    }
   ],
   "source": [
    "Summary(dfv6)"
   ]
  },
  {
   "cell_type": "markdown",
   "metadata": {},
   "source": [
    "## Generamos un csv Limpio para Relaciones y Graficos"
   ]
  },
  {
   "cell_type": "markdown",
   "metadata": {},
   "source": [
    "### Borramos Nulos"
   ]
  },
  {
   "cell_type": "code",
   "execution_count": 87,
   "metadata": {},
   "outputs": [
    {
     "data": {
      "text/plain": [
       "(904, 17)"
      ]
     },
     "execution_count": 87,
     "metadata": {},
     "output_type": "execute_result"
    }
   ],
   "source": [
    "dfv8 = dfv7.copy()\n",
    "mask = 'price_aprox_usd', 'surface_total_in_m2'\n",
    "subset=['name', 'born']\n",
    "subset=['name', 'born']\n",
    "\n",
    "dfv8.dropna(subset=['price_usd_per_m2','price_aprox_usd', 'surface_total_in_m2'], inplace=True, axis=0)\n",
    "dfv8.shape"
   ]
  },
  {
   "cell_type": "code",
   "execution_count": 88,
   "metadata": {},
   "outputs": [
    {
     "data": {
      "text/plain": [
       "(982, 17)"
      ]
     },
     "execution_count": 88,
     "metadata": {},
     "output_type": "execute_result"
    }
   ],
   "source": [
    "dfv7.shape"
   ]
  },
  {
   "cell_type": "code",
   "execution_count": 89,
   "metadata": {},
   "outputs": [
    {
     "data": {
      "text/plain": [
       "69"
      ]
     },
     "execution_count": 89,
     "metadata": {},
     "output_type": "execute_result"
    }
   ],
   "source": [
    "dfv7['price_aprox_usd'].isnull().sum()"
   ]
  },
  {
   "cell_type": "code",
   "execution_count": 90,
   "metadata": {},
   "outputs": [
    {
     "data": {
      "text/plain": [
       "22"
      ]
     },
     "execution_count": 90,
     "metadata": {},
     "output_type": "execute_result"
    }
   ],
   "source": [
    "dfv7['surface_total_in_m2'].isnull().sum()"
   ]
  },
  {
   "cell_type": "markdown",
   "metadata": {},
   "source": [
    "## Agregamos Amenities"
   ]
  },
  {
   "cell_type": "code",
   "execution_count": 91,
   "metadata": {},
   "outputs": [
    {
     "data": {
      "text/plain": [
       "0.0    331\n",
       "1.0    291\n",
       "2.0    167\n",
       "3.0     92\n",
       "4.0     23\n",
       "Name: cant_amenities, dtype: int64"
      ]
     },
     "execution_count": 91,
     "metadata": {},
     "output_type": "execute_result"
    }
   ],
   "source": [
    "dfv8['parrilla']=dfv8['description'].str.extract('(parrilla)').replace('parrilla', 1).astype(float)\n",
    "dfv8['pileta']=dfv8['description'].str.extract('(pileta)').replace('pileta', 1).astype(float)\n",
    "dfv8['cochera']=dfv8['description'].str.extract('(cochera)').replace('cochera', 1).astype(float)\n",
    "dfv8['gimnasio']=dfv8['description'].str.extract('(gimnasio)').replace('gimnasio', 1).astype(float)\n",
    "\n",
    "dfv8['cant_amenities'] = dfv8['parrilla'].fillna(0) + dfv8['pileta'].fillna(0) + dfv8['cochera'].fillna(0) + dfv8['gimnasio'].fillna(0)\n",
    "dfv8['cant_amenities'].value_counts()"
   ]
  },
  {
   "cell_type": "markdown",
   "metadata": {},
   "source": [
    "**Generacion del csv limpio**"
   ]
  },
  {
   "cell_type": "code",
   "execution_count": 92,
   "metadata": {},
   "outputs": [],
   "source": [
    "dfv8.to_csv(\"../Data/properati_clean.csv\",sep=',')"
   ]
  },
  {
   "cell_type": "code",
   "execution_count": 93,
   "metadata": {},
   "outputs": [
    {
     "data": {
      "text/html": [
       "<div>\n",
       "<style scoped>\n",
       "    .dataframe tbody tr th:only-of-type {\n",
       "        vertical-align: middle;\n",
       "    }\n",
       "\n",
       "    .dataframe tbody tr th {\n",
       "        vertical-align: top;\n",
       "    }\n",
       "\n",
       "    .dataframe thead th {\n",
       "        text-align: right;\n",
       "    }\n",
       "</style>\n",
       "<table border=\"1\" class=\"dataframe\">\n",
       "  <thead>\n",
       "    <tr style=\"text-align: right;\">\n",
       "      <th></th>\n",
       "      <th>Tipo Dato</th>\n",
       "      <th>No Nulos</th>\n",
       "      <th>Nulos</th>\n",
       "      <th>Total</th>\n",
       "      <th>% Nulos</th>\n",
       "    </tr>\n",
       "  </thead>\n",
       "  <tbody>\n",
       "    <tr>\n",
       "      <th>gimnasio</th>\n",
       "      <td>float64</td>\n",
       "      <td>86</td>\n",
       "      <td>818</td>\n",
       "      <td>904</td>\n",
       "      <td>90.49</td>\n",
       "    </tr>\n",
       "    <tr>\n",
       "      <th>pileta</th>\n",
       "      <td>float64</td>\n",
       "      <td>175</td>\n",
       "      <td>729</td>\n",
       "      <td>904</td>\n",
       "      <td>80.64</td>\n",
       "    </tr>\n",
       "    <tr>\n",
       "      <th>parrilla</th>\n",
       "      <td>float64</td>\n",
       "      <td>334</td>\n",
       "      <td>570</td>\n",
       "      <td>904</td>\n",
       "      <td>63.05</td>\n",
       "    </tr>\n",
       "    <tr>\n",
       "      <th>cochera</th>\n",
       "      <td>float64</td>\n",
       "      <td>398</td>\n",
       "      <td>506</td>\n",
       "      <td>904</td>\n",
       "      <td>55.97</td>\n",
       "    </tr>\n",
       "    <tr>\n",
       "      <th>geonames_id</th>\n",
       "      <td>float64</td>\n",
       "      <td>668</td>\n",
       "      <td>236</td>\n",
       "      <td>904</td>\n",
       "      <td>26.11</td>\n",
       "    </tr>\n",
       "    <tr>\n",
       "      <th>rooms</th>\n",
       "      <td>float64</td>\n",
       "      <td>762</td>\n",
       "      <td>142</td>\n",
       "      <td>904</td>\n",
       "      <td>15.71</td>\n",
       "    </tr>\n",
       "    <tr>\n",
       "      <th>lat-lon</th>\n",
       "      <td>object</td>\n",
       "      <td>795</td>\n",
       "      <td>109</td>\n",
       "      <td>904</td>\n",
       "      <td>12.06</td>\n",
       "    </tr>\n",
       "    <tr>\n",
       "      <th>lat</th>\n",
       "      <td>float64</td>\n",
       "      <td>795</td>\n",
       "      <td>109</td>\n",
       "      <td>904</td>\n",
       "      <td>12.06</td>\n",
       "    </tr>\n",
       "    <tr>\n",
       "      <th>lon</th>\n",
       "      <td>float64</td>\n",
       "      <td>795</td>\n",
       "      <td>109</td>\n",
       "      <td>904</td>\n",
       "      <td>12.06</td>\n",
       "    </tr>\n",
       "    <tr>\n",
       "      <th>image_thumbnail</th>\n",
       "      <td>object</td>\n",
       "      <td>900</td>\n",
       "      <td>4</td>\n",
       "      <td>904</td>\n",
       "      <td>0.44</td>\n",
       "    </tr>\n",
       "    <tr>\n",
       "      <th>property_type</th>\n",
       "      <td>category</td>\n",
       "      <td>904</td>\n",
       "      <td>0</td>\n",
       "      <td>904</td>\n",
       "      <td>0.00</td>\n",
       "    </tr>\n",
       "    <tr>\n",
       "      <th>description</th>\n",
       "      <td>object</td>\n",
       "      <td>904</td>\n",
       "      <td>0</td>\n",
       "      <td>904</td>\n",
       "      <td>0.00</td>\n",
       "    </tr>\n",
       "    <tr>\n",
       "      <th>title</th>\n",
       "      <td>object</td>\n",
       "      <td>904</td>\n",
       "      <td>0</td>\n",
       "      <td>904</td>\n",
       "      <td>0.00</td>\n",
       "    </tr>\n",
       "    <tr>\n",
       "      <th>price_usd_per_m2</th>\n",
       "      <td>float64</td>\n",
       "      <td>904</td>\n",
       "      <td>0</td>\n",
       "      <td>904</td>\n",
       "      <td>0.00</td>\n",
       "    </tr>\n",
       "    <tr>\n",
       "      <th>properati_url</th>\n",
       "      <td>object</td>\n",
       "      <td>904</td>\n",
       "      <td>0</td>\n",
       "      <td>904</td>\n",
       "      <td>0.00</td>\n",
       "    </tr>\n",
       "    <tr>\n",
       "      <th>place_name</th>\n",
       "      <td>object</td>\n",
       "      <td>904</td>\n",
       "      <td>0</td>\n",
       "      <td>904</td>\n",
       "      <td>0.00</td>\n",
       "    </tr>\n",
       "    <tr>\n",
       "      <th>surface_total_in_m2</th>\n",
       "      <td>float64</td>\n",
       "      <td>904</td>\n",
       "      <td>0</td>\n",
       "      <td>904</td>\n",
       "      <td>0.00</td>\n",
       "    </tr>\n",
       "    <tr>\n",
       "      <th>price_aprox_usd</th>\n",
       "      <td>float64</td>\n",
       "      <td>904</td>\n",
       "      <td>0</td>\n",
       "      <td>904</td>\n",
       "      <td>0.00</td>\n",
       "    </tr>\n",
       "    <tr>\n",
       "      <th>state_name</th>\n",
       "      <td>category</td>\n",
       "      <td>904</td>\n",
       "      <td>0</td>\n",
       "      <td>904</td>\n",
       "      <td>0.00</td>\n",
       "    </tr>\n",
       "    <tr>\n",
       "      <th>country_name</th>\n",
       "      <td>object</td>\n",
       "      <td>904</td>\n",
       "      <td>0</td>\n",
       "      <td>904</td>\n",
       "      <td>0.00</td>\n",
       "    </tr>\n",
       "    <tr>\n",
       "      <th>place_with_parent_names</th>\n",
       "      <td>object</td>\n",
       "      <td>904</td>\n",
       "      <td>0</td>\n",
       "      <td>904</td>\n",
       "      <td>0.00</td>\n",
       "    </tr>\n",
       "    <tr>\n",
       "      <th>cant_amenities</th>\n",
       "      <td>float64</td>\n",
       "      <td>904</td>\n",
       "      <td>0</td>\n",
       "      <td>904</td>\n",
       "      <td>0.00</td>\n",
       "    </tr>\n",
       "  </tbody>\n",
       "</table>\n",
       "</div>"
      ],
      "text/plain": [
       "                        Tipo Dato  No Nulos  Nulos  Total  % Nulos\n",
       "gimnasio                  float64        86    818    904    90.49\n",
       "pileta                    float64       175    729    904    80.64\n",
       "parrilla                  float64       334    570    904    63.05\n",
       "cochera                   float64       398    506    904    55.97\n",
       "geonames_id               float64       668    236    904    26.11\n",
       "rooms                     float64       762    142    904    15.71\n",
       "lat-lon                    object       795    109    904    12.06\n",
       "lat                       float64       795    109    904    12.06\n",
       "lon                       float64       795    109    904    12.06\n",
       "image_thumbnail            object       900      4    904     0.44\n",
       "property_type            category       904      0    904     0.00\n",
       "description                object       904      0    904     0.00\n",
       "title                      object       904      0    904     0.00\n",
       "price_usd_per_m2          float64       904      0    904     0.00\n",
       "properati_url              object       904      0    904     0.00\n",
       "place_name                 object       904      0    904     0.00\n",
       "surface_total_in_m2       float64       904      0    904     0.00\n",
       "price_aprox_usd           float64       904      0    904     0.00\n",
       "state_name               category       904      0    904     0.00\n",
       "country_name               object       904      0    904     0.00\n",
       "place_with_parent_names    object       904      0    904     0.00\n",
       "cant_amenities            float64       904      0    904     0.00"
      ]
     },
     "execution_count": 93,
     "metadata": {},
     "output_type": "execute_result"
    }
   ],
   "source": [
    "Summary(dfv8)"
   ]
  },
  {
   "cell_type": "code",
   "execution_count": null,
   "metadata": {},
   "outputs": [],
   "source": []
  },
  {
   "cell_type": "code",
   "execution_count": null,
   "metadata": {},
   "outputs": [],
   "source": []
  },
  {
   "cell_type": "markdown",
   "metadata": {},
   "source": [
    "### Usando profiling"
   ]
  },
  {
   "cell_type": "code",
   "execution_count": 94,
   "metadata": {},
   "outputs": [],
   "source": [
    "#prof=ProfileReport(dfv8,title='properati Report v8')\n",
    "#prof.to_file(output_file='output_dfv8.html')"
   ]
  },
  {
   "cell_type": "code",
   "execution_count": 95,
   "metadata": {},
   "outputs": [],
   "source": [
    "# prof=ProfileReport(data,title='properati Report v1')\n",
    "# prof.to_file(output_file='output_data.html')"
   ]
  },
  {
   "cell_type": "code",
   "execution_count": 96,
   "metadata": {},
   "outputs": [],
   "source": [
    "#prof=ProfileReport(dfv6,title='properati Report v7')\n",
    "#prof.to_file(output_file='output_dfv7.html')"
   ]
  },
  {
   "cell_type": "code",
   "execution_count": null,
   "metadata": {},
   "outputs": [],
   "source": []
  },
  {
   "cell_type": "code",
   "execution_count": null,
   "metadata": {},
   "outputs": [],
   "source": []
  }
 ],
 "metadata": {
  "kernelspec": {
   "display_name": "Python 3",
   "language": "python",
   "name": "python3"
  },
  "language_info": {
   "codemirror_mode": {
    "name": "ipython",
    "version": 3
   },
   "file_extension": ".py",
   "mimetype": "text/x-python",
   "name": "python",
   "nbconvert_exporter": "python",
   "pygments_lexer": "ipython3",
   "version": "3.8.5"
  }
 },
 "nbformat": 4,
 "nbformat_minor": 4
}
