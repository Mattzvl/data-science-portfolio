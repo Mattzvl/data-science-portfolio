{
 "cells": [
  {
   "cell_type": "markdown",
   "metadata": {},
   "source": [
    "# Limpieza de Datos"
   ]
  },
  {
   "cell_type": "markdown",
   "metadata": {},
   "source": [
    "### Importamos las Librerias"
   ]
  },
  {
   "cell_type": "code",
   "execution_count": 1,
   "metadata": {},
   "outputs": [],
   "source": [
    "import pandas as pd\n",
    "import numpy as np\n",
    "import seaborn as sns\n",
    "from pandas_profiling import ProfileReport\n",
    "import warnings\n",
    "warnings.filterwarnings('ignore')"
   ]
  },
  {
   "cell_type": "markdown",
   "metadata": {},
   "source": [
    "### Importamos los Datos"
   ]
  },
  {
   "cell_type": "code",
   "execution_count": 8,
   "metadata": {},
   "outputs": [
    {
     "ename": "ParserError",
     "evalue": "Error tokenizing data. C error: Expected 26 fields in line 216, saw 32\n",
     "output_type": "error",
     "traceback": [
      "\u001b[1;31m---------------------------------------------------------------------------\u001b[0m",
      "\u001b[1;31mParserError\u001b[0m                               Traceback (most recent call last)",
      "\u001b[1;32m<ipython-input-8-9b6b3d118684>\u001b[0m in \u001b[0;36m<module>\u001b[1;34m\u001b[0m\n\u001b[0;32m      1\u001b[0m \u001b[1;31m# importing dataset\u001b[0m\u001b[1;33m\u001b[0m\u001b[1;33m\u001b[0m\u001b[1;33m\u001b[0m\u001b[0m\n\u001b[0;32m      2\u001b[0m \u001b[0mlocation\u001b[0m \u001b[1;33m=\u001b[0m \u001b[1;34mr\"./properati.csv\"\u001b[0m \u001b[1;31m## un '.' busca en la carpeta que lo contiene\u001b[0m\u001b[1;33m\u001b[0m\u001b[1;33m\u001b[0m\u001b[0m\n\u001b[1;32m----> 3\u001b[1;33m \u001b[0mdata\u001b[0m\u001b[1;33m=\u001b[0m\u001b[0mpd\u001b[0m\u001b[1;33m.\u001b[0m\u001b[0mread_csv\u001b[0m\u001b[1;33m(\u001b[0m\u001b[0mlocation\u001b[0m\u001b[1;33m,\u001b[0m\u001b[0msep\u001b[0m\u001b[1;33m=\u001b[0m\u001b[1;34m','\u001b[0m\u001b[1;33m)\u001b[0m\u001b[1;33m\u001b[0m\u001b[1;33m\u001b[0m\u001b[0m\n\u001b[0m",
      "\u001b[1;32m~\\anaconda3\\envs\\dhdsblend\\lib\\site-packages\\pandas\\io\\parsers.py\u001b[0m in \u001b[0;36mparser_f\u001b[1;34m(filepath_or_buffer, sep, delimiter, header, names, index_col, usecols, squeeze, prefix, mangle_dupe_cols, dtype, engine, converters, true_values, false_values, skipinitialspace, skiprows, skipfooter, nrows, na_values, keep_default_na, na_filter, verbose, skip_blank_lines, parse_dates, infer_datetime_format, keep_date_col, date_parser, dayfirst, cache_dates, iterator, chunksize, compression, thousands, decimal, lineterminator, quotechar, quoting, doublequote, escapechar, comment, encoding, dialect, error_bad_lines, warn_bad_lines, delim_whitespace, low_memory, memory_map, float_precision)\u001b[0m\n\u001b[0;32m    674\u001b[0m         )\n\u001b[0;32m    675\u001b[0m \u001b[1;33m\u001b[0m\u001b[0m\n\u001b[1;32m--> 676\u001b[1;33m         \u001b[1;32mreturn\u001b[0m \u001b[0m_read\u001b[0m\u001b[1;33m(\u001b[0m\u001b[0mfilepath_or_buffer\u001b[0m\u001b[1;33m,\u001b[0m \u001b[0mkwds\u001b[0m\u001b[1;33m)\u001b[0m\u001b[1;33m\u001b[0m\u001b[1;33m\u001b[0m\u001b[0m\n\u001b[0m\u001b[0;32m    677\u001b[0m \u001b[1;33m\u001b[0m\u001b[0m\n\u001b[0;32m    678\u001b[0m     \u001b[0mparser_f\u001b[0m\u001b[1;33m.\u001b[0m\u001b[0m__name__\u001b[0m \u001b[1;33m=\u001b[0m \u001b[0mname\u001b[0m\u001b[1;33m\u001b[0m\u001b[1;33m\u001b[0m\u001b[0m\n",
      "\u001b[1;32m~\\anaconda3\\envs\\dhdsblend\\lib\\site-packages\\pandas\\io\\parsers.py\u001b[0m in \u001b[0;36m_read\u001b[1;34m(filepath_or_buffer, kwds)\u001b[0m\n\u001b[0;32m    452\u001b[0m \u001b[1;33m\u001b[0m\u001b[0m\n\u001b[0;32m    453\u001b[0m     \u001b[1;32mtry\u001b[0m\u001b[1;33m:\u001b[0m\u001b[1;33m\u001b[0m\u001b[1;33m\u001b[0m\u001b[0m\n\u001b[1;32m--> 454\u001b[1;33m         \u001b[0mdata\u001b[0m \u001b[1;33m=\u001b[0m \u001b[0mparser\u001b[0m\u001b[1;33m.\u001b[0m\u001b[0mread\u001b[0m\u001b[1;33m(\u001b[0m\u001b[0mnrows\u001b[0m\u001b[1;33m)\u001b[0m\u001b[1;33m\u001b[0m\u001b[1;33m\u001b[0m\u001b[0m\n\u001b[0m\u001b[0;32m    455\u001b[0m     \u001b[1;32mfinally\u001b[0m\u001b[1;33m:\u001b[0m\u001b[1;33m\u001b[0m\u001b[1;33m\u001b[0m\u001b[0m\n\u001b[0;32m    456\u001b[0m         \u001b[0mparser\u001b[0m\u001b[1;33m.\u001b[0m\u001b[0mclose\u001b[0m\u001b[1;33m(\u001b[0m\u001b[1;33m)\u001b[0m\u001b[1;33m\u001b[0m\u001b[1;33m\u001b[0m\u001b[0m\n",
      "\u001b[1;32m~\\anaconda3\\envs\\dhdsblend\\lib\\site-packages\\pandas\\io\\parsers.py\u001b[0m in \u001b[0;36mread\u001b[1;34m(self, nrows)\u001b[0m\n\u001b[0;32m   1131\u001b[0m     \u001b[1;32mdef\u001b[0m \u001b[0mread\u001b[0m\u001b[1;33m(\u001b[0m\u001b[0mself\u001b[0m\u001b[1;33m,\u001b[0m \u001b[0mnrows\u001b[0m\u001b[1;33m=\u001b[0m\u001b[1;32mNone\u001b[0m\u001b[1;33m)\u001b[0m\u001b[1;33m:\u001b[0m\u001b[1;33m\u001b[0m\u001b[1;33m\u001b[0m\u001b[0m\n\u001b[0;32m   1132\u001b[0m         \u001b[0mnrows\u001b[0m \u001b[1;33m=\u001b[0m \u001b[0m_validate_integer\u001b[0m\u001b[1;33m(\u001b[0m\u001b[1;34m\"nrows\"\u001b[0m\u001b[1;33m,\u001b[0m \u001b[0mnrows\u001b[0m\u001b[1;33m)\u001b[0m\u001b[1;33m\u001b[0m\u001b[1;33m\u001b[0m\u001b[0m\n\u001b[1;32m-> 1133\u001b[1;33m         \u001b[0mret\u001b[0m \u001b[1;33m=\u001b[0m \u001b[0mself\u001b[0m\u001b[1;33m.\u001b[0m\u001b[0m_engine\u001b[0m\u001b[1;33m.\u001b[0m\u001b[0mread\u001b[0m\u001b[1;33m(\u001b[0m\u001b[0mnrows\u001b[0m\u001b[1;33m)\u001b[0m\u001b[1;33m\u001b[0m\u001b[1;33m\u001b[0m\u001b[0m\n\u001b[0m\u001b[0;32m   1134\u001b[0m \u001b[1;33m\u001b[0m\u001b[0m\n\u001b[0;32m   1135\u001b[0m         \u001b[1;31m# May alter columns / col_dict\u001b[0m\u001b[1;33m\u001b[0m\u001b[1;33m\u001b[0m\u001b[1;33m\u001b[0m\u001b[0m\n",
      "\u001b[1;32m~\\anaconda3\\envs\\dhdsblend\\lib\\site-packages\\pandas\\io\\parsers.py\u001b[0m in \u001b[0;36mread\u001b[1;34m(self, nrows)\u001b[0m\n\u001b[0;32m   2035\u001b[0m     \u001b[1;32mdef\u001b[0m \u001b[0mread\u001b[0m\u001b[1;33m(\u001b[0m\u001b[0mself\u001b[0m\u001b[1;33m,\u001b[0m \u001b[0mnrows\u001b[0m\u001b[1;33m=\u001b[0m\u001b[1;32mNone\u001b[0m\u001b[1;33m)\u001b[0m\u001b[1;33m:\u001b[0m\u001b[1;33m\u001b[0m\u001b[1;33m\u001b[0m\u001b[0m\n\u001b[0;32m   2036\u001b[0m         \u001b[1;32mtry\u001b[0m\u001b[1;33m:\u001b[0m\u001b[1;33m\u001b[0m\u001b[1;33m\u001b[0m\u001b[0m\n\u001b[1;32m-> 2037\u001b[1;33m             \u001b[0mdata\u001b[0m \u001b[1;33m=\u001b[0m \u001b[0mself\u001b[0m\u001b[1;33m.\u001b[0m\u001b[0m_reader\u001b[0m\u001b[1;33m.\u001b[0m\u001b[0mread\u001b[0m\u001b[1;33m(\u001b[0m\u001b[0mnrows\u001b[0m\u001b[1;33m)\u001b[0m\u001b[1;33m\u001b[0m\u001b[1;33m\u001b[0m\u001b[0m\n\u001b[0m\u001b[0;32m   2038\u001b[0m         \u001b[1;32mexcept\u001b[0m \u001b[0mStopIteration\u001b[0m\u001b[1;33m:\u001b[0m\u001b[1;33m\u001b[0m\u001b[1;33m\u001b[0m\u001b[0m\n\u001b[0;32m   2039\u001b[0m             \u001b[1;32mif\u001b[0m \u001b[0mself\u001b[0m\u001b[1;33m.\u001b[0m\u001b[0m_first_chunk\u001b[0m\u001b[1;33m:\u001b[0m\u001b[1;33m\u001b[0m\u001b[1;33m\u001b[0m\u001b[0m\n",
      "\u001b[1;32mpandas\\_libs\\parsers.pyx\u001b[0m in \u001b[0;36mpandas._libs.parsers.TextReader.read\u001b[1;34m()\u001b[0m\n",
      "\u001b[1;32mpandas\\_libs\\parsers.pyx\u001b[0m in \u001b[0;36mpandas._libs.parsers.TextReader._read_low_memory\u001b[1;34m()\u001b[0m\n",
      "\u001b[1;32mpandas\\_libs\\parsers.pyx\u001b[0m in \u001b[0;36mpandas._libs.parsers.TextReader._read_rows\u001b[1;34m()\u001b[0m\n",
      "\u001b[1;32mpandas\\_libs\\parsers.pyx\u001b[0m in \u001b[0;36mpandas._libs.parsers.TextReader._tokenize_rows\u001b[1;34m()\u001b[0m\n",
      "\u001b[1;32mpandas\\_libs\\parsers.pyx\u001b[0m in \u001b[0;36mpandas._libs.parsers.raise_parser_error\u001b[1;34m()\u001b[0m\n",
      "\u001b[1;31mParserError\u001b[0m: Error tokenizing data. C error: Expected 26 fields in line 216, saw 32\n"
     ]
    }
   ],
   "source": [
    "# importing dataset\n",
    "location = r\"./properati.csv\" ## un '.' busca en la carpeta que lo contiene\n",
    "data=pd.read_csv(location,sep=',')"
   ]
  },
  {
   "cell_type": "markdown",
   "metadata": {},
   "source": [
    "### Analizamos la estructura del Dataframe"
   ]
  },
  {
   "cell_type": "code",
   "execution_count": 6,
   "metadata": {},
   "outputs": [],
   "source": [
    "#Resumir el Dataset\n",
    "def Summary(data):\n",
    "    data_null=data.isnull().sum()\n",
    "    data_Not_Null=data.notnull().sum()\n",
    "    data_total=data.shape[0]\n",
    "    data_id=data.index\n",
    "    data_null_porc=(data_null*100/data_total).round(2)\n",
    "    data_type=data.dtypes\n",
    "#     data_min=data.min()\n",
    "#     data_mean=data.mean()\n",
    "#     data_max=data.max()\n",
    "\n",
    "    dataSumm=pd.DataFrame({'Tipo Dato':data_type,\n",
    "                        'No Nulos':data_Not_Null,\n",
    "                       'Nulos':data_null,\n",
    "                       'Total':data_total,\n",
    "                        '% Nulos':data_null_porc,\n",
    "#                         'Minimo':data_min,\n",
    "#                         'Media':data_mean,\n",
    "#                         'Maximo':data_max\n",
    "                          }).sort_values(by='% Nulos',ascending=False)\n",
    "    return dataSumm"
   ]
  },
  {
   "cell_type": "code",
   "execution_count": 7,
   "metadata": {},
   "outputs": [
    {
     "data": {
      "text/html": [
       "<div>\n",
       "<style scoped>\n",
       "    .dataframe tbody tr th:only-of-type {\n",
       "        vertical-align: middle;\n",
       "    }\n",
       "\n",
       "    .dataframe tbody tr th {\n",
       "        vertical-align: top;\n",
       "    }\n",
       "\n",
       "    .dataframe thead th {\n",
       "        text-align: right;\n",
       "    }\n",
       "</style>\n",
       "<table border=\"1\" class=\"dataframe\">\n",
       "  <thead>\n",
       "    <tr style=\"text-align: right;\">\n",
       "      <th></th>\n",
       "      <th>Tipo Dato</th>\n",
       "      <th>No Nulos</th>\n",
       "      <th>Nulos</th>\n",
       "      <th>Total</th>\n",
       "      <th>% Nulos</th>\n",
       "    </tr>\n",
       "  </thead>\n",
       "  <tbody>\n",
       "    <tr>\n",
       "      <th>floor</th>\n",
       "      <td>float64</td>\n",
       "      <td>7899</td>\n",
       "      <td>113321</td>\n",
       "      <td>121220</td>\n",
       "      <td>93.48</td>\n",
       "    </tr>\n",
       "    <tr>\n",
       "      <th>expenses</th>\n",
       "      <td>float64</td>\n",
       "      <td>14262</td>\n",
       "      <td>106958</td>\n",
       "      <td>121220</td>\n",
       "      <td>88.23</td>\n",
       "    </tr>\n",
       "    <tr>\n",
       "      <th>rooms</th>\n",
       "      <td>float64</td>\n",
       "      <td>47390</td>\n",
       "      <td>73830</td>\n",
       "      <td>121220</td>\n",
       "      <td>60.91</td>\n",
       "    </tr>\n",
       "    <tr>\n",
       "      <th>price_usd_per_m2</th>\n",
       "      <td>float64</td>\n",
       "      <td>68617</td>\n",
       "      <td>52603</td>\n",
       "      <td>121220</td>\n",
       "      <td>43.39</td>\n",
       "    </tr>\n",
       "    <tr>\n",
       "      <th>lat-lon</th>\n",
       "      <td>object</td>\n",
       "      <td>69670</td>\n",
       "      <td>51550</td>\n",
       "      <td>121220</td>\n",
       "      <td>42.53</td>\n",
       "    </tr>\n",
       "    <tr>\n",
       "      <th>lat</th>\n",
       "      <td>float64</td>\n",
       "      <td>69670</td>\n",
       "      <td>51550</td>\n",
       "      <td>121220</td>\n",
       "      <td>42.53</td>\n",
       "    </tr>\n",
       "    <tr>\n",
       "      <th>lon</th>\n",
       "      <td>float64</td>\n",
       "      <td>69670</td>\n",
       "      <td>51550</td>\n",
       "      <td>121220</td>\n",
       "      <td>42.53</td>\n",
       "    </tr>\n",
       "    <tr>\n",
       "      <th>surface_total_in_m2</th>\n",
       "      <td>float64</td>\n",
       "      <td>81892</td>\n",
       "      <td>39328</td>\n",
       "      <td>121220</td>\n",
       "      <td>32.44</td>\n",
       "    </tr>\n",
       "    <tr>\n",
       "      <th>price_per_m2</th>\n",
       "      <td>float64</td>\n",
       "      <td>87658</td>\n",
       "      <td>33562</td>\n",
       "      <td>121220</td>\n",
       "      <td>27.69</td>\n",
       "    </tr>\n",
       "    <tr>\n",
       "      <th>price_aprox_local_currency</th>\n",
       "      <td>float64</td>\n",
       "      <td>100810</td>\n",
       "      <td>20410</td>\n",
       "      <td>121220</td>\n",
       "      <td>16.84</td>\n",
       "    </tr>\n",
       "    <tr>\n",
       "      <th>price</th>\n",
       "      <td>float64</td>\n",
       "      <td>100810</td>\n",
       "      <td>20410</td>\n",
       "      <td>121220</td>\n",
       "      <td>16.84</td>\n",
       "    </tr>\n",
       "    <tr>\n",
       "      <th>currency</th>\n",
       "      <td>object</td>\n",
       "      <td>100809</td>\n",
       "      <td>20411</td>\n",
       "      <td>121220</td>\n",
       "      <td>16.84</td>\n",
       "    </tr>\n",
       "    <tr>\n",
       "      <th>price_aprox_usd</th>\n",
       "      <td>float64</td>\n",
       "      <td>100810</td>\n",
       "      <td>20410</td>\n",
       "      <td>121220</td>\n",
       "      <td>16.84</td>\n",
       "    </tr>\n",
       "    <tr>\n",
       "      <th>surface_covered_in_m2</th>\n",
       "      <td>float64</td>\n",
       "      <td>101313</td>\n",
       "      <td>19907</td>\n",
       "      <td>121220</td>\n",
       "      <td>16.42</td>\n",
       "    </tr>\n",
       "    <tr>\n",
       "      <th>geonames_id</th>\n",
       "      <td>float64</td>\n",
       "      <td>102503</td>\n",
       "      <td>18717</td>\n",
       "      <td>121220</td>\n",
       "      <td>15.44</td>\n",
       "    </tr>\n",
       "    <tr>\n",
       "      <th>image_thumbnail</th>\n",
       "      <td>object</td>\n",
       "      <td>118108</td>\n",
       "      <td>3112</td>\n",
       "      <td>121220</td>\n",
       "      <td>2.57</td>\n",
       "    </tr>\n",
       "    <tr>\n",
       "      <th>place_name</th>\n",
       "      <td>object</td>\n",
       "      <td>121197</td>\n",
       "      <td>23</td>\n",
       "      <td>121220</td>\n",
       "      <td>0.02</td>\n",
       "    </tr>\n",
       "    <tr>\n",
       "      <th>operation</th>\n",
       "      <td>object</td>\n",
       "      <td>121220</td>\n",
       "      <td>0</td>\n",
       "      <td>121220</td>\n",
       "      <td>0.00</td>\n",
       "    </tr>\n",
       "    <tr>\n",
       "      <th>state_name</th>\n",
       "      <td>object</td>\n",
       "      <td>121220</td>\n",
       "      <td>0</td>\n",
       "      <td>121220</td>\n",
       "      <td>0.00</td>\n",
       "    </tr>\n",
       "    <tr>\n",
       "      <th>country_name</th>\n",
       "      <td>object</td>\n",
       "      <td>121220</td>\n",
       "      <td>0</td>\n",
       "      <td>121220</td>\n",
       "      <td>0.00</td>\n",
       "    </tr>\n",
       "    <tr>\n",
       "      <th>place_with_parent_names</th>\n",
       "      <td>object</td>\n",
       "      <td>121220</td>\n",
       "      <td>0</td>\n",
       "      <td>121220</td>\n",
       "      <td>0.00</td>\n",
       "    </tr>\n",
       "    <tr>\n",
       "      <th>property_type</th>\n",
       "      <td>object</td>\n",
       "      <td>121220</td>\n",
       "      <td>0</td>\n",
       "      <td>121220</td>\n",
       "      <td>0.00</td>\n",
       "    </tr>\n",
       "    <tr>\n",
       "      <th>properati_url</th>\n",
       "      <td>object</td>\n",
       "      <td>121220</td>\n",
       "      <td>0</td>\n",
       "      <td>121220</td>\n",
       "      <td>0.00</td>\n",
       "    </tr>\n",
       "    <tr>\n",
       "      <th>description</th>\n",
       "      <td>object</td>\n",
       "      <td>121218</td>\n",
       "      <td>2</td>\n",
       "      <td>121220</td>\n",
       "      <td>0.00</td>\n",
       "    </tr>\n",
       "    <tr>\n",
       "      <th>title</th>\n",
       "      <td>object</td>\n",
       "      <td>121220</td>\n",
       "      <td>0</td>\n",
       "      <td>121220</td>\n",
       "      <td>0.00</td>\n",
       "    </tr>\n",
       "    <tr>\n",
       "      <th>Unnamed: 0</th>\n",
       "      <td>int64</td>\n",
       "      <td>121220</td>\n",
       "      <td>0</td>\n",
       "      <td>121220</td>\n",
       "      <td>0.00</td>\n",
       "    </tr>\n",
       "  </tbody>\n",
       "</table>\n",
       "</div>"
      ],
      "text/plain": [
       "                           Tipo Dato  No Nulos   Nulos   Total  % Nulos\n",
       "floor                        float64      7899  113321  121220    93.48\n",
       "expenses                     float64     14262  106958  121220    88.23\n",
       "rooms                        float64     47390   73830  121220    60.91\n",
       "price_usd_per_m2             float64     68617   52603  121220    43.39\n",
       "lat-lon                       object     69670   51550  121220    42.53\n",
       "lat                          float64     69670   51550  121220    42.53\n",
       "lon                          float64     69670   51550  121220    42.53\n",
       "surface_total_in_m2          float64     81892   39328  121220    32.44\n",
       "price_per_m2                 float64     87658   33562  121220    27.69\n",
       "price_aprox_local_currency   float64    100810   20410  121220    16.84\n",
       "price                        float64    100810   20410  121220    16.84\n",
       "currency                      object    100809   20411  121220    16.84\n",
       "price_aprox_usd              float64    100810   20410  121220    16.84\n",
       "surface_covered_in_m2        float64    101313   19907  121220    16.42\n",
       "geonames_id                  float64    102503   18717  121220    15.44\n",
       "image_thumbnail               object    118108    3112  121220     2.57\n",
       "place_name                    object    121197      23  121220     0.02\n",
       "operation                     object    121220       0  121220     0.00\n",
       "state_name                    object    121220       0  121220     0.00\n",
       "country_name                  object    121220       0  121220     0.00\n",
       "place_with_parent_names       object    121220       0  121220     0.00\n",
       "property_type                 object    121220       0  121220     0.00\n",
       "properati_url                 object    121220       0  121220     0.00\n",
       "description                   object    121218       2  121220     0.00\n",
       "title                         object    121220       0  121220     0.00\n",
       "Unnamed: 0                     int64    121220       0  121220     0.00"
      ]
     },
     "execution_count": 7,
     "metadata": {},
     "output_type": "execute_result"
    }
   ],
   "source": [
    "# #Genero el resumen en Excel\n",
    "Summary(data)\n",
    "# Summary(data).to_excel('Summary.xlsx',sheet_name='Hoja1')"
   ]
  },
  {
   "cell_type": "markdown",
   "metadata": {},
   "source": [
    "Eliminamos los Campos con mas del 60% Nulos que no tienen relevancia para el analisis"
   ]
  },
  {
   "cell_type": "code",
   "execution_count": null,
   "metadata": {},
   "outputs": [],
   "source": [
    "# Eliminamos campos con mas de 60% de Nulos\n",
    "data_mdf=data.copy()\n",
    "data_mdf.drop(columns=['expenses','Unnamed: 0'],inplace=True)"
   ]
  },
  {
   "cell_type": "code",
   "execution_count": null,
   "metadata": {},
   "outputs": [],
   "source": [
    "#Controlamos como quedo.\n",
    "Summary(data_mdf)"
   ]
  },
  {
   "cell_type": "markdown",
   "metadata": {},
   "source": [
    "SE PUEDE ELIMINAR\n",
    "    UNNAMED 0\n",
    "    PLACE_WITH_PARENTS_NAMES (ES CONCATENACION DE OTROS CAMPOS YA EXISTENTES)\n",
    "REVISAR RELACIONES:\n",
    "    METROS 2 DE SUPERFICIE NO PUEDEN SER MAYORES A LOS DE LO EDIFICADO\n",
    "    TIPO DE CAMBIO APLICADO ENTRE PESOS Y USD\n",
    "   \n",
    "    \n",
    "    "
   ]
  },
  {
   "cell_type": "markdown",
   "metadata": {},
   "source": [
    "## Variables Numericas"
   ]
  },
  {
   "cell_type": "markdown",
   "metadata": {},
   "source": [
    "### Controlando los Campos Numericos"
   ]
  },
  {
   "cell_type": "markdown",
   "metadata": {},
   "source": [
    "**1.1 \n",
    "Controlamos las Equivalencias entre currency y valor usd aprox**"
   ]
  },
  {
   "cell_type": "code",
   "execution_count": null,
   "metadata": {},
   "outputs": [],
   "source": [
    "def price_fields(df,Curr):\n",
    "    mask = df['currency'] == Curr\n",
    "    a = all(df.loc[mask,'price']== df.loc[mask,'price_aprox_usd'])\n",
    "    return print('Todos los valores de price con currency USD son iguales a los de price_apox_usd?',str(a))\n"
   ]
  },
  {
   "cell_type": "code",
   "execution_count": null,
   "metadata": {},
   "outputs": [],
   "source": [
    "price_fields(data_mdf,'USD')\n"
   ]
  },
  {
   "cell_type": "markdown",
   "metadata": {},
   "source": [
    "  \n",
    " "
   ]
  },
  {
   "cell_type": "markdown",
   "metadata": {},
   "source": [
    "**2.1 CAMPOS SUPERFICIE METROS CUADRADOS CUBIERTA Y TOTAL**"
   ]
  },
  {
   "cell_type": "markdown",
   "metadata": {},
   "source": [
    "**2.1.2 Vamos a establecer si la la relacion entre SUP CUBIERTA Y SUP TOTAL es razonable**"
   ]
  },
  {
   "cell_type": "code",
   "execution_count": null,
   "metadata": {},
   "outputs": [],
   "source": [
    "#Crear mascara para verificar si esta correcto la relacion Sup cubierta vs Sup total\n",
    "mask_M2_dif=(data_mdf['surface_covered_in_m2'])>\\\n",
    "            (data_mdf['surface_total_in_m2'])\n",
    "# all(data_mdf)\n",
    "print(\"Cantidad de Registros a Corregir\",data_mdf.loc[mask_M2_dif].shape[0])"
   ]
  },
  {
   "cell_type": "code",
   "execution_count": null,
   "metadata": {},
   "outputs": [],
   "source": [
    "#Corregimos la inconcistencia\n",
    "data_mdf.loc[mask_M2_dif,['surface_total_in_m2']]=data_mdf['surface_covered_in_m2']\n",
    "\n",
    "#chequeamos Nuevamente\n",
    "mask_M2_dif=(data_mdf['surface_covered_in_m2'])>\\\n",
    "            (data_mdf['surface_total_in_m2'])\n",
    "# all(data_mdf)\n",
    "print(\"Cantidad de Registros a Corregir\",data_mdf.loc[mask_M2_dif].shape[0])"
   ]
  },
  {
   "cell_type": "markdown",
   "metadata": {},
   "source": [
    "**2.1.1 Vamos a imputar los valores de SUP Cubierta a Sup Total en los casos donde este ultimo es Null**"
   ]
  },
  {
   "cell_type": "code",
   "execution_count": null,
   "metadata": {},
   "outputs": [],
   "source": [
    "#Crear mascara para verificar cuantos Nulos tienen SUP TOTAL que si tengan valores SUP CUB\n",
    "mask_M2_null=(data_mdf['surface_total_in_m2'].isnull())&\\\n",
    "                (data_mdf['surface_covered_in_m2'].notnull())\n",
    "\n",
    "print(\"Existen la cantidad de\",data_mdf[mask_M2_null].shape[0], \"registros en SUP TOTAL como Nulos que Tienen Valores en SUP CUB\")\n",
    "\n"
   ]
  },
  {
   "cell_type": "code",
   "execution_count": null,
   "metadata": {},
   "outputs": [],
   "source": [
    "#Vamos a llenar con los Valores de M2 Sup Cubierta los valores Faltantes de Sup Total\n",
    "#Crear mascara para verificar cuales son los que son Null en Sup Total\n",
    "\n",
    "mask_M2_null=(data_mdf['surface_total_in_m2'].isnull())&\\\n",
    "                    (data_mdf['surface_covered_in_m2'].notnull())\n",
    "\n",
    "data_mdf.loc[mask_M2_null,['surface_total_in_m2','surface_covered_in_m2']]\n",
    "\n",
    "#vamos a Copiar el DF para trabajar sobre uno nuevo\n",
    "data_mdf_M2_OK=data_mdf.copy()\n",
    "\n",
    "data_mdf_M2_OK['surface_total_in_m2'].fillna(value=data_mdf_M2_OK['surface_covered_in_m2'],inplace=True)\n"
   ]
  },
  {
   "cell_type": "code",
   "execution_count": null,
   "metadata": {},
   "outputs": [],
   "source": [
    "print(\"Registros nulos en Surface Total antes de la imputación: \",data_mdf['surface_total_in_m2'].isnull().sum())\n",
    "print(\"Regsitros nulos en Surface despues de la Imputación: \",data_mdf_M2_OK['surface_total_in_m2'].isnull().sum())"
   ]
  },
  {
   "cell_type": "markdown",
   "metadata": {},
   "source": [
    "  "
   ]
  },
  {
   "cell_type": "markdown",
   "metadata": {},
   "source": [
    "  "
   ]
  },
  {
   "cell_type": "markdown",
   "metadata": {},
   "source": [
    "**2.1.3 Existen registros que pueden ser imputados capturando datos desde title**"
   ]
  },
  {
   "cell_type": "code",
   "execution_count": null,
   "metadata": {},
   "outputs": [],
   "source": [
    "#paso a lower a todos los campos strings descriptivos\n",
    "data_mdf_M2_OK['title']=data_mdf_M2_OK['title'].str.lower()\n",
    "data_mdf_M2_OK['description']=data_mdf_M2_OK['description'].str.lower()"
   ]
  },
  {
   "cell_type": "code",
   "execution_count": null,
   "metadata": {},
   "outputs": [],
   "source": [
    "#Creamos el regex\n",
    "M2_captured=data_mdf_M2_OK['title'].str.extract('(?P<num>\\d+\\.?\\d+)(\\,)?(^\\.)?(\\d*)?(\\s)?(?=m2|m²|mts|mts2|metros)')['num'].replace({'\\.':\"\"},regex=True).astype(float)\n",
    "\n",
    "#Creo la mascara para controlar la cantidad que puede ser imputada\n",
    "mask=(M2_captured.notnull())&(M2_captured!=False)&(data_mdf_M2_OK['surface_total_in_m2'].isnull())\n",
    "\n",
    "print(\"Existen\",data_mdf_M2_OK.loc[mask,:].shape[0],\"registros que pueden ser imputados desde title\")\n"
   ]
  },
  {
   "cell_type": "code",
   "execution_count": null,
   "metadata": {},
   "outputs": [],
   "source": [
    "#Relleno los datos con lo capturado desde Title\n",
    "#Campo Backup\n",
    "data_mdf_M2_OK['ad_surface_m2_title']=M2_captured\n",
    "data_mdf_M2_OK['surface_total_in_m2'].fillna(M2_captured,axis=0,inplace=True)"
   ]
  },
  {
   "cell_type": "markdown",
   "metadata": {},
   "source": [
    "  "
   ]
  },
  {
   "cell_type": "code",
   "execution_count": null,
   "metadata": {},
   "outputs": [],
   "source": [
    "#Controlo que ya no tenga mas datos para llenar\n",
    "mask=(M2_captured.notnull())&(M2_captured!=False)&(data_mdf_M2_OK['surface_total_in_m2'].isnull())\n",
    "print(\"Existen\",data_mdf_M2_OK.loc[mask,:].shape[0],\"registros que pueden ser imputados desde title\")"
   ]
  },
  {
   "cell_type": "markdown",
   "metadata": {},
   "source": [
    "  "
   ]
  },
  {
   "cell_type": "markdown",
   "metadata": {},
   "source": [
    "**2.1.4 Existen registros que pueden ser imputados capturando datos desde Description**"
   ]
  },
  {
   "cell_type": "code",
   "execution_count": null,
   "metadata": {},
   "outputs": [],
   "source": [
    "#Creamos el regex\n",
    "M2_captured_2=data_mdf_M2_OK['description'].str.extract('(?P<num>\\d+\\.?\\d+)(\\,)?(^\\.)?(\\d*)?(\\s)?(?=m2|m²|mts|mts2|metros)')['num'].replace({'\\.':\"\"},regex=True).astype(float)\n",
    "\n",
    "#Creo la mascara para controlar la cantidad que puede ser imputada\n",
    "mask=(M2_captured_2.notnull())&(M2_captured_2!=False)&(data_mdf_M2_OK['surface_total_in_m2'].isnull())\n",
    "\n",
    "print(\"Existen\",data_mdf_M2_OK.loc[mask,:].shape[0],\"registros que pueden ser imputados desde Description\")\n"
   ]
  },
  {
   "cell_type": "code",
   "execution_count": null,
   "metadata": {},
   "outputs": [],
   "source": [
    "#Relleno los datos con lo capturado desde description\n",
    "#Campo Backup\n",
    "data_mdf_M2_OK['ad_surface_m2_descrip']=M2_captured_2\n",
    "data_mdf_M2_OK['surface_total_in_m2'].fillna(M2_captured_2,axis=0,inplace=True)"
   ]
  },
  {
   "cell_type": "markdown",
   "metadata": {},
   "source": [
    "  "
   ]
  },
  {
   "cell_type": "code",
   "execution_count": null,
   "metadata": {},
   "outputs": [],
   "source": [
    "#Controlo que ya no tenga mas datos para llenar\n",
    "mask=(M2_captured_2.notnull())&(M2_captured_2!=False)&(data_mdf_M2_OK['surface_total_in_m2'].isnull())\n",
    "print(\"Existen\",data_mdf_M2_OK.loc[mask,:].shape[0],\"registros que pueden ser imputados desde title\")"
   ]
  },
  {
   "cell_type": "markdown",
   "metadata": {},
   "source": [
    "**2.2 CAMPOS PRECIO USD Y PRECIO USD M2**"
   ]
  },
  {
   "cell_type": "markdown",
   "metadata": {},
   "source": [
    "**VAMOS A CONTROLAR SI EXISTE FORMA DE LLENAR EL PRECIO USD M2 QUE FALTAN USANDO PRECIO USD Y M2 SUP TOTAL**"
   ]
  },
  {
   "cell_type": "markdown",
   "metadata": {},
   "source": [
    "**2.2.1 Es Posible Capturar precio en dolares del campo Title para llenar el campo Precio_USD_aprox**"
   ]
  },
  {
   "cell_type": "code",
   "execution_count": null,
   "metadata": {},
   "outputs": [],
   "source": [
    "#Creo una mascara para capturar los valores precedidos de U$S o U$D\n",
    "df_rebuilt=data_mdf_M2_OK.copy()\n",
    "USD_capture=df_rebuilt['title'].str.extract('(u\\$?s?d) (\\d+[\\.]*\\d*[\\.]*\\d*)')[1].replace({'\\.':\"\"},regex=True).astype(float)\n"
   ]
  },
  {
   "cell_type": "code",
   "execution_count": null,
   "metadata": {},
   "outputs": [],
   "source": [
    "#Compruebo la cantidad de campos que se podrian llenar (no nulos del campo nuevo y nulos del campo Precio USD Aprox)\n",
    "\n",
    "mask=(USD_capture.notnull())&(df_rebuilt['price_aprox_usd'].isnull())\n",
    "\n",
    "print(\"Existen\",df_rebuilt.loc[mask,:].shape[0],\"registros que pueden ser imputados desde Title\")\n"
   ]
  },
  {
   "cell_type": "code",
   "execution_count": null,
   "metadata": {},
   "outputs": [],
   "source": [
    "#Hacemos la imputacion para llenar los campos de Price USD aprox\n",
    "df_rebuilt_v2=df_rebuilt.copy()\n",
    "#creo Campo de seguimiento\n",
    "df_rebuilt_v2['ad_price_aprox_usd_title']=USD_capture \n",
    "#Realizo la imputacion\n",
    "df_rebuilt_v2['price_aprox_usd'].fillna(value=USD_capture,axis=0,inplace=True)\n",
    "#Controlamos si se hizo correctamente\n",
    "mask=(USD_capture.notnull())&(df_rebuilt_v2['price_aprox_usd'].isnull())\n",
    "print(\"Existen\",df_rebuilt_v2.loc[mask,:].shape[0],\"registros que pueden ser imputados desde Title\")\n",
    "\n"
   ]
  },
  {
   "cell_type": "markdown",
   "metadata": {},
   "source": [
    "**Comparamos los cambios antes de la imputacion**"
   ]
  },
  {
   "cell_type": "code",
   "execution_count": null,
   "metadata": {},
   "outputs": [],
   "source": [
    "Summary(df_rebuilt[['surface_total_in_m2','price_aprox_usd','price_usd_per_m2']])"
   ]
  },
  {
   "cell_type": "markdown",
   "metadata": {},
   "source": [
    "**Comparamos los cambios despues de la imputacion**"
   ]
  },
  {
   "cell_type": "code",
   "execution_count": null,
   "metadata": {},
   "outputs": [],
   "source": [
    "Summary(df_rebuilt_v2[['surface_total_in_m2','price_aprox_usd','price_usd_per_m2']])"
   ]
  },
  {
   "cell_type": "code",
   "execution_count": null,
   "metadata": {},
   "outputs": [],
   "source": []
  },
  {
   "cell_type": "markdown",
   "metadata": {},
   "source": [
    "**2.2.2 Es Posible Capturar precio en dolares del campo Description para llenar el campo Precio_USD_aprox**"
   ]
  },
  {
   "cell_type": "code",
   "execution_count": null,
   "metadata": {},
   "outputs": [],
   "source": [
    "#Creo una mascara para capturar los valores precedidos de U$S o U$D\n",
    "\n",
    "USD_capture_2=df_rebuilt_v2['description'].str.extract('(u\\$?s?d) (\\d+[\\.]*\\d*[\\.]*\\d*)')[1].replace({'\\.':\"\"},regex=True).astype(float)\n"
   ]
  },
  {
   "cell_type": "code",
   "execution_count": null,
   "metadata": {},
   "outputs": [],
   "source": [
    "#Compruebo la cantidad de campos que se podrian llenar (no nulos del campo nuevo y nulos del campo Precio USD Aprox)\n",
    "\n",
    "mask=(USD_capture_2.notnull())&(df_rebuilt_v2['price_aprox_usd'].isnull())\n",
    "\n",
    "print(\"Existen\",df_rebuilt_v2.loc[mask,:].shape[0],\"registros que pueden ser imputados desde description\")\n"
   ]
  },
  {
   "cell_type": "code",
   "execution_count": null,
   "metadata": {},
   "outputs": [],
   "source": [
    "#Hacemos la imputacion para llenar los campos de Price USD aprox\n",
    "#creo Campo de seguimiento\n",
    "df_rebuilt_v2['ad_price_aprox_usd_descrip']=USD_capture       \n",
    "#Realizo la imputacion\n",
    "df_rebuilt_v2['price_aprox_usd'].fillna(value=USD_capture,axis=0,inplace=True)\n",
    "#Controlo si se efectuo correctamente\n",
    "mask=(USD_capture.notnull())&(df_rebuilt_v2['price_aprox_usd'].isnull())\n",
    "print(\"Existen\",df_rebuilt_v2.loc[mask,:].shape[0],\"registros que pueden ser imputados desde description\")\n",
    "\n"
   ]
  },
  {
   "cell_type": "markdown",
   "metadata": {},
   "source": [
    "**Comparamos los cambios antes de la imputacion**"
   ]
  },
  {
   "cell_type": "code",
   "execution_count": null,
   "metadata": {},
   "outputs": [],
   "source": [
    "Summary(df_rebuilt[['surface_total_in_m2','price_aprox_usd','price_usd_per_m2']])"
   ]
  },
  {
   "cell_type": "markdown",
   "metadata": {},
   "source": [
    "**Comparamos los cambios despues de la imputacion**"
   ]
  },
  {
   "cell_type": "code",
   "execution_count": null,
   "metadata": {},
   "outputs": [],
   "source": [
    "Summary(df_rebuilt_v2[['surface_total_in_m2','price_aprox_usd','price_usd_per_m2']])"
   ]
  },
  {
   "cell_type": "markdown",
   "metadata": {},
   "source": [
    "**2.2.2 Ahora podemos tomar Precio USD Aprox para rellenar Precio USD M2**"
   ]
  },
  {
   "cell_type": "code",
   "execution_count": null,
   "metadata": {},
   "outputs": [],
   "source": [
    "#Creo una Mascara para poder determinar los registros en donde Precio USD x M2 siendo nulos tiene valores utilizables en Precio USD y Sup Total \n",
    "mask_price_x_m2_null=\\\n",
    "(df_rebuilt_v2['price_usd_per_m2'].isnull())&\\\n",
    "(df_rebuilt_v2['price_aprox_usd'].notnull())&\\\n",
    "(df_rebuilt_v2['surface_total_in_m2'].notnull())\n",
    "\n",
    "print(\"Existen\",data_mdf_M2_OK.loc[mask_price_x_m2_null,:].shape[0],\"registros que pueden ser Imputados\")"
   ]
  },
  {
   "cell_type": "code",
   "execution_count": null,
   "metadata": {},
   "outputs": [],
   "source": [
    "#ahora lleno los valores nulos con los datos \n",
    "#Creo copia del DF\n",
    "df_rebuilt_v3=df_rebuilt_v2.copy()\n",
    "#Lleno con apply\n",
    "\n",
    "Price_USD_M2_calculated=df_rebuilt_v3.apply(lambda x: 0 if x['surface_total_in_m2']==0 else x['price_aprox_usd'] / x['surface_total_in_m2'],axis=1)\n",
    "df_rebuilt_v3['price_usd_per_m2']=Price_USD_M2_calculated\n",
    "\n",
    "#compruebo\n",
    "mask_price_x_m2_Notnull=\\\n",
    "(df_rebuilt_v3['price_usd_per_m2'].isnull())&\\\n",
    "(df_rebuilt_v3['price_aprox_usd'].notnull()&\\\n",
    " df_rebuilt_v3['surface_total_in_m2'].notnull())\n",
    "print(\"Existian valores Nulos para imputar?: \",any(mask_price_x_m2_null))\n",
    "print(\"Existen valores Nulos para imputar ahora que hicimos la imputacion?: \",any(mask_price_x_m2_Notnull))"
   ]
  },
  {
   "cell_type": "markdown",
   "metadata": {},
   "source": [
    "**2.2.3 Comparamos el efecto de la imputacion en los campos respectivos**"
   ]
  },
  {
   "cell_type": "code",
   "execution_count": null,
   "metadata": {},
   "outputs": [],
   "source": [
    "Summary(df_rebuilt[['surface_total_in_m2','price_aprox_usd','price_usd_per_m2','state_name','property_type']])"
   ]
  },
  {
   "cell_type": "code",
   "execution_count": null,
   "metadata": {},
   "outputs": [],
   "source": [
    "Summary(df_rebuilt_v2[['surface_total_in_m2','price_aprox_usd','price_usd_per_m2','state_name','property_type']])"
   ]
  },
  {
   "cell_type": "code",
   "execution_count": null,
   "metadata": {},
   "outputs": [],
   "source": [
    "Summary(df_rebuilt_v3[['surface_total_in_m2','price_aprox_usd','price_usd_per_m2','state_name','property_type']])"
   ]
  },
  {
   "cell_type": "markdown",
   "metadata": {},
   "source": [
    "**Nota:** Resta evaluar si se puede llenar el Campo Precio USD M2 por medio de los promedios de los barrios"
   ]
  },
  {
   "cell_type": "markdown",
   "metadata": {},
   "source": [
    "**2.2.4 Evaluamos la informacion agrupada por Barrio y Tipo de propiedad**"
   ]
  },
  {
   "cell_type": "code",
   "execution_count": null,
   "metadata": {},
   "outputs": [],
   "source": [
    "df_rebuilt_v3.groupby(['property_type','place_name','rooms'])['surface_total_in_m2'].describe()"
   ]
  },
  {
   "cell_type": "markdown",
   "metadata": {},
   "source": [
    "**Elimino los Campos que no vamos a usar**"
   ]
  },
  {
   "cell_type": "code",
   "execution_count": null,
   "metadata": {},
   "outputs": [],
   "source": [
    "df_rebuilt_v3.drop(columns=['price','price_aprox_local_currency','surface_covered_in_m2','price_per_m2','operation'],inplace=True)"
   ]
  },
  {
   "cell_type": "markdown",
   "metadata": {},
   "source": [
    "  "
   ]
  },
  {
   "cell_type": "markdown",
   "metadata": {},
   "source": [
    "**Elimino los elementos duplicados en la columna description**"
   ]
  },
  {
   "cell_type": "code",
   "execution_count": null,
   "metadata": {},
   "outputs": [],
   "source": [
    "#calculo los duplicados\n",
    "print(\"Existen\",df_rebuilt_v3.duplicated(['description','title','property_type']).sum(),\"Duplicados\")"
   ]
  },
  {
   "cell_type": "code",
   "execution_count": null,
   "metadata": {},
   "outputs": [],
   "source": [
    "df_rebuilt_v3.drop_duplicates(['description','title','property_type'],keep='last',inplace=True)"
   ]
  },
  {
   "cell_type": "code",
   "execution_count": null,
   "metadata": {},
   "outputs": [],
   "source": [
    "#control de los duplicados\n",
    "print(\"Existen\",df_rebuilt_v3.duplicated(['description','title','property_type']).sum(),\"Duplicados\")"
   ]
  },
  {
   "cell_type": "markdown",
   "metadata": {},
   "source": []
  },
  {
   "cell_type": "markdown",
   "metadata": {},
   "source": [
    "### Outliers"
   ]
  },
  {
   "cell_type": "markdown",
   "metadata": {},
   "source": [
    "**Campo Surface M2 total**"
   ]
  },
  {
   "cell_type": "code",
   "execution_count": null,
   "metadata": {},
   "outputs": [],
   "source": [
    "sns.boxplot(x = df_rebuilt_v3['surface_total_in_m2'])"
   ]
  },
  {
   "cell_type": "code",
   "execution_count": null,
   "metadata": {},
   "outputs": [],
   "source": [
    "sns.distplot(df_rebuilt_v3['surface_total_in_m2'])"
   ]
  },
  {
   "cell_type": "markdown",
   "metadata": {},
   "source": [
    "**Buscamos los Outliers de Superficie Total M2 por tipo de propiedad**"
   ]
  },
  {
   "cell_type": "code",
   "execution_count": null,
   "metadata": {},
   "outputs": [],
   "source": [
    "#Version plana de Revision de outliers de Sup Total\n",
    "\n",
    "df=df_rebuilt_v3.groupby(['property_type'])['surface_total_in_m2']\n",
    "\n",
    "UR_limit=pd.DataFrame((df.quantile(0.75))+((df.quantile(0.75)-df.quantile(0.25))*1.5))\n",
    "LR_limit=pd.DataFrame((df.quantile(0.05)))\n",
    "    \n",
    "\n",
    "\n",
    "UR_limit.columns=[\"UR_limit_M2\"]\n",
    "LR_limit.columns=[\"LR_limit_M2\"]\n",
    "\n",
    "\n",
    "df_rebuilt_v3=df_rebuilt_v3.merge(right=UR_limit, on=('property_type'))\n",
    "df_rebuilt_v3=df_rebuilt_v3.merge(right=LR_limit, on=('property_type'))\n",
    "\n"
   ]
  },
  {
   "cell_type": "markdown",
   "metadata": {},
   "source": [
    "**Imputamos desde lo capturado de title a los Sup M2 los que estan menos del 5% del percentil**"
   ]
  },
  {
   "cell_type": "code",
   "execution_count": null,
   "metadata": {},
   "outputs": [],
   "source": [
    "mask_0=df_rebuilt_v3['surface_total_in_m2']<df_rebuilt_v3['LR_limit_M2']\n",
    "mask_2=df_rebuilt_v3['ad_surface_m2_title'].notnull()\n",
    "df_rebuilt_v3.loc[mask_0&mask_2,['surface_total_in_m2']]=df_rebuilt_v3['ad_surface_m2_title']"
   ]
  },
  {
   "cell_type": "markdown",
   "metadata": {},
   "source": [
    "**Detectamos los Outliers**"
   ]
  },
  {
   "cell_type": "code",
   "execution_count": null,
   "metadata": {},
   "outputs": [],
   "source": [
    "#Detecto los outliers\n",
    "listCol=['property_type','surface_total_in_m2','ad_surface_m2_title','ad_surface_m2_descrip','UR_limit_M2','LR_limit_M2','description','title']\n",
    "mask_out=(df_rebuilt_v3['surface_total_in_m2']>df_rebuilt_v3['UR_limit_M2'])|(df_rebuilt_v3['surface_total_in_m2']<df_rebuilt_v3['LR_limit_M2'])\n",
    "df_rebuilt_v3.loc[mask_out,listCol].to_excel('outliers23.xlsx')\n"
   ]
  },
  {
   "cell_type": "markdown",
   "metadata": {},
   "source": [
    "**Eliminamos los Outliers**"
   ]
  },
  {
   "cell_type": "code",
   "execution_count": null,
   "metadata": {},
   "outputs": [],
   "source": [
    "#Eliminamos lor Outliers creando un DF Nuevo (v4)\n",
    "\n",
    "df_rebuilt_v4=df_rebuilt_v3.loc[~mask_out]\n",
    "\n",
    "print(\"El DF tiene\",df_rebuilt_v3.shape[0],\"registros antes de la eliminacion de outliers\")\n",
    "print(\"Los outliers son\",df_rebuilt_v3.loc[mask_out].shape[0],\"registros \")\n",
    "print(\"El DF tiene\",df_rebuilt_v4.shape[0],\"registros despues de la eliminacion de outliers\")"
   ]
  },
  {
   "cell_type": "markdown",
   "metadata": {},
   "source": [
    "**Graficamos Nuevamente**"
   ]
  },
  {
   "cell_type": "code",
   "execution_count": null,
   "metadata": {},
   "outputs": [],
   "source": [
    "sns.boxplot(x = df_rebuilt_v4['surface_total_in_m2'])"
   ]
  },
  {
   "cell_type": "code",
   "execution_count": null,
   "metadata": {},
   "outputs": [],
   "source": [
    "sns.distplot(df_rebuilt_v4['surface_total_in_m2'])"
   ]
  },
  {
   "cell_type": "markdown",
   "metadata": {},
   "source": [
    "**Buscamos los Outliers de Precio USD Aprox por tipo de propiedad y Zona**"
   ]
  },
  {
   "cell_type": "code",
   "execution_count": null,
   "metadata": {},
   "outputs": [],
   "source": [
    "#Version plana de Revision de outliers de Precio USD Aprox\n",
    "\n",
    "df=df_rebuilt_v4.groupby(['property_type','state_name'])['price_aprox_usd']\n",
    "\n",
    "UR_limit=pd.DataFrame((df.quantile(0.75))+((df.quantile(0.75)-df.quantile(0.25))*1.5))\n",
    "LR_limit=pd.DataFrame((df.quantile(0.05)))\n",
    "    \n",
    "UR_limit.columns=[\"UR_limit_USD\"]\n",
    "LR_limit.columns=[\"LR_limit_USD\"]\n",
    "\n",
    "\n",
    "df_rebuilt_v4=df_rebuilt_v4.merge(right=UR_limit, on=(['property_type','state_name']))\n",
    "df_rebuilt_v4=df_rebuilt_v4.merge(right=LR_limit, on=(['property_type','state_name']))\n",
    "\n"
   ]
  },
  {
   "cell_type": "code",
   "execution_count": null,
   "metadata": {},
   "outputs": [],
   "source": [
    "#Detecto los outliers\n",
    "\n",
    "mask_out=(df_rebuilt_v4['price_aprox_usd']>df_rebuilt_v4['UR_limit_USD'])|((df_rebuilt_v4['price_aprox_usd']<df_rebuilt_v4['LR_limit_USD']))\n"
   ]
  },
  {
   "cell_type": "code",
   "execution_count": null,
   "metadata": {},
   "outputs": [],
   "source": [
    "#Elimino los Outliers de Precio USD Aprox\n",
    "df_rebuilt_v5=df_rebuilt_v4.loc[~mask_out]\n",
    "\n",
    "print(\"El DF tiene\",df_rebuilt_v4.shape[0],\"registros antes de la eliminacion de outliers\")\n",
    "print(\"Los outliers son\",df_rebuilt_v4.loc[mask_out].shape[0],\"registros \")\n",
    "print(\"El DF tiene\",df_rebuilt_v5.shape[0],\"registros despues de la eliminacion de outliers\")"
   ]
  },
  {
   "cell_type": "code",
   "execution_count": null,
   "metadata": {},
   "outputs": [],
   "source": [
    "sns.boxplot(x = df_rebuilt_v5['price_aprox_usd'])"
   ]
  },
  {
   "cell_type": "code",
   "execution_count": null,
   "metadata": {},
   "outputs": [],
   "source": [
    "sns.distplot(df_rebuilt_v5['price_aprox_usd'])"
   ]
  },
  {
   "cell_type": "markdown",
   "metadata": {},
   "source": [
    "  "
   ]
  },
  {
   "cell_type": "markdown",
   "metadata": {},
   "source": [
    "**Buscamos los Outliers de Precio USD M2 por tipo de propiedad y Zona**"
   ]
  },
  {
   "cell_type": "markdown",
   "metadata": {},
   "source": [
    "**Aplicamos la Division a todos los Registros Price USD M2**"
   ]
  },
  {
   "cell_type": "code",
   "execution_count": null,
   "metadata": {},
   "outputs": [],
   "source": [
    "Price_USD_M2_Cal=df_rebuilt_v5.apply(lambda x: 0 if x['surface_total_in_m2']==0 else x['price_aprox_usd'] / x['surface_total_in_m2'],axis=1)\n",
    "df_rebuilt_v5['price_usd_per_m2']=Price_USD_M2_Cal\n"
   ]
  },
  {
   "cell_type": "markdown",
   "metadata": {},
   "source": [
    "**Calculamos Outliers en Price USD M2**"
   ]
  },
  {
   "cell_type": "code",
   "execution_count": null,
   "metadata": {},
   "outputs": [],
   "source": [
    "#Version plana de Revision de outliers de Precio USD M2\n",
    "\n",
    "df=df_rebuilt_v5.groupby(['property_type','state_name'])['price_usd_per_m2']\n",
    "\n",
    "UR_limit=pd.DataFrame((df.quantile(0.75))+((df.quantile(0.75)-df.quantile(0.25))*1.5))\n",
    "LR_limit=pd.DataFrame((df.quantile(0.05)))\n",
    "    \n",
    "UR_limit.columns=[\"UR_limit_USDM2\"]\n",
    "LR_limit.columns=[\"LR_limit_USDM2\"]\n",
    "\n",
    "\n",
    "df_rebuilt_v5=df_rebuilt_v5.merge(right=UR_limit, on=(['property_type','state_name']))\n",
    "df_rebuilt_v5=df_rebuilt_v5.merge(right=LR_limit, on=(['property_type','state_name']))\n",
    "\n"
   ]
  },
  {
   "cell_type": "code",
   "execution_count": null,
   "metadata": {},
   "outputs": [],
   "source": [
    "#Detecto los outliers\n",
    "listCol=['property_type','state_name','price_aprox_usd','ad_price_aprox_usd_title','ad_price_aprox_usd_descrip',\\\n",
    "         'UR_limit_USDM2','surface_total_in_m2','description','title']\n",
    "mask_out=(df_rebuilt_v5['price_usd_per_m2']>df_rebuilt_v5['UR_limit_USDM2'])|(df_rebuilt_v5['price_usd_per_m2']<df_rebuilt_v5['LR_limit_USDM2'])\n",
    "# df_rebuilt_v5.loc[mask_out,['property_type','state_name','price_usd_per_m2','UR_limit_USDM2','UR_limit_USDM2']].to_excel('usdM2.xlsx')"
   ]
  },
  {
   "cell_type": "code",
   "execution_count": null,
   "metadata": {},
   "outputs": [],
   "source": [
    "#Elimino los Outliers de Precio USD M2\n",
    "df_rebuilt_v6=df_rebuilt_v5.loc[~mask_out]\n",
    "\n",
    "print(\"El DF tiene\",df_rebuilt_v5.shape[0],\"registros antes de la eliminacion de outliers\")\n",
    "print(\"Los outliers son\",df_rebuilt_v5.loc[mask_out].shape[0],\"registros \")\n",
    "print(\"El DF tiene\",df_rebuilt_v6.shape[0],\"registros despues de la eliminacion de outliers\")"
   ]
  },
  {
   "cell_type": "code",
   "execution_count": null,
   "metadata": {},
   "outputs": [],
   "source": [
    "sns.boxplot(x = df_rebuilt_v6['price_usd_per_m2'])"
   ]
  },
  {
   "cell_type": "code",
   "execution_count": null,
   "metadata": {},
   "outputs": [],
   "source": [
    "sns.distplot(df_rebuilt_v6['price_usd_per_m2'])"
   ]
  },
  {
   "cell_type": "markdown",
   "metadata": {},
   "source": [
    "## Variables no Numericas"
   ]
  },
  {
   "cell_type": "markdown",
   "metadata": {},
   "source": [
    "### Campos No Numericos"
   ]
  },
  {
   "cell_type": "markdown",
   "metadata": {},
   "source": [
    "**Campos Categoricos**"
   ]
  },
  {
   "cell_type": "markdown",
   "metadata": {},
   "source": [
    "Existen campos que deben ser considerados Categorical, como ser:\n",
    "1. Property_type\n",
    "2. State Name"
   ]
  },
  {
   "cell_type": "code",
   "execution_count": null,
   "metadata": {},
   "outputs": [],
   "source": [
    "df_rebuilt_v6['property_type']=df_rebuilt_v6['property_type'].astype('category')\n",
    "df_rebuilt_v6['state_name']=df_rebuilt_v6['state_name'].astype('category')"
   ]
  },
  {
   "cell_type": "markdown",
   "metadata": {},
   "source": [
    "**Campo Place Name y State Name**"
   ]
  },
  {
   "cell_type": "markdown",
   "metadata": {},
   "source": [
    "**Usando str.split crearemos campos control para poder contrastar contra los originales**"
   ]
  },
  {
   "cell_type": "code",
   "execution_count": null,
   "metadata": {},
   "outputs": [],
   "source": [
    "df_rebuilt_v6[['eliminar','ad_country','ad_state_name','ad_place_name3','ad_place_name_4']]=df_rebuilt_v6['place_with_parent_names'].str.split('|',expand=True,n=4)    \n"
   ]
  },
  {
   "cell_type": "code",
   "execution_count": null,
   "metadata": {},
   "outputs": [],
   "source": [
    "# df_rebuilt_v5[['place_with_parent_names','eliminar','ad_country','ad_state_name','ad_place_name3','ad_place_name_4','place_name']].to_excel('state.xlsx')"
   ]
  },
  {
   "cell_type": "markdown",
   "metadata": {},
   "source": [
    "Verificamos que State name este correcto"
   ]
  },
  {
   "cell_type": "code",
   "execution_count": null,
   "metadata": {},
   "outputs": [],
   "source": [
    "#State name es igual al que esta en el campo concatenado\n",
    "#Copiamos el DF a uno nuevo\n",
    "dfv5=df_rebuilt_v6.copy()\n",
    "print(\"Son Iguales los campos State Name con los valores del parent field ?\",all(dfv5['ad_state_name']==dfv5['state_name']))"
   ]
  },
  {
   "cell_type": "markdown",
   "metadata": {},
   "source": [
    "Hacemos lo mismo con Place Name"
   ]
  },
  {
   "cell_type": "code",
   "execution_count": null,
   "metadata": {},
   "outputs": [],
   "source": [
    "print(\"Son Iguales los campos place Name con los valores del parent field ?\",all(dfv5['ad_place_name3']==dfv5['place_name']))"
   ]
  },
  {
   "cell_type": "code",
   "execution_count": null,
   "metadata": {},
   "outputs": [],
   "source": [
    "#vemos donde esta la diferencia\n",
    "#mascara de la diferencia entre las dos columnas\n",
    "mask_diff=(dfv5['ad_place_name3']!=dfv5['place_name'])\n",
    "#aplico el cambio\n",
    "dfv5.loc[mask_diff,['place_name']]=dfv5['ad_place_name3']"
   ]
  },
  {
   "cell_type": "code",
   "execution_count": null,
   "metadata": {},
   "outputs": [],
   "source": [
    "all(mask_diff)"
   ]
  },
  {
   "cell_type": "markdown",
   "metadata": {},
   "source": [
    "Volvemos a Controlar"
   ]
  },
  {
   "cell_type": "code",
   "execution_count": null,
   "metadata": {},
   "outputs": [],
   "source": [
    "print(\"Son Iguales los campos place Name con los valores del parent field ?\",all(dfv5['ad_place_name3']==dfv5['place_name']))"
   ]
  },
  {
   "cell_type": "markdown",
   "metadata": {},
   "source": [
    "Eliminamos los campos de Control"
   ]
  },
  {
   "cell_type": "code",
   "execution_count": null,
   "metadata": {},
   "outputs": [],
   "source": [
    "dfv5.drop(columns=['ad_place_name_4','ad_place_name3','ad_state_name','ad_country','ad_price_aprox_usd_title',\\\n",
    "                   'ad_price_aprox_usd_descrip','ad_surface_m2_title','ad_surface_m2_descrip','UR_limit_USD','UR_limit_M2','LR_limit_USD','LR_limit_M2','currency','floor','eliminar'],inplace=True)"
   ]
  },
  {
   "cell_type": "code",
   "execution_count": null,
   "metadata": {},
   "outputs": [],
   "source": [
    "Summary(dfv5.select_dtypes(exclude=float))"
   ]
  },
  {
   "cell_type": "code",
   "execution_count": null,
   "metadata": {},
   "outputs": [],
   "source": [
    "Summary(dfv5.select_dtypes(include=float))"
   ]
  },
  {
   "cell_type": "code",
   "execution_count": null,
   "metadata": {},
   "outputs": [],
   "source": [
    "listColum=['property_type','place_name','state_name','price_usd_per_m2','price_aprox_usd','surface_total_in_m2','rooms']\n",
    "Summary(dfv5[listColum])"
   ]
  },
  {
   "cell_type": "markdown",
   "metadata": {},
   "source": [
    "**Campo Rooms**"
   ]
  },
  {
   "cell_type": "markdown",
   "metadata": {},
   "source": [
    "Vamos a Revisar si existe forma de capturar datos de Descripcion"
   ]
  },
  {
   "cell_type": "markdown",
   "metadata": {},
   "source": [
    "**Capturo datos desde Description**"
   ]
  },
  {
   "cell_type": "code",
   "execution_count": null,
   "metadata": {},
   "outputs": [],
   "source": [
    "#Creo una mascara para capturar los valores de Rooms\n",
    "\n",
    "Mask_Rooms=dfv5['description'].str.extract('(?P<rooms>\\d)(\\s*?)(amb|ambiente|ambientes|habitaciones|dormitorios|piezas)')['rooms'].astype(float)\n",
    "\n",
    "#Compruebo la cantidad de campos que se podrian llenar (no nulos del campo nuevo y nulos del campo Rooms)\n",
    "\n",
    "mask=(Mask_Rooms.notnull())&(dfv5['rooms'].isnull())\n",
    "\n",
    "print(\"Existen\",dfv5.loc[mask,:].shape[0],\"registros que pueden ser imputados desde description\")\n"
   ]
  },
  {
   "cell_type": "code",
   "execution_count": null,
   "metadata": {},
   "outputs": [],
   "source": [
    "#Hacemos la imputacion para llenar los campos de Price USD aprox\n",
    "\n",
    "#creo Campo de seguimiento\n",
    "dfv5['ad_Rooms_descrip']=Mask_Rooms \n",
    "#Realizo la imputacion\n",
    "dfv5['rooms'].fillna(value=Mask_Rooms,axis=0,inplace=True)\n",
    "#Controlamos si se hizo correctamente\n",
    "mask=(Mask_Rooms.notnull())&(dfv5['rooms'].isnull())\n",
    "print(\"Existen\",dfv5.loc[mask,:].shape[0],\"registros que pueden ser imputados desde description\")\n",
    "\n"
   ]
  },
  {
   "cell_type": "markdown",
   "metadata": {},
   "source": [
    "**Capturo datos desde title**"
   ]
  },
  {
   "cell_type": "code",
   "execution_count": null,
   "metadata": {},
   "outputs": [],
   "source": [
    "#Creo una mascara para capturar los valores de Rooms\n",
    "\n",
    "Mask_Rooms=dfv5['title'].str.extract('(?P<rooms>\\d)(\\s*?)(amb|ambiente|ambientes|habitaciones|dormitorios|piezas)')['rooms'].astype(float)\n",
    "\n",
    "\n",
    "#Compruebo la cantidad de campos que se podrian llenar (no nulos del campo nuevo y nulos del campo Rooms)\n",
    "\n",
    "mask=(Mask_Rooms.notnull())&(dfv5['rooms'].isnull())\n",
    "\n",
    "print(\"Existen\",dfv5.loc[mask,:].shape[0],\"registros que pueden ser imputados desde title\")\n"
   ]
  },
  {
   "cell_type": "code",
   "execution_count": null,
   "metadata": {},
   "outputs": [],
   "source": [
    "#Hacemos la imputacion para llenar los campos de Price USD aprox\n",
    "\n",
    "#creo Campo de seguimiento\n",
    "dfv5['ad_Rooms_title']=Mask_Rooms \n",
    "#Realizo la imputacion\n",
    "dfv5['rooms'].fillna(value=Mask_Rooms,axis=0,inplace=True)\n",
    "#Controlamos si se hizo correctamente\n",
    "mask=(Mask_Rooms.notnull())&(dfv5['rooms'].isnull())\n",
    "print(\"Existen\",dfv5.loc[mask,:].shape[0],\"registros que pueden ser imputados desde title\")\n",
    "\n"
   ]
  },
  {
   "cell_type": "code",
   "execution_count": null,
   "metadata": {},
   "outputs": [],
   "source": [
    "#eliminamos campos de control\n",
    "dfv5.drop(columns=['ad_Rooms_descrip','ad_Rooms_title'],inplace=True)"
   ]
  },
  {
   "cell_type": "markdown",
   "metadata": {},
   "source": [
    "**Eliminamos Outliers de Rooms**"
   ]
  },
  {
   "cell_type": "code",
   "execution_count": null,
   "metadata": {},
   "outputs": [],
   "source": [
    "#Version plana de Revision de outliers de Rooms\n",
    "\n",
    "df=dfv5.groupby(['property_type','state_name'])['rooms']\n",
    "\n",
    "UR_limit=pd.DataFrame((df.quantile(0.75))+((df.quantile(0.75)-df.quantile(0.25))*1.5))\n",
    "LR_limit=pd.DataFrame((df.quantile(0.05)))\n",
    "    \n",
    "UR_limit.columns=[\"UR_limit_rooms\"]\n",
    "LR_limit.columns=[\"LR_limit_rooms\"]\n",
    "\n",
    "\n",
    "dfv5=dfv5.merge(right=UR_limit, on=(['property_type','state_name']))\n",
    "dfv5=dfv5.merge(right=LR_limit, on=(['property_type','state_name']))\n",
    "\n"
   ]
  },
  {
   "cell_type": "code",
   "execution_count": null,
   "metadata": {},
   "outputs": [],
   "source": [
    "#Detecto los outliers\n",
    "listCol=['property_type','state_name','rooms','UR_limit_rooms','LR_limit_rooms']\n",
    "\n",
    "mask_out=(dfv5['rooms']>dfv5['UR_limit_rooms'])|(dfv5['rooms']<dfv5['LR_limit_rooms'])\n",
    "\n",
    "dfv5.loc[mask_out,['property_type','state_name','rooms','UR_limit_rooms','LR_limit_rooms']].to_excel('rooms.xlsx')"
   ]
  },
  {
   "cell_type": "code",
   "execution_count": null,
   "metadata": {},
   "outputs": [],
   "source": [
    "#Elimino los Outliers de Precio USD M2\n",
    "dfv6=dfv5.loc[~mask_out]\n",
    "\n",
    "print(\"El DF tiene\",dfv5.shape[0],\"registros antes de la eliminacion de outliers\")\n",
    "print(\"Los outliers son\",dfv5.loc[mask_out].shape[0],\"registros \")\n",
    "print(\"El DF tiene\",dfv6.shape[0],\"registros despues de la eliminacion de outliers\")\n"
   ]
  },
  {
   "cell_type": "code",
   "execution_count": null,
   "metadata": {},
   "outputs": [],
   "source": [
    "dfv6.drop(columns=['UR_limit_rooms','LR_limit_USDM2','LR_limit_rooms','UR_limit_USDM2'],inplace=True)"
   ]
  },
  {
   "cell_type": "code",
   "execution_count": null,
   "metadata": {},
   "outputs": [],
   "source": [
    "dfv6['price_usd_per_m2'].isnull().sum()"
   ]
  },
  {
   "cell_type": "code",
   "execution_count": null,
   "metadata": {},
   "outputs": [],
   "source": [
    "dfv6['price_usd_per_m2'].describe()"
   ]
  },
  {
   "cell_type": "markdown",
   "metadata": {},
   "source": [
    "### Completamos faltantes con la media"
   ]
  },
  {
   "cell_type": "code",
   "execution_count": null,
   "metadata": {},
   "outputs": [],
   "source": [
    "dfv7 = dfv6.copy()\n",
    "#dfv7_group = dfv7.groupby([\"property_type\", \"state_name\", \"place_name\"])\n",
    "#dfv7['price_usd_per_m2'] = dfv7_group[\"price_usd_per_m2\"].transform(lambda grp: grp.fillna(grp.mean()))\n",
    "#dfv7['price_aprox_usd'] = dfv7_group[\"price_aprox_usd\"].transform(lambda grp: grp.fillna(grp.mean()))\n",
    "#dfv7['surface_total_in_m2'] = dfv7_group[\"surface_total_in_m2\"].transform(lambda grp: grp.fillna(grp.mean()))\n"
   ]
  },
  {
   "cell_type": "code",
   "execution_count": null,
   "metadata": {},
   "outputs": [],
   "source": [
    "#dfv7.price_usd_per_m2.isnull().sum()"
   ]
  },
  {
   "cell_type": "code",
   "execution_count": null,
   "metadata": {},
   "outputs": [],
   "source": [
    "#dfv7['price_usd_per_m2'].describe()"
   ]
  },
  {
   "cell_type": "code",
   "execution_count": null,
   "metadata": {},
   "outputs": [],
   "source": [
    "Summary(dfv6)"
   ]
  },
  {
   "cell_type": "markdown",
   "metadata": {},
   "source": [
    "## Generamos un csv Limpio para Relaciones y Graficos"
   ]
  },
  {
   "cell_type": "markdown",
   "metadata": {},
   "source": [
    "### Borramos Nulos"
   ]
  },
  {
   "cell_type": "code",
   "execution_count": null,
   "metadata": {},
   "outputs": [],
   "source": [
    "dfv8 = dfv7.copy()\n",
    "#mask = , 'price_aprox_usd', 'surface_total_in_m2'\n",
    "#subset=['name', 'born']\n",
    "#subset=['name', 'born']\n",
    "\n",
    "dfv8.dropna(subset=['price_usd_per_m2','price_aprox_usd', 'surface_total_in_m2'], inplace=True, axis=0)\n",
    "dfv8.shape"
   ]
  },
  {
   "cell_type": "code",
   "execution_count": null,
   "metadata": {},
   "outputs": [],
   "source": [
    "dfv7.shape"
   ]
  },
  {
   "cell_type": "code",
   "execution_count": null,
   "metadata": {},
   "outputs": [],
   "source": [
    "dfv7['price_aprox_usd'].isnull().sum()"
   ]
  },
  {
   "cell_type": "code",
   "execution_count": null,
   "metadata": {},
   "outputs": [],
   "source": [
    "dfv7['surface_total_in_m2'].isnull().sum()"
   ]
  },
  {
   "cell_type": "markdown",
   "metadata": {},
   "source": [
    "## Agregamos Amenities"
   ]
  },
  {
   "cell_type": "code",
   "execution_count": null,
   "metadata": {},
   "outputs": [],
   "source": [
    "dfv8['parrilla']=dfv8['description'].str.extract('(parrilla)').replace('parrilla', 1).astype(float)\n",
    "dfv8['pileta']=dfv8['description'].str.extract('(pileta)').replace('pileta', 1).astype(float)\n",
    "dfv8['cochera']=dfv8['description'].str.extract('(cochera)').replace('cochera', 1).astype(float)\n",
    "dfv8['gimnasio']=dfv8['description'].str.extract('(gimnasio)').replace('gimnasio', 1).astype(float)\n",
    "\n",
    "dfv8['cant_amenities'] = dfv8['parrilla'].fillna(0) + dfv8['pileta'].fillna(0) + dfv8['cochera'].fillna(0) + dfv8['gimnasio'].fillna(0)\n",
    "dfv8['cant_amenities'].value_counts()"
   ]
  },
  {
   "cell_type": "markdown",
   "metadata": {},
   "source": [
    "**Generacion del csv limpio**"
   ]
  },
  {
   "cell_type": "code",
   "execution_count": null,
   "metadata": {},
   "outputs": [],
   "source": [
    "dfv8.to_csv(\"../Data/properati_clean.csv\",sep=',')"
   ]
  },
  {
   "cell_type": "code",
   "execution_count": null,
   "metadata": {},
   "outputs": [],
   "source": [
    "Summary(dfv8)"
   ]
  },
  {
   "cell_type": "code",
   "execution_count": null,
   "metadata": {},
   "outputs": [],
   "source": []
  },
  {
   "cell_type": "code",
   "execution_count": null,
   "metadata": {},
   "outputs": [],
   "source": []
  },
  {
   "cell_type": "markdown",
   "metadata": {},
   "source": [
    "### Usando profiling"
   ]
  },
  {
   "cell_type": "code",
   "execution_count": null,
   "metadata": {},
   "outputs": [],
   "source": [
    "prof=ProfileReport(dfv8,title='properati Report v8')\n",
    "prof.to_file(output_file='output_dfv8.html')"
   ]
  },
  {
   "cell_type": "code",
   "execution_count": null,
   "metadata": {},
   "outputs": [],
   "source": [
    "# prof=ProfileReport(data,title='properati Report v1')\n",
    "# prof.to_file(output_file='output_data.html')"
   ]
  },
  {
   "cell_type": "code",
   "execution_count": null,
   "metadata": {},
   "outputs": [],
   "source": [
    "#prof=ProfileReport(dfv6,title='properati Report v7')\n",
    "#prof.to_file(output_file='output_dfv7.html')"
   ]
  },
  {
   "cell_type": "code",
   "execution_count": null,
   "metadata": {},
   "outputs": [],
   "source": []
  },
  {
   "cell_type": "code",
   "execution_count": null,
   "metadata": {},
   "outputs": [],
   "source": []
  }
 ],
 "metadata": {
  "kernelspec": {
   "display_name": "Python 3",
   "language": "python",
   "name": "python3"
  },
  "language_info": {
   "codemirror_mode": {
    "name": "ipython",
    "version": 3
   },
   "file_extension": ".py",
   "mimetype": "text/x-python",
   "name": "python",
   "nbconvert_exporter": "python",
   "pygments_lexer": "ipython3",
   "version": "3.8.5"
  }
 },
 "nbformat": 4,
 "nbformat_minor": 4
}
